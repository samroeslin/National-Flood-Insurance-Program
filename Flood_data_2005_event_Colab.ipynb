{
  "nbformat": 4,
  "nbformat_minor": 0,
  "metadata": {
    "kernelspec": {
      "display_name": "Python 3",
      "language": "python",
      "name": "python3"
    },
    "language_info": {
      "codemirror_mode": {
        "name": "ipython",
        "version": 3
      },
      "file_extension": ".py",
      "mimetype": "text/x-python",
      "name": "python",
      "nbconvert_exporter": "python",
      "pygments_lexer": "ipython3",
      "version": "3.8.6"
    },
    "colab": {
      "name": "Flood_data_2005_event-Colab.ipynb",
      "provenance": [],
      "collapsed_sections": [
        "NaqvoGfWRVwY",
        "_EybTmxhRVw4"
      ],
      "toc_visible": true,
      "include_colab_link": true
    }
  },
  "cells": [
    {
      "cell_type": "markdown",
      "metadata": {
        "id": "view-in-github",
        "colab_type": "text"
      },
      "source": [
        "<a href=\"https://colab.research.google.com/github/samroeslin/National-Flood-Insurance-Program/blob/develop/Flood_data_2005_event_Colab.ipynb\" target=\"_parent\"><img src=\"https://colab.research.google.com/assets/colab-badge.svg\" alt=\"Open In Colab\"/></a>"
      ]
    },
    {
      "cell_type": "markdown",
      "metadata": {
        "id": "Z7LvH3mmRVvS"
      },
      "source": [
        "# Exploration of FEMA National Flood Insurance Program (NFIP) data"
      ]
    },
    {
      "cell_type": "code",
      "metadata": {
        "id": "wt0Z9r5xRqF-",
        "colab": {
          "base_uri": "https://localhost:8080/"
        },
        "outputId": "cf10bbbc-8a1d-4567-88f8-a016994a2216"
      },
      "source": [
        "from google.colab import drive\n",
        "drive.mount('/content/drive')"
      ],
      "execution_count": 14,
      "outputs": [
        {
          "output_type": "stream",
          "text": [
            "Mounted at /content/drive\n"
          ],
          "name": "stdout"
        }
      ]
    },
    {
      "cell_type": "code",
      "metadata": {
        "id": "6wI0DuuzRVvw",
        "colab": {
          "base_uri": "https://localhost:8080/"
        },
        "outputId": "8ddb5e67-8fdb-43a2-dc20-5946d253c16f"
      },
      "source": [
        "# Python 3\n",
        "import sys\n",
        "assert sys.version_info >= (3, 5)\n",
        "\n",
        "# Common imports\n",
        "import os\n",
        "import numpy as np\n",
        "import pandas as pd\n",
        "#pd.set_option('float_format', '{:f}'.format)\n",
        "#pd.options.display.float_format = \"{:.2f}\".format\n",
        "\n",
        "import matplotlib.pyplot as plt\n",
        "import matplotlib\n",
        "from matplotlib import colors\n",
        "%matplotlib inline\n",
        "\n",
        "# from functools import reduce\n",
        "# import itertools\n",
        "\n",
        "import seaborn as sns\n",
        "sns.set(style=\"ticks\", color_codes=True)\n",
        "\n",
        "import missingno as msno\n",
        "\n",
        "print('numpy version:', np.__version__)\n",
        "print('pandas version:', pd.__version__)\n",
        "print('matplotlib version:', matplotlib.__version__)\n",
        "print('seaborn version:', sns.__version__)\n",
        "print('missingno version:', msno.__version__)\n",
        "# print('scikit-learn version:', sklearn.__version__)"
      ],
      "execution_count": 15,
      "outputs": [
        {
          "output_type": "stream",
          "text": [
            "numpy version: 1.19.5\n",
            "pandas version: 1.1.5\n",
            "matplotlib version: 3.2.2\n",
            "seaborn version: 0.11.1\n",
            "missingno version: 0.4.2\n"
          ],
          "name": "stdout"
        }
      ]
    },
    {
      "cell_type": "markdown",
      "metadata": {
        "id": "YnJlpN3SRVvz"
      },
      "source": [
        "# Data\n",
        "\n",
        "Data obtained from [OpenFEMA Dataset: FIMA NFIP Redacted Claims](https://www.fema.gov/openfema-data-page/fima-nfip-redacted-claims)\n",
        "\n",
        "For more information on flood insurance and the National Flood Insurance Program (NFIP) see https://www.fema.gov/flood-insurance"
      ]
    },
    {
      "cell_type": "code",
      "metadata": {
        "id": "_Ytf-x8uRVv0",
        "colab": {
          "base_uri": "https://localhost:8080/"
        },
        "outputId": "8918b917-5f1a-48bf-8ca2-c7438fdae4d2"
      },
      "source": [
        "# Import data\n",
        "df_raw = pd.read_csv('/content/drive/MyDrive/Data_Science/FEMA_NFIP/FIMA_NFIP_Redacted_Claims-v1.csv') #On Google Colab UoA\n",
        "#df_raw = pd.read_csv('/homevol/sroe459/Data/FEMA/FIMA_NFIP_Redacted_Claims-v1.csv') #on VM"
      ],
      "execution_count": 16,
      "outputs": [
        {
          "output_type": "stream",
          "text": [
            "/usr/local/lib/python3.7/dist-packages/IPython/core/interactiveshell.py:2718: DtypeWarning: Columns (31) have mixed types.Specify dtype option on import or set low_memory=False.\n",
            "  interactivity=interactivity, compiler=compiler, result=result)\n"
          ],
          "name": "stderr"
        }
      ]
    },
    {
      "cell_type": "code",
      "metadata": {
        "id": "6MUhX-3nRVv1",
        "colab": {
          "base_uri": "https://localhost:8080/"
        },
        "outputId": "3c5b5449-1330-45de-fca5-c39400c6ed3d"
      },
      "source": [
        "df_raw.info()"
      ],
      "execution_count": 17,
      "outputs": [
        {
          "output_type": "stream",
          "text": [
            "<class 'pandas.core.frame.DataFrame'>\n",
            "RangeIndex: 2495983 entries, 0 to 2495982\n",
            "Data columns (total 40 columns):\n",
            " #   Column                                      Dtype  \n",
            "---  ------                                      -----  \n",
            " 0   agricultureStructureIndicator               float64\n",
            " 1   asOfDate                                    object \n",
            " 2   baseFloodElevation                          float64\n",
            " 3   basementEnclosureCrawlspace                 float64\n",
            " 4   reportedCity                                object \n",
            " 5   condominiumIndicator                        object \n",
            " 6   policyCount                                 float64\n",
            " 7   countyCode                                  float64\n",
            " 8   communityRatingSystemDiscount               float64\n",
            " 9   dateOfLoss                                  object \n",
            " 10  elevatedBuildingIndicator                   float64\n",
            " 11  elevationCertificateIndicator               float64\n",
            " 12  elevationDifference                         float64\n",
            " 13  censusTract                                 float64\n",
            " 14  floodZone                                   object \n",
            " 15  houseWorship                                float64\n",
            " 16  latitude                                    float64\n",
            " 17  longitude                                   float64\n",
            " 18  locationOfContents                          float64\n",
            " 19  lowestAdjacentGrade                         float64\n",
            " 20  lowestFloorElevation                        float64\n",
            " 21  numberOfFloorsInTheInsuredBuilding          float64\n",
            " 22  nonProfitIndicator                          float64\n",
            " 23  obstructionType                             float64\n",
            " 24  occupancyType                               float64\n",
            " 25  originalConstructionDate                    object \n",
            " 26  originalNBDate                              object \n",
            " 27  amountPaidOnBuildingClaim                   float64\n",
            " 28  amountPaidOnContentsClaim                   float64\n",
            " 29  amountPaidOnIncreasedCostOfComplianceClaim  float64\n",
            " 30  postFIRMConstructionIndicator               float64\n",
            " 31  rateMethod                                  object \n",
            " 32  smallBusinessIndicatorBuilding              float64\n",
            " 33  state                                       object \n",
            " 34  totalBuildingInsuranceCoverage              float64\n",
            " 35  totalContentsInsuranceCoverage              float64\n",
            " 36  yearOfLoss                                  int64  \n",
            " 37  reportedZipcode                             float64\n",
            " 38  primaryResidence                            float64\n",
            " 39  id                                          object \n",
            "dtypes: float64(29), int64(1), object(10)\n",
            "memory usage: 761.7+ MB\n"
          ],
          "name": "stdout"
        }
      ]
    },
    {
      "cell_type": "code",
      "metadata": {
        "id": "ZnPR-Pi2RVv2",
        "colab": {
          "base_uri": "https://localhost:8080/"
        },
        "outputId": "53e1569b-ff89-4d29-c244-914cc9ff79bf"
      },
      "source": [
        "# Shape\n",
        "nRow, nCol = df_raw.shape\n",
        "nRow = '{:,.0f}'.format(nRow)\n",
        "print(f'There are {nRow} rows and {nCol} columns')"
      ],
      "execution_count": 18,
      "outputs": [
        {
          "output_type": "stream",
          "text": [
            "There are 2,495,983 rows and 40 columns\n"
          ],
          "name": "stdout"
        }
      ]
    },
    {
      "cell_type": "code",
      "metadata": {
        "id": "NHiljs0yRVv3",
        "colab": {
          "base_uri": "https://localhost:8080/",
          "height": 549
        },
        "outputId": "33fd35f9-06f9-4868-ca66-d89d2609391c"
      },
      "source": [
        "with pd.option_context('display.max_columns', 100):\n",
        "    display(df_raw.head(10))"
      ],
      "execution_count": 19,
      "outputs": [
        {
          "output_type": "display_data",
          "data": {
            "text/html": [
              "<div>\n",
              "<style scoped>\n",
              "    .dataframe tbody tr th:only-of-type {\n",
              "        vertical-align: middle;\n",
              "    }\n",
              "\n",
              "    .dataframe tbody tr th {\n",
              "        vertical-align: top;\n",
              "    }\n",
              "\n",
              "    .dataframe thead th {\n",
              "        text-align: right;\n",
              "    }\n",
              "</style>\n",
              "<table border=\"1\" class=\"dataframe\">\n",
              "  <thead>\n",
              "    <tr style=\"text-align: right;\">\n",
              "      <th></th>\n",
              "      <th>agricultureStructureIndicator</th>\n",
              "      <th>asOfDate</th>\n",
              "      <th>baseFloodElevation</th>\n",
              "      <th>basementEnclosureCrawlspace</th>\n",
              "      <th>reportedCity</th>\n",
              "      <th>condominiumIndicator</th>\n",
              "      <th>policyCount</th>\n",
              "      <th>countyCode</th>\n",
              "      <th>communityRatingSystemDiscount</th>\n",
              "      <th>dateOfLoss</th>\n",
              "      <th>elevatedBuildingIndicator</th>\n",
              "      <th>elevationCertificateIndicator</th>\n",
              "      <th>elevationDifference</th>\n",
              "      <th>censusTract</th>\n",
              "      <th>floodZone</th>\n",
              "      <th>houseWorship</th>\n",
              "      <th>latitude</th>\n",
              "      <th>longitude</th>\n",
              "      <th>locationOfContents</th>\n",
              "      <th>lowestAdjacentGrade</th>\n",
              "      <th>lowestFloorElevation</th>\n",
              "      <th>numberOfFloorsInTheInsuredBuilding</th>\n",
              "      <th>nonProfitIndicator</th>\n",
              "      <th>obstructionType</th>\n",
              "      <th>occupancyType</th>\n",
              "      <th>originalConstructionDate</th>\n",
              "      <th>originalNBDate</th>\n",
              "      <th>amountPaidOnBuildingClaim</th>\n",
              "      <th>amountPaidOnContentsClaim</th>\n",
              "      <th>amountPaidOnIncreasedCostOfComplianceClaim</th>\n",
              "      <th>postFIRMConstructionIndicator</th>\n",
              "      <th>rateMethod</th>\n",
              "      <th>smallBusinessIndicatorBuilding</th>\n",
              "      <th>state</th>\n",
              "      <th>totalBuildingInsuranceCoverage</th>\n",
              "      <th>totalContentsInsuranceCoverage</th>\n",
              "      <th>yearOfLoss</th>\n",
              "      <th>reportedZipcode</th>\n",
              "      <th>primaryResidence</th>\n",
              "      <th>id</th>\n",
              "    </tr>\n",
              "  </thead>\n",
              "  <tbody>\n",
              "    <tr>\n",
              "      <th>0</th>\n",
              "      <td>0.0</td>\n",
              "      <td>2020-11-01T23:58:45.858Z</td>\n",
              "      <td>NaN</td>\n",
              "      <td>1.0</td>\n",
              "      <td>DETROIT</td>\n",
              "      <td>N</td>\n",
              "      <td>1.0</td>\n",
              "      <td>26163.0</td>\n",
              "      <td>8.0</td>\n",
              "      <td>2014-08-11T04:00:00.000Z</td>\n",
              "      <td>0.0</td>\n",
              "      <td>NaN</td>\n",
              "      <td>NaN</td>\n",
              "      <td>2.616351e+10</td>\n",
              "      <td>B</td>\n",
              "      <td>0.0</td>\n",
              "      <td>42.4</td>\n",
              "      <td>-82.9</td>\n",
              "      <td>2.0</td>\n",
              "      <td>NaN</td>\n",
              "      <td>NaN</td>\n",
              "      <td>3.0</td>\n",
              "      <td>0.0</td>\n",
              "      <td>NaN</td>\n",
              "      <td>1.0</td>\n",
              "      <td>2040-01-01T05:00:00.000Z</td>\n",
              "      <td>2012-07-19T04:00:00.000Z</td>\n",
              "      <td>3507.13</td>\n",
              "      <td>NaN</td>\n",
              "      <td>NaN</td>\n",
              "      <td>0.0</td>\n",
              "      <td>Q</td>\n",
              "      <td>0.0</td>\n",
              "      <td>MI</td>\n",
              "      <td>250000.0</td>\n",
              "      <td>100000.0</td>\n",
              "      <td>2014</td>\n",
              "      <td>48215.0</td>\n",
              "      <td>1.0</td>\n",
              "      <td>5faad46bad3f68081876d038</td>\n",
              "    </tr>\n",
              "    <tr>\n",
              "      <th>1</th>\n",
              "      <td>0.0</td>\n",
              "      <td>2020-11-01T23:58:45.858Z</td>\n",
              "      <td>NaN</td>\n",
              "      <td>NaN</td>\n",
              "      <td>TRENTON</td>\n",
              "      <td>N</td>\n",
              "      <td>1.0</td>\n",
              "      <td>34021.0</td>\n",
              "      <td>NaN</td>\n",
              "      <td>1999-09-16T04:00:00.000Z</td>\n",
              "      <td>0.0</td>\n",
              "      <td>NaN</td>\n",
              "      <td>NaN</td>\n",
              "      <td>3.402100e+10</td>\n",
              "      <td>A04</td>\n",
              "      <td>0.0</td>\n",
              "      <td>40.2</td>\n",
              "      <td>-74.8</td>\n",
              "      <td>3.0</td>\n",
              "      <td>NaN</td>\n",
              "      <td>NaN</td>\n",
              "      <td>1.0</td>\n",
              "      <td>0.0</td>\n",
              "      <td>10.0</td>\n",
              "      <td>1.0</td>\n",
              "      <td>1950-07-01T04:00:00.000Z</td>\n",
              "      <td>1984-10-06T04:00:00.000Z</td>\n",
              "      <td>6389.31</td>\n",
              "      <td>NaN</td>\n",
              "      <td>NaN</td>\n",
              "      <td>0.0</td>\n",
              "      <td>1</td>\n",
              "      <td>0.0</td>\n",
              "      <td>NJ</td>\n",
              "      <td>166800.0</td>\n",
              "      <td>5900.0</td>\n",
              "      <td>1999</td>\n",
              "      <td>8638.0</td>\n",
              "      <td>1.0</td>\n",
              "      <td>5faad46bad3f68081876d046</td>\n",
              "    </tr>\n",
              "    <tr>\n",
              "      <th>2</th>\n",
              "      <td>0.0</td>\n",
              "      <td>2020-11-01T23:58:45.858Z</td>\n",
              "      <td>NaN</td>\n",
              "      <td>1.0</td>\n",
              "      <td>DETROIT</td>\n",
              "      <td>N</td>\n",
              "      <td>1.0</td>\n",
              "      <td>26163.0</td>\n",
              "      <td>8.0</td>\n",
              "      <td>2016-07-07T04:00:00.000Z</td>\n",
              "      <td>0.0</td>\n",
              "      <td>NaN</td>\n",
              "      <td>NaN</td>\n",
              "      <td>2.616351e+10</td>\n",
              "      <td>B</td>\n",
              "      <td>0.0</td>\n",
              "      <td>42.4</td>\n",
              "      <td>-82.9</td>\n",
              "      <td>2.0</td>\n",
              "      <td>NaN</td>\n",
              "      <td>NaN</td>\n",
              "      <td>3.0</td>\n",
              "      <td>0.0</td>\n",
              "      <td>NaN</td>\n",
              "      <td>1.0</td>\n",
              "      <td>2027-01-01T05:00:00.000Z</td>\n",
              "      <td>2013-01-16T05:00:00.000Z</td>\n",
              "      <td>1638.01</td>\n",
              "      <td>NaN</td>\n",
              "      <td>NaN</td>\n",
              "      <td>0.0</td>\n",
              "      <td>R</td>\n",
              "      <td>0.0</td>\n",
              "      <td>MI</td>\n",
              "      <td>75000.0</td>\n",
              "      <td>30000.0</td>\n",
              "      <td>2016</td>\n",
              "      <td>48215.0</td>\n",
              "      <td>0.0</td>\n",
              "      <td>5faad46bad3f68081876d03f</td>\n",
              "    </tr>\n",
              "    <tr>\n",
              "      <th>3</th>\n",
              "      <td>0.0</td>\n",
              "      <td>2020-11-01T23:58:45.858Z</td>\n",
              "      <td>NaN</td>\n",
              "      <td>2.0</td>\n",
              "      <td>DETROIT</td>\n",
              "      <td>N</td>\n",
              "      <td>1.0</td>\n",
              "      <td>26163.0</td>\n",
              "      <td>8.0</td>\n",
              "      <td>2014-08-11T04:00:00.000Z</td>\n",
              "      <td>0.0</td>\n",
              "      <td>NaN</td>\n",
              "      <td>NaN</td>\n",
              "      <td>2.616351e+10</td>\n",
              "      <td>B</td>\n",
              "      <td>0.0</td>\n",
              "      <td>42.4</td>\n",
              "      <td>-82.9</td>\n",
              "      <td>2.0</td>\n",
              "      <td>NaN</td>\n",
              "      <td>NaN</td>\n",
              "      <td>3.0</td>\n",
              "      <td>0.0</td>\n",
              "      <td>NaN</td>\n",
              "      <td>1.0</td>\n",
              "      <td>2022-01-01T05:00:00.000Z</td>\n",
              "      <td>2012-04-24T04:00:00.000Z</td>\n",
              "      <td>3651.57</td>\n",
              "      <td>NaN</td>\n",
              "      <td>NaN</td>\n",
              "      <td>0.0</td>\n",
              "      <td>Q</td>\n",
              "      <td>0.0</td>\n",
              "      <td>MI</td>\n",
              "      <td>250000.0</td>\n",
              "      <td>100000.0</td>\n",
              "      <td>2014</td>\n",
              "      <td>48215.0</td>\n",
              "      <td>1.0</td>\n",
              "      <td>5faad46bad3f68081876d043</td>\n",
              "    </tr>\n",
              "    <tr>\n",
              "      <th>4</th>\n",
              "      <td>0.0</td>\n",
              "      <td>2020-11-01T23:58:45.858Z</td>\n",
              "      <td>NaN</td>\n",
              "      <td>2.0</td>\n",
              "      <td>DETROIT</td>\n",
              "      <td>N</td>\n",
              "      <td>1.0</td>\n",
              "      <td>26163.0</td>\n",
              "      <td>8.0</td>\n",
              "      <td>2016-07-08T04:00:00.000Z</td>\n",
              "      <td>0.0</td>\n",
              "      <td>NaN</td>\n",
              "      <td>NaN</td>\n",
              "      <td>2.616351e+10</td>\n",
              "      <td>B</td>\n",
              "      <td>0.0</td>\n",
              "      <td>42.4</td>\n",
              "      <td>-82.9</td>\n",
              "      <td>2.0</td>\n",
              "      <td>NaN</td>\n",
              "      <td>NaN</td>\n",
              "      <td>2.0</td>\n",
              "      <td>0.0</td>\n",
              "      <td>NaN</td>\n",
              "      <td>1.0</td>\n",
              "      <td>2047-01-01T05:00:00.000Z</td>\n",
              "      <td>2012-04-26T04:00:00.000Z</td>\n",
              "      <td>3836.59</td>\n",
              "      <td>NaN</td>\n",
              "      <td>NaN</td>\n",
              "      <td>0.0</td>\n",
              "      <td>R</td>\n",
              "      <td>0.0</td>\n",
              "      <td>MI</td>\n",
              "      <td>150000.0</td>\n",
              "      <td>60000.0</td>\n",
              "      <td>2016</td>\n",
              "      <td>48215.0</td>\n",
              "      <td>1.0</td>\n",
              "      <td>5faad46bad3f68081876d036</td>\n",
              "    </tr>\n",
              "    <tr>\n",
              "      <th>5</th>\n",
              "      <td>0.0</td>\n",
              "      <td>2020-11-01T23:58:45.858Z</td>\n",
              "      <td>NaN</td>\n",
              "      <td>2.0</td>\n",
              "      <td>SCRANTON</td>\n",
              "      <td>N</td>\n",
              "      <td>1.0</td>\n",
              "      <td>42069.0</td>\n",
              "      <td>NaN</td>\n",
              "      <td>1985-09-27T04:00:00.000Z</td>\n",
              "      <td>0.0</td>\n",
              "      <td>NaN</td>\n",
              "      <td>NaN</td>\n",
              "      <td>4.206910e+10</td>\n",
              "      <td>A10</td>\n",
              "      <td>0.0</td>\n",
              "      <td>41.4</td>\n",
              "      <td>-75.7</td>\n",
              "      <td>4.0</td>\n",
              "      <td>NaN</td>\n",
              "      <td>NaN</td>\n",
              "      <td>2.0</td>\n",
              "      <td>0.0</td>\n",
              "      <td>10.0</td>\n",
              "      <td>1.0</td>\n",
              "      <td>1950-07-01T04:00:00.000Z</td>\n",
              "      <td>1984-10-05T04:00:00.000Z</td>\n",
              "      <td>3688.00</td>\n",
              "      <td>NaN</td>\n",
              "      <td>NaN</td>\n",
              "      <td>0.0</td>\n",
              "      <td>1</td>\n",
              "      <td>0.0</td>\n",
              "      <td>PA</td>\n",
              "      <td>35000.0</td>\n",
              "      <td>0.0</td>\n",
              "      <td>1985</td>\n",
              "      <td>18508.0</td>\n",
              "      <td>0.0</td>\n",
              "      <td>5faad46bad3f68081876d05b</td>\n",
              "    </tr>\n",
              "    <tr>\n",
              "      <th>6</th>\n",
              "      <td>0.0</td>\n",
              "      <td>2020-11-01T23:58:45.858Z</td>\n",
              "      <td>NaN</td>\n",
              "      <td>1.0</td>\n",
              "      <td>DETROIT</td>\n",
              "      <td>N</td>\n",
              "      <td>1.0</td>\n",
              "      <td>26163.0</td>\n",
              "      <td>8.0</td>\n",
              "      <td>2014-08-11T04:00:00.000Z</td>\n",
              "      <td>0.0</td>\n",
              "      <td>NaN</td>\n",
              "      <td>NaN</td>\n",
              "      <td>2.616351e+10</td>\n",
              "      <td>X</td>\n",
              "      <td>0.0</td>\n",
              "      <td>42.4</td>\n",
              "      <td>-82.9</td>\n",
              "      <td>2.0</td>\n",
              "      <td>NaN</td>\n",
              "      <td>NaN</td>\n",
              "      <td>3.0</td>\n",
              "      <td>0.0</td>\n",
              "      <td>NaN</td>\n",
              "      <td>1.0</td>\n",
              "      <td>1997-10-10T04:00:00.000Z</td>\n",
              "      <td>2013-11-08T05:00:00.000Z</td>\n",
              "      <td>8855.33</td>\n",
              "      <td>NaN</td>\n",
              "      <td>NaN</td>\n",
              "      <td>1.0</td>\n",
              "      <td>7</td>\n",
              "      <td>0.0</td>\n",
              "      <td>MI</td>\n",
              "      <td>20000.0</td>\n",
              "      <td>8000.0</td>\n",
              "      <td>2014</td>\n",
              "      <td>48215.0</td>\n",
              "      <td>1.0</td>\n",
              "      <td>5faad46bad3f68081876d05a</td>\n",
              "    </tr>\n",
              "    <tr>\n",
              "      <th>7</th>\n",
              "      <td>0.0</td>\n",
              "      <td>2020-11-01T23:58:45.858Z</td>\n",
              "      <td>NaN</td>\n",
              "      <td>NaN</td>\n",
              "      <td>DES ARC</td>\n",
              "      <td>N</td>\n",
              "      <td>1.0</td>\n",
              "      <td>5117.0</td>\n",
              "      <td>NaN</td>\n",
              "      <td>2011-05-02T04:00:00.000Z</td>\n",
              "      <td>1.0</td>\n",
              "      <td>NaN</td>\n",
              "      <td>NaN</td>\n",
              "      <td>5.117460e+09</td>\n",
              "      <td>A</td>\n",
              "      <td>0.0</td>\n",
              "      <td>35.0</td>\n",
              "      <td>-91.5</td>\n",
              "      <td>NaN</td>\n",
              "      <td>NaN</td>\n",
              "      <td>NaN</td>\n",
              "      <td>1.0</td>\n",
              "      <td>0.0</td>\n",
              "      <td>10.0</td>\n",
              "      <td>1.0</td>\n",
              "      <td>1957-09-05T04:00:00.000Z</td>\n",
              "      <td>2007-11-06T05:00:00.000Z</td>\n",
              "      <td>34500.00</td>\n",
              "      <td>NaN</td>\n",
              "      <td>NaN</td>\n",
              "      <td>0.0</td>\n",
              "      <td>1</td>\n",
              "      <td>0.0</td>\n",
              "      <td>AR</td>\n",
              "      <td>34500.0</td>\n",
              "      <td>0.0</td>\n",
              "      <td>2011</td>\n",
              "      <td>72040.0</td>\n",
              "      <td>1.0</td>\n",
              "      <td>5faad46bad3f68081876d03a</td>\n",
              "    </tr>\n",
              "    <tr>\n",
              "      <th>8</th>\n",
              "      <td>0.0</td>\n",
              "      <td>2020-11-01T23:58:45.858Z</td>\n",
              "      <td>NaN</td>\n",
              "      <td>2.0</td>\n",
              "      <td>DETROIT</td>\n",
              "      <td>N</td>\n",
              "      <td>1.0</td>\n",
              "      <td>26163.0</td>\n",
              "      <td>8.0</td>\n",
              "      <td>2019-05-01T04:00:00.000Z</td>\n",
              "      <td>0.0</td>\n",
              "      <td>NaN</td>\n",
              "      <td>NaN</td>\n",
              "      <td>2.616351e+10</td>\n",
              "      <td>X</td>\n",
              "      <td>0.0</td>\n",
              "      <td>42.4</td>\n",
              "      <td>-82.9</td>\n",
              "      <td>2.0</td>\n",
              "      <td>NaN</td>\n",
              "      <td>NaN</td>\n",
              "      <td>3.0</td>\n",
              "      <td>0.0</td>\n",
              "      <td>NaN</td>\n",
              "      <td>1.0</td>\n",
              "      <td>2045-01-01T05:00:00.000Z</td>\n",
              "      <td>2013-08-26T04:00:00.000Z</td>\n",
              "      <td>5071.85</td>\n",
              "      <td>1024.87</td>\n",
              "      <td>NaN</td>\n",
              "      <td>0.0</td>\n",
              "      <td>7</td>\n",
              "      <td>0.0</td>\n",
              "      <td>MI</td>\n",
              "      <td>150000.0</td>\n",
              "      <td>60000.0</td>\n",
              "      <td>2019</td>\n",
              "      <td>48215.0</td>\n",
              "      <td>1.0</td>\n",
              "      <td>5faad46bad3f68081876d047</td>\n",
              "    </tr>\n",
              "    <tr>\n",
              "      <th>9</th>\n",
              "      <td>0.0</td>\n",
              "      <td>2020-11-01T23:58:45.858Z</td>\n",
              "      <td>NaN</td>\n",
              "      <td>NaN</td>\n",
              "      <td>LA PORTE</td>\n",
              "      <td>N</td>\n",
              "      <td>1.0</td>\n",
              "      <td>48201.0</td>\n",
              "      <td>7.0</td>\n",
              "      <td>2007-08-17T04:00:00.000Z</td>\n",
              "      <td>0.0</td>\n",
              "      <td>NaN</td>\n",
              "      <td>NaN</td>\n",
              "      <td>4.820134e+10</td>\n",
              "      <td>X</td>\n",
              "      <td>0.0</td>\n",
              "      <td>29.7</td>\n",
              "      <td>-95.1</td>\n",
              "      <td>3.0</td>\n",
              "      <td>NaN</td>\n",
              "      <td>NaN</td>\n",
              "      <td>1.0</td>\n",
              "      <td>0.0</td>\n",
              "      <td>NaN</td>\n",
              "      <td>1.0</td>\n",
              "      <td>1958-01-01T05:00:00.000Z</td>\n",
              "      <td>2007-06-24T04:00:00.000Z</td>\n",
              "      <td>17934.47</td>\n",
              "      <td>6574.71</td>\n",
              "      <td>NaN</td>\n",
              "      <td>0.0</td>\n",
              "      <td>7</td>\n",
              "      <td>0.0</td>\n",
              "      <td>TX</td>\n",
              "      <td>100000.0</td>\n",
              "      <td>40000.0</td>\n",
              "      <td>2007</td>\n",
              "      <td>77571.0</td>\n",
              "      <td>1.0</td>\n",
              "      <td>5faad46bad3f68081876d063</td>\n",
              "    </tr>\n",
              "  </tbody>\n",
              "</table>\n",
              "</div>"
            ],
            "text/plain": [
              "   agricultureStructureIndicator                  asOfDate  \\\n",
              "0                            0.0  2020-11-01T23:58:45.858Z   \n",
              "1                            0.0  2020-11-01T23:58:45.858Z   \n",
              "2                            0.0  2020-11-01T23:58:45.858Z   \n",
              "3                            0.0  2020-11-01T23:58:45.858Z   \n",
              "4                            0.0  2020-11-01T23:58:45.858Z   \n",
              "5                            0.0  2020-11-01T23:58:45.858Z   \n",
              "6                            0.0  2020-11-01T23:58:45.858Z   \n",
              "7                            0.0  2020-11-01T23:58:45.858Z   \n",
              "8                            0.0  2020-11-01T23:58:45.858Z   \n",
              "9                            0.0  2020-11-01T23:58:45.858Z   \n",
              "\n",
              "   baseFloodElevation  basementEnclosureCrawlspace reportedCity  \\\n",
              "0                 NaN                          1.0      DETROIT   \n",
              "1                 NaN                          NaN      TRENTON   \n",
              "2                 NaN                          1.0      DETROIT   \n",
              "3                 NaN                          2.0      DETROIT   \n",
              "4                 NaN                          2.0      DETROIT   \n",
              "5                 NaN                          2.0     SCRANTON   \n",
              "6                 NaN                          1.0      DETROIT   \n",
              "7                 NaN                          NaN      DES ARC   \n",
              "8                 NaN                          2.0      DETROIT   \n",
              "9                 NaN                          NaN     LA PORTE   \n",
              "\n",
              "  condominiumIndicator  policyCount  countyCode  \\\n",
              "0                    N          1.0     26163.0   \n",
              "1                    N          1.0     34021.0   \n",
              "2                    N          1.0     26163.0   \n",
              "3                    N          1.0     26163.0   \n",
              "4                    N          1.0     26163.0   \n",
              "5                    N          1.0     42069.0   \n",
              "6                    N          1.0     26163.0   \n",
              "7                    N          1.0      5117.0   \n",
              "8                    N          1.0     26163.0   \n",
              "9                    N          1.0     48201.0   \n",
              "\n",
              "   communityRatingSystemDiscount                dateOfLoss  \\\n",
              "0                            8.0  2014-08-11T04:00:00.000Z   \n",
              "1                            NaN  1999-09-16T04:00:00.000Z   \n",
              "2                            8.0  2016-07-07T04:00:00.000Z   \n",
              "3                            8.0  2014-08-11T04:00:00.000Z   \n",
              "4                            8.0  2016-07-08T04:00:00.000Z   \n",
              "5                            NaN  1985-09-27T04:00:00.000Z   \n",
              "6                            8.0  2014-08-11T04:00:00.000Z   \n",
              "7                            NaN  2011-05-02T04:00:00.000Z   \n",
              "8                            8.0  2019-05-01T04:00:00.000Z   \n",
              "9                            7.0  2007-08-17T04:00:00.000Z   \n",
              "\n",
              "   elevatedBuildingIndicator  elevationCertificateIndicator  \\\n",
              "0                        0.0                            NaN   \n",
              "1                        0.0                            NaN   \n",
              "2                        0.0                            NaN   \n",
              "3                        0.0                            NaN   \n",
              "4                        0.0                            NaN   \n",
              "5                        0.0                            NaN   \n",
              "6                        0.0                            NaN   \n",
              "7                        1.0                            NaN   \n",
              "8                        0.0                            NaN   \n",
              "9                        0.0                            NaN   \n",
              "\n",
              "   elevationDifference   censusTract floodZone  houseWorship  latitude  \\\n",
              "0                  NaN  2.616351e+10         B           0.0      42.4   \n",
              "1                  NaN  3.402100e+10       A04           0.0      40.2   \n",
              "2                  NaN  2.616351e+10         B           0.0      42.4   \n",
              "3                  NaN  2.616351e+10         B           0.0      42.4   \n",
              "4                  NaN  2.616351e+10         B           0.0      42.4   \n",
              "5                  NaN  4.206910e+10       A10           0.0      41.4   \n",
              "6                  NaN  2.616351e+10         X           0.0      42.4   \n",
              "7                  NaN  5.117460e+09         A           0.0      35.0   \n",
              "8                  NaN  2.616351e+10         X           0.0      42.4   \n",
              "9                  NaN  4.820134e+10         X           0.0      29.7   \n",
              "\n",
              "   longitude  locationOfContents  lowestAdjacentGrade  lowestFloorElevation  \\\n",
              "0      -82.9                 2.0                  NaN                   NaN   \n",
              "1      -74.8                 3.0                  NaN                   NaN   \n",
              "2      -82.9                 2.0                  NaN                   NaN   \n",
              "3      -82.9                 2.0                  NaN                   NaN   \n",
              "4      -82.9                 2.0                  NaN                   NaN   \n",
              "5      -75.7                 4.0                  NaN                   NaN   \n",
              "6      -82.9                 2.0                  NaN                   NaN   \n",
              "7      -91.5                 NaN                  NaN                   NaN   \n",
              "8      -82.9                 2.0                  NaN                   NaN   \n",
              "9      -95.1                 3.0                  NaN                   NaN   \n",
              "\n",
              "   numberOfFloorsInTheInsuredBuilding  nonProfitIndicator  obstructionType  \\\n",
              "0                                 3.0                 0.0              NaN   \n",
              "1                                 1.0                 0.0             10.0   \n",
              "2                                 3.0                 0.0              NaN   \n",
              "3                                 3.0                 0.0              NaN   \n",
              "4                                 2.0                 0.0              NaN   \n",
              "5                                 2.0                 0.0             10.0   \n",
              "6                                 3.0                 0.0              NaN   \n",
              "7                                 1.0                 0.0             10.0   \n",
              "8                                 3.0                 0.0              NaN   \n",
              "9                                 1.0                 0.0              NaN   \n",
              "\n",
              "   occupancyType  originalConstructionDate            originalNBDate  \\\n",
              "0            1.0  2040-01-01T05:00:00.000Z  2012-07-19T04:00:00.000Z   \n",
              "1            1.0  1950-07-01T04:00:00.000Z  1984-10-06T04:00:00.000Z   \n",
              "2            1.0  2027-01-01T05:00:00.000Z  2013-01-16T05:00:00.000Z   \n",
              "3            1.0  2022-01-01T05:00:00.000Z  2012-04-24T04:00:00.000Z   \n",
              "4            1.0  2047-01-01T05:00:00.000Z  2012-04-26T04:00:00.000Z   \n",
              "5            1.0  1950-07-01T04:00:00.000Z  1984-10-05T04:00:00.000Z   \n",
              "6            1.0  1997-10-10T04:00:00.000Z  2013-11-08T05:00:00.000Z   \n",
              "7            1.0  1957-09-05T04:00:00.000Z  2007-11-06T05:00:00.000Z   \n",
              "8            1.0  2045-01-01T05:00:00.000Z  2013-08-26T04:00:00.000Z   \n",
              "9            1.0  1958-01-01T05:00:00.000Z  2007-06-24T04:00:00.000Z   \n",
              "\n",
              "   amountPaidOnBuildingClaim  amountPaidOnContentsClaim  \\\n",
              "0                    3507.13                        NaN   \n",
              "1                    6389.31                        NaN   \n",
              "2                    1638.01                        NaN   \n",
              "3                    3651.57                        NaN   \n",
              "4                    3836.59                        NaN   \n",
              "5                    3688.00                        NaN   \n",
              "6                    8855.33                        NaN   \n",
              "7                   34500.00                        NaN   \n",
              "8                    5071.85                    1024.87   \n",
              "9                   17934.47                    6574.71   \n",
              "\n",
              "   amountPaidOnIncreasedCostOfComplianceClaim  postFIRMConstructionIndicator  \\\n",
              "0                                         NaN                            0.0   \n",
              "1                                         NaN                            0.0   \n",
              "2                                         NaN                            0.0   \n",
              "3                                         NaN                            0.0   \n",
              "4                                         NaN                            0.0   \n",
              "5                                         NaN                            0.0   \n",
              "6                                         NaN                            1.0   \n",
              "7                                         NaN                            0.0   \n",
              "8                                         NaN                            0.0   \n",
              "9                                         NaN                            0.0   \n",
              "\n",
              "  rateMethod  smallBusinessIndicatorBuilding state  \\\n",
              "0          Q                             0.0    MI   \n",
              "1          1                             0.0    NJ   \n",
              "2          R                             0.0    MI   \n",
              "3          Q                             0.0    MI   \n",
              "4          R                             0.0    MI   \n",
              "5          1                             0.0    PA   \n",
              "6          7                             0.0    MI   \n",
              "7          1                             0.0    AR   \n",
              "8          7                             0.0    MI   \n",
              "9          7                             0.0    TX   \n",
              "\n",
              "   totalBuildingInsuranceCoverage  totalContentsInsuranceCoverage  yearOfLoss  \\\n",
              "0                        250000.0                        100000.0        2014   \n",
              "1                        166800.0                          5900.0        1999   \n",
              "2                         75000.0                         30000.0        2016   \n",
              "3                        250000.0                        100000.0        2014   \n",
              "4                        150000.0                         60000.0        2016   \n",
              "5                         35000.0                             0.0        1985   \n",
              "6                         20000.0                          8000.0        2014   \n",
              "7                         34500.0                             0.0        2011   \n",
              "8                        150000.0                         60000.0        2019   \n",
              "9                        100000.0                         40000.0        2007   \n",
              "\n",
              "   reportedZipcode  primaryResidence                        id  \n",
              "0          48215.0               1.0  5faad46bad3f68081876d038  \n",
              "1           8638.0               1.0  5faad46bad3f68081876d046  \n",
              "2          48215.0               0.0  5faad46bad3f68081876d03f  \n",
              "3          48215.0               1.0  5faad46bad3f68081876d043  \n",
              "4          48215.0               1.0  5faad46bad3f68081876d036  \n",
              "5          18508.0               0.0  5faad46bad3f68081876d05b  \n",
              "6          48215.0               1.0  5faad46bad3f68081876d05a  \n",
              "7          72040.0               1.0  5faad46bad3f68081876d03a  \n",
              "8          48215.0               1.0  5faad46bad3f68081876d047  \n",
              "9          77571.0               1.0  5faad46bad3f68081876d063  "
            ]
          },
          "metadata": {
            "tags": []
          }
        }
      ]
    },
    {
      "cell_type": "code",
      "metadata": {
        "id": "V1K4LI2XRVv4",
        "colab": {
          "base_uri": "https://localhost:8080/",
          "height": 549
        },
        "outputId": "e41779b9-01e7-49b1-917f-78d12095a157"
      },
      "source": [
        "with pd.option_context('display.max_columns', 100):\n",
        "    display(df_raw.tail(10))"
      ],
      "execution_count": 20,
      "outputs": [
        {
          "output_type": "display_data",
          "data": {
            "text/html": [
              "<div>\n",
              "<style scoped>\n",
              "    .dataframe tbody tr th:only-of-type {\n",
              "        vertical-align: middle;\n",
              "    }\n",
              "\n",
              "    .dataframe tbody tr th {\n",
              "        vertical-align: top;\n",
              "    }\n",
              "\n",
              "    .dataframe thead th {\n",
              "        text-align: right;\n",
              "    }\n",
              "</style>\n",
              "<table border=\"1\" class=\"dataframe\">\n",
              "  <thead>\n",
              "    <tr style=\"text-align: right;\">\n",
              "      <th></th>\n",
              "      <th>agricultureStructureIndicator</th>\n",
              "      <th>asOfDate</th>\n",
              "      <th>baseFloodElevation</th>\n",
              "      <th>basementEnclosureCrawlspace</th>\n",
              "      <th>reportedCity</th>\n",
              "      <th>condominiumIndicator</th>\n",
              "      <th>policyCount</th>\n",
              "      <th>countyCode</th>\n",
              "      <th>communityRatingSystemDiscount</th>\n",
              "      <th>dateOfLoss</th>\n",
              "      <th>elevatedBuildingIndicator</th>\n",
              "      <th>elevationCertificateIndicator</th>\n",
              "      <th>elevationDifference</th>\n",
              "      <th>censusTract</th>\n",
              "      <th>floodZone</th>\n",
              "      <th>houseWorship</th>\n",
              "      <th>latitude</th>\n",
              "      <th>longitude</th>\n",
              "      <th>locationOfContents</th>\n",
              "      <th>lowestAdjacentGrade</th>\n",
              "      <th>lowestFloorElevation</th>\n",
              "      <th>numberOfFloorsInTheInsuredBuilding</th>\n",
              "      <th>nonProfitIndicator</th>\n",
              "      <th>obstructionType</th>\n",
              "      <th>occupancyType</th>\n",
              "      <th>originalConstructionDate</th>\n",
              "      <th>originalNBDate</th>\n",
              "      <th>amountPaidOnBuildingClaim</th>\n",
              "      <th>amountPaidOnContentsClaim</th>\n",
              "      <th>amountPaidOnIncreasedCostOfComplianceClaim</th>\n",
              "      <th>postFIRMConstructionIndicator</th>\n",
              "      <th>rateMethod</th>\n",
              "      <th>smallBusinessIndicatorBuilding</th>\n",
              "      <th>state</th>\n",
              "      <th>totalBuildingInsuranceCoverage</th>\n",
              "      <th>totalContentsInsuranceCoverage</th>\n",
              "      <th>yearOfLoss</th>\n",
              "      <th>reportedZipcode</th>\n",
              "      <th>primaryResidence</th>\n",
              "      <th>id</th>\n",
              "    </tr>\n",
              "  </thead>\n",
              "  <tbody>\n",
              "    <tr>\n",
              "      <th>2495973</th>\n",
              "      <td>0.0</td>\n",
              "      <td>2020-11-01T23:58:45.858Z</td>\n",
              "      <td>NaN</td>\n",
              "      <td>NaN</td>\n",
              "      <td>VEGA BAJA</td>\n",
              "      <td>N</td>\n",
              "      <td>1.0</td>\n",
              "      <td>72145.0</td>\n",
              "      <td>NaN</td>\n",
              "      <td>2012-11-12T05:00:00.000Z</td>\n",
              "      <td>0.0</td>\n",
              "      <td>1.0</td>\n",
              "      <td>NaN</td>\n",
              "      <td>7.214556e+10</td>\n",
              "      <td>A07</td>\n",
              "      <td>0.0</td>\n",
              "      <td>18.4</td>\n",
              "      <td>-66.4</td>\n",
              "      <td>NaN</td>\n",
              "      <td>NaN</td>\n",
              "      <td>NaN</td>\n",
              "      <td>1.0</td>\n",
              "      <td>0.0</td>\n",
              "      <td>NaN</td>\n",
              "      <td>1.0</td>\n",
              "      <td>1970-01-01T05:00:00.000Z</td>\n",
              "      <td>2002-01-25T05:00:00.000Z</td>\n",
              "      <td>7536.31</td>\n",
              "      <td>NaN</td>\n",
              "      <td>NaN</td>\n",
              "      <td>0.0</td>\n",
              "      <td>1</td>\n",
              "      <td>0.0</td>\n",
              "      <td>PR</td>\n",
              "      <td>62400.0</td>\n",
              "      <td>0.0</td>\n",
              "      <td>2012</td>\n",
              "      <td>693.0</td>\n",
              "      <td>1.0</td>\n",
              "      <td>5faad640ad3f6808189ce5fd</td>\n",
              "    </tr>\n",
              "    <tr>\n",
              "      <th>2495974</th>\n",
              "      <td>0.0</td>\n",
              "      <td>2020-11-01T23:58:45.858Z</td>\n",
              "      <td>NaN</td>\n",
              "      <td>NaN</td>\n",
              "      <td>CANOVANAS</td>\n",
              "      <td>N</td>\n",
              "      <td>1.0</td>\n",
              "      <td>72029.0</td>\n",
              "      <td>NaN</td>\n",
              "      <td>2004-09-15T04:00:00.000Z</td>\n",
              "      <td>0.0</td>\n",
              "      <td>1.0</td>\n",
              "      <td>NaN</td>\n",
              "      <td>7.202910e+10</td>\n",
              "      <td>AE</td>\n",
              "      <td>0.0</td>\n",
              "      <td>18.4</td>\n",
              "      <td>-65.9</td>\n",
              "      <td>NaN</td>\n",
              "      <td>NaN</td>\n",
              "      <td>NaN</td>\n",
              "      <td>1.0</td>\n",
              "      <td>0.0</td>\n",
              "      <td>NaN</td>\n",
              "      <td>1.0</td>\n",
              "      <td>1970-01-01T05:00:00.000Z</td>\n",
              "      <td>2002-01-16T05:00:00.000Z</td>\n",
              "      <td>6981.20</td>\n",
              "      <td>NaN</td>\n",
              "      <td>NaN</td>\n",
              "      <td>0.0</td>\n",
              "      <td>1</td>\n",
              "      <td>0.0</td>\n",
              "      <td>PR</td>\n",
              "      <td>78000.0</td>\n",
              "      <td>0.0</td>\n",
              "      <td>2004</td>\n",
              "      <td>729.0</td>\n",
              "      <td>1.0</td>\n",
              "      <td>5faad640ad3f6808189ce5fe</td>\n",
              "    </tr>\n",
              "    <tr>\n",
              "      <th>2495975</th>\n",
              "      <td>0.0</td>\n",
              "      <td>2020-11-01T23:58:45.858Z</td>\n",
              "      <td>NaN</td>\n",
              "      <td>2.0</td>\n",
              "      <td>CAMBRIDGE</td>\n",
              "      <td>N</td>\n",
              "      <td>1.0</td>\n",
              "      <td>24019.0</td>\n",
              "      <td>6.0</td>\n",
              "      <td>2003-09-18T04:00:00.000Z</td>\n",
              "      <td>1.0</td>\n",
              "      <td>NaN</td>\n",
              "      <td>NaN</td>\n",
              "      <td>2.401997e+10</td>\n",
              "      <td>AE</td>\n",
              "      <td>0.0</td>\n",
              "      <td>38.6</td>\n",
              "      <td>-76.3</td>\n",
              "      <td>NaN</td>\n",
              "      <td>NaN</td>\n",
              "      <td>NaN</td>\n",
              "      <td>2.0</td>\n",
              "      <td>0.0</td>\n",
              "      <td>50.0</td>\n",
              "      <td>1.0</td>\n",
              "      <td>1958-07-01T04:00:00.000Z</td>\n",
              "      <td>2001-12-14T05:00:00.000Z</td>\n",
              "      <td>6018.95</td>\n",
              "      <td>NaN</td>\n",
              "      <td>NaN</td>\n",
              "      <td>0.0</td>\n",
              "      <td>1</td>\n",
              "      <td>0.0</td>\n",
              "      <td>MD</td>\n",
              "      <td>78000.0</td>\n",
              "      <td>0.0</td>\n",
              "      <td>2003</td>\n",
              "      <td>21613.0</td>\n",
              "      <td>0.0</td>\n",
              "      <td>5faad640ad3f6808189ce603</td>\n",
              "    </tr>\n",
              "    <tr>\n",
              "      <th>2495976</th>\n",
              "      <td>0.0</td>\n",
              "      <td>2020-11-01T23:58:45.858Z</td>\n",
              "      <td>NaN</td>\n",
              "      <td>NaN</td>\n",
              "      <td>MIAMI</td>\n",
              "      <td>N</td>\n",
              "      <td>1.0</td>\n",
              "      <td>12086.0</td>\n",
              "      <td>5.0</td>\n",
              "      <td>1999-10-15T04:00:00.000Z</td>\n",
              "      <td>0.0</td>\n",
              "      <td>2.0</td>\n",
              "      <td>NaN</td>\n",
              "      <td>1.208602e+10</td>\n",
              "      <td>AH</td>\n",
              "      <td>0.0</td>\n",
              "      <td>25.7</td>\n",
              "      <td>-80.4</td>\n",
              "      <td>NaN</td>\n",
              "      <td>NaN</td>\n",
              "      <td>NaN</td>\n",
              "      <td>1.0</td>\n",
              "      <td>0.0</td>\n",
              "      <td>10.0</td>\n",
              "      <td>1.0</td>\n",
              "      <td>1992-10-12T04:00:00.000Z</td>\n",
              "      <td>1999-09-08T04:00:00.000Z</td>\n",
              "      <td>5999.49</td>\n",
              "      <td>NaN</td>\n",
              "      <td>NaN</td>\n",
              "      <td>0.0</td>\n",
              "      <td>9</td>\n",
              "      <td>0.0</td>\n",
              "      <td>FL</td>\n",
              "      <td>65400.0</td>\n",
              "      <td>0.0</td>\n",
              "      <td>1999</td>\n",
              "      <td>33183.0</td>\n",
              "      <td>0.0</td>\n",
              "      <td>5faad640ad3f6808189ce60c</td>\n",
              "    </tr>\n",
              "    <tr>\n",
              "      <th>2495977</th>\n",
              "      <td>0.0</td>\n",
              "      <td>2020-11-01T23:58:45.858Z</td>\n",
              "      <td>NaN</td>\n",
              "      <td>NaN</td>\n",
              "      <td>RODANTHE</td>\n",
              "      <td>N</td>\n",
              "      <td>1.0</td>\n",
              "      <td>37055.0</td>\n",
              "      <td>7.0</td>\n",
              "      <td>1999-10-16T04:00:00.000Z</td>\n",
              "      <td>0.0</td>\n",
              "      <td>NaN</td>\n",
              "      <td>NaN</td>\n",
              "      <td>3.705597e+10</td>\n",
              "      <td>AE</td>\n",
              "      <td>0.0</td>\n",
              "      <td>35.6</td>\n",
              "      <td>-75.5</td>\n",
              "      <td>NaN</td>\n",
              "      <td>NaN</td>\n",
              "      <td>NaN</td>\n",
              "      <td>1.0</td>\n",
              "      <td>0.0</td>\n",
              "      <td>10.0</td>\n",
              "      <td>1.0</td>\n",
              "      <td>1976-01-01T05:00:00.000Z</td>\n",
              "      <td>1999-10-13T04:00:00.000Z</td>\n",
              "      <td>1811.19</td>\n",
              "      <td>NaN</td>\n",
              "      <td>NaN</td>\n",
              "      <td>0.0</td>\n",
              "      <td>1</td>\n",
              "      <td>0.0</td>\n",
              "      <td>NC</td>\n",
              "      <td>5000.0</td>\n",
              "      <td>0.0</td>\n",
              "      <td>1999</td>\n",
              "      <td>27968.0</td>\n",
              "      <td>1.0</td>\n",
              "      <td>5faad640ad3f6808189ce60e</td>\n",
              "    </tr>\n",
              "    <tr>\n",
              "      <th>2495978</th>\n",
              "      <td>0.0</td>\n",
              "      <td>2020-11-01T23:58:45.858Z</td>\n",
              "      <td>NaN</td>\n",
              "      <td>NaN</td>\n",
              "      <td>PHILADELPHIA</td>\n",
              "      <td>N</td>\n",
              "      <td>1.0</td>\n",
              "      <td>42017.0</td>\n",
              "      <td>NaN</td>\n",
              "      <td>1999-09-16T04:00:00.000Z</td>\n",
              "      <td>0.0</td>\n",
              "      <td>2.0</td>\n",
              "      <td>NaN</td>\n",
              "      <td>4.201710e+10</td>\n",
              "      <td>AE</td>\n",
              "      <td>0.0</td>\n",
              "      <td>40.2</td>\n",
              "      <td>-75.1</td>\n",
              "      <td>NaN</td>\n",
              "      <td>NaN</td>\n",
              "      <td>NaN</td>\n",
              "      <td>1.0</td>\n",
              "      <td>0.0</td>\n",
              "      <td>10.0</td>\n",
              "      <td>1.0</td>\n",
              "      <td>1992-10-12T04:00:00.000Z</td>\n",
              "      <td>1999-03-05T05:00:00.000Z</td>\n",
              "      <td>5544.25</td>\n",
              "      <td>NaN</td>\n",
              "      <td>NaN</td>\n",
              "      <td>0.0</td>\n",
              "      <td>9</td>\n",
              "      <td>0.0</td>\n",
              "      <td>PA</td>\n",
              "      <td>30800.0</td>\n",
              "      <td>0.0</td>\n",
              "      <td>1999</td>\n",
              "      <td>18976.0</td>\n",
              "      <td>0.0</td>\n",
              "      <td>5faad640ad3f6808189ce613</td>\n",
              "    </tr>\n",
              "    <tr>\n",
              "      <th>2495979</th>\n",
              "      <td>0.0</td>\n",
              "      <td>2020-11-01T23:58:45.858Z</td>\n",
              "      <td>NaN</td>\n",
              "      <td>NaN</td>\n",
              "      <td>LAUDERHILL</td>\n",
              "      <td>N</td>\n",
              "      <td>1.0</td>\n",
              "      <td>12011.0</td>\n",
              "      <td>7.0</td>\n",
              "      <td>1999-05-25T04:00:00.000Z</td>\n",
              "      <td>0.0</td>\n",
              "      <td>2.0</td>\n",
              "      <td>NaN</td>\n",
              "      <td>1.201106e+10</td>\n",
              "      <td>AH</td>\n",
              "      <td>0.0</td>\n",
              "      <td>26.2</td>\n",
              "      <td>-80.2</td>\n",
              "      <td>NaN</td>\n",
              "      <td>NaN</td>\n",
              "      <td>NaN</td>\n",
              "      <td>1.0</td>\n",
              "      <td>0.0</td>\n",
              "      <td>10.0</td>\n",
              "      <td>1.0</td>\n",
              "      <td>1992-10-12T04:00:00.000Z</td>\n",
              "      <td>1999-02-24T05:00:00.000Z</td>\n",
              "      <td>NaN</td>\n",
              "      <td>NaN</td>\n",
              "      <td>NaN</td>\n",
              "      <td>0.0</td>\n",
              "      <td>9</td>\n",
              "      <td>0.0</td>\n",
              "      <td>FL</td>\n",
              "      <td>86100.0</td>\n",
              "      <td>0.0</td>\n",
              "      <td>1999</td>\n",
              "      <td>33313.0</td>\n",
              "      <td>0.0</td>\n",
              "      <td>5faad640ad3f6808189ce618</td>\n",
              "    </tr>\n",
              "    <tr>\n",
              "      <th>2495980</th>\n",
              "      <td>0.0</td>\n",
              "      <td>2020-11-01T23:58:45.858Z</td>\n",
              "      <td>NaN</td>\n",
              "      <td>0.0</td>\n",
              "      <td>ORTING</td>\n",
              "      <td>N</td>\n",
              "      <td>1.0</td>\n",
              "      <td>53053.0</td>\n",
              "      <td>2.0</td>\n",
              "      <td>2006-11-06T05:00:00.000Z</td>\n",
              "      <td>0.0</td>\n",
              "      <td>NaN</td>\n",
              "      <td>NaN</td>\n",
              "      <td>5.305307e+10</td>\n",
              "      <td>C</td>\n",
              "      <td>0.0</td>\n",
              "      <td>47.1</td>\n",
              "      <td>-122.1</td>\n",
              "      <td>3.0</td>\n",
              "      <td>NaN</td>\n",
              "      <td>NaN</td>\n",
              "      <td>1.0</td>\n",
              "      <td>0.0</td>\n",
              "      <td>NaN</td>\n",
              "      <td>1.0</td>\n",
              "      <td>1980-07-01T04:00:00.000Z</td>\n",
              "      <td>2001-12-07T05:00:00.000Z</td>\n",
              "      <td>11538.31</td>\n",
              "      <td>1977.23</td>\n",
              "      <td>NaN</td>\n",
              "      <td>0.0</td>\n",
              "      <td>7</td>\n",
              "      <td>0.0</td>\n",
              "      <td>WA</td>\n",
              "      <td>150000.0</td>\n",
              "      <td>60000.0</td>\n",
              "      <td>2006</td>\n",
              "      <td>98360.0</td>\n",
              "      <td>0.0</td>\n",
              "      <td>5faad640ad3f6808189ce629</td>\n",
              "    </tr>\n",
              "    <tr>\n",
              "      <th>2495981</th>\n",
              "      <td>0.0</td>\n",
              "      <td>2020-11-01T23:58:45.858Z</td>\n",
              "      <td>NaN</td>\n",
              "      <td>NaN</td>\n",
              "      <td>LAFAYETTE</td>\n",
              "      <td>N</td>\n",
              "      <td>1.0</td>\n",
              "      <td>22055.0</td>\n",
              "      <td>8.0</td>\n",
              "      <td>1993-01-21T05:00:00.000Z</td>\n",
              "      <td>0.0</td>\n",
              "      <td>NaN</td>\n",
              "      <td>NaN</td>\n",
              "      <td>2.205500e+10</td>\n",
              "      <td>B</td>\n",
              "      <td>0.0</td>\n",
              "      <td>30.2</td>\n",
              "      <td>-92.0</td>\n",
              "      <td>3.0</td>\n",
              "      <td>NaN</td>\n",
              "      <td>NaN</td>\n",
              "      <td>1.0</td>\n",
              "      <td>0.0</td>\n",
              "      <td>10.0</td>\n",
              "      <td>1.0</td>\n",
              "      <td>1982-03-30T05:00:00.000Z</td>\n",
              "      <td>1992-09-16T04:00:00.000Z</td>\n",
              "      <td>4972.00</td>\n",
              "      <td>NaN</td>\n",
              "      <td>NaN</td>\n",
              "      <td>1.0</td>\n",
              "      <td>1</td>\n",
              "      <td>0.0</td>\n",
              "      <td>LA</td>\n",
              "      <td>185000.0</td>\n",
              "      <td>60000.0</td>\n",
              "      <td>1993</td>\n",
              "      <td>70503.0</td>\n",
              "      <td>0.0</td>\n",
              "      <td>5faad640ad3f6808189ce634</td>\n",
              "    </tr>\n",
              "    <tr>\n",
              "      <th>2495982</th>\n",
              "      <td>0.0</td>\n",
              "      <td>2020-11-01T23:58:45.858Z</td>\n",
              "      <td>NaN</td>\n",
              "      <td>NaN</td>\n",
              "      <td>HOMOSASSA</td>\n",
              "      <td>N</td>\n",
              "      <td>1.0</td>\n",
              "      <td>12017.0</td>\n",
              "      <td>NaN</td>\n",
              "      <td>1993-03-13T05:00:00.000Z</td>\n",
              "      <td>0.0</td>\n",
              "      <td>NaN</td>\n",
              "      <td>NaN</td>\n",
              "      <td>1.201745e+10</td>\n",
              "      <td>A</td>\n",
              "      <td>0.0</td>\n",
              "      <td>28.8</td>\n",
              "      <td>-82.6</td>\n",
              "      <td>4.0</td>\n",
              "      <td>NaN</td>\n",
              "      <td>NaN</td>\n",
              "      <td>2.0</td>\n",
              "      <td>0.0</td>\n",
              "      <td>10.0</td>\n",
              "      <td>1.0</td>\n",
              "      <td>1974-07-01T04:00:00.000Z</td>\n",
              "      <td>1991-07-03T04:00:00.000Z</td>\n",
              "      <td>7699.52</td>\n",
              "      <td>NaN</td>\n",
              "      <td>NaN</td>\n",
              "      <td>0.0</td>\n",
              "      <td>1</td>\n",
              "      <td>0.0</td>\n",
              "      <td>FL</td>\n",
              "      <td>60000.0</td>\n",
              "      <td>0.0</td>\n",
              "      <td>1993</td>\n",
              "      <td>34448.0</td>\n",
              "      <td>0.0</td>\n",
              "      <td>5faad640ad3f6808189ce63b</td>\n",
              "    </tr>\n",
              "  </tbody>\n",
              "</table>\n",
              "</div>"
            ],
            "text/plain": [
              "         agricultureStructureIndicator                  asOfDate  \\\n",
              "2495973                            0.0  2020-11-01T23:58:45.858Z   \n",
              "2495974                            0.0  2020-11-01T23:58:45.858Z   \n",
              "2495975                            0.0  2020-11-01T23:58:45.858Z   \n",
              "2495976                            0.0  2020-11-01T23:58:45.858Z   \n",
              "2495977                            0.0  2020-11-01T23:58:45.858Z   \n",
              "2495978                            0.0  2020-11-01T23:58:45.858Z   \n",
              "2495979                            0.0  2020-11-01T23:58:45.858Z   \n",
              "2495980                            0.0  2020-11-01T23:58:45.858Z   \n",
              "2495981                            0.0  2020-11-01T23:58:45.858Z   \n",
              "2495982                            0.0  2020-11-01T23:58:45.858Z   \n",
              "\n",
              "         baseFloodElevation  basementEnclosureCrawlspace  reportedCity  \\\n",
              "2495973                 NaN                          NaN     VEGA BAJA   \n",
              "2495974                 NaN                          NaN     CANOVANAS   \n",
              "2495975                 NaN                          2.0     CAMBRIDGE   \n",
              "2495976                 NaN                          NaN         MIAMI   \n",
              "2495977                 NaN                          NaN      RODANTHE   \n",
              "2495978                 NaN                          NaN  PHILADELPHIA   \n",
              "2495979                 NaN                          NaN    LAUDERHILL   \n",
              "2495980                 NaN                          0.0        ORTING   \n",
              "2495981                 NaN                          NaN     LAFAYETTE   \n",
              "2495982                 NaN                          NaN     HOMOSASSA   \n",
              "\n",
              "        condominiumIndicator  policyCount  countyCode  \\\n",
              "2495973                    N          1.0     72145.0   \n",
              "2495974                    N          1.0     72029.0   \n",
              "2495975                    N          1.0     24019.0   \n",
              "2495976                    N          1.0     12086.0   \n",
              "2495977                    N          1.0     37055.0   \n",
              "2495978                    N          1.0     42017.0   \n",
              "2495979                    N          1.0     12011.0   \n",
              "2495980                    N          1.0     53053.0   \n",
              "2495981                    N          1.0     22055.0   \n",
              "2495982                    N          1.0     12017.0   \n",
              "\n",
              "         communityRatingSystemDiscount                dateOfLoss  \\\n",
              "2495973                            NaN  2012-11-12T05:00:00.000Z   \n",
              "2495974                            NaN  2004-09-15T04:00:00.000Z   \n",
              "2495975                            6.0  2003-09-18T04:00:00.000Z   \n",
              "2495976                            5.0  1999-10-15T04:00:00.000Z   \n",
              "2495977                            7.0  1999-10-16T04:00:00.000Z   \n",
              "2495978                            NaN  1999-09-16T04:00:00.000Z   \n",
              "2495979                            7.0  1999-05-25T04:00:00.000Z   \n",
              "2495980                            2.0  2006-11-06T05:00:00.000Z   \n",
              "2495981                            8.0  1993-01-21T05:00:00.000Z   \n",
              "2495982                            NaN  1993-03-13T05:00:00.000Z   \n",
              "\n",
              "         elevatedBuildingIndicator  elevationCertificateIndicator  \\\n",
              "2495973                        0.0                            1.0   \n",
              "2495974                        0.0                            1.0   \n",
              "2495975                        1.0                            NaN   \n",
              "2495976                        0.0                            2.0   \n",
              "2495977                        0.0                            NaN   \n",
              "2495978                        0.0                            2.0   \n",
              "2495979                        0.0                            2.0   \n",
              "2495980                        0.0                            NaN   \n",
              "2495981                        0.0                            NaN   \n",
              "2495982                        0.0                            NaN   \n",
              "\n",
              "         elevationDifference   censusTract floodZone  houseWorship  latitude  \\\n",
              "2495973                  NaN  7.214556e+10       A07           0.0      18.4   \n",
              "2495974                  NaN  7.202910e+10        AE           0.0      18.4   \n",
              "2495975                  NaN  2.401997e+10        AE           0.0      38.6   \n",
              "2495976                  NaN  1.208602e+10        AH           0.0      25.7   \n",
              "2495977                  NaN  3.705597e+10        AE           0.0      35.6   \n",
              "2495978                  NaN  4.201710e+10        AE           0.0      40.2   \n",
              "2495979                  NaN  1.201106e+10        AH           0.0      26.2   \n",
              "2495980                  NaN  5.305307e+10         C           0.0      47.1   \n",
              "2495981                  NaN  2.205500e+10         B           0.0      30.2   \n",
              "2495982                  NaN  1.201745e+10         A           0.0      28.8   \n",
              "\n",
              "         longitude  locationOfContents  lowestAdjacentGrade  \\\n",
              "2495973      -66.4                 NaN                  NaN   \n",
              "2495974      -65.9                 NaN                  NaN   \n",
              "2495975      -76.3                 NaN                  NaN   \n",
              "2495976      -80.4                 NaN                  NaN   \n",
              "2495977      -75.5                 NaN                  NaN   \n",
              "2495978      -75.1                 NaN                  NaN   \n",
              "2495979      -80.2                 NaN                  NaN   \n",
              "2495980     -122.1                 3.0                  NaN   \n",
              "2495981      -92.0                 3.0                  NaN   \n",
              "2495982      -82.6                 4.0                  NaN   \n",
              "\n",
              "         lowestFloorElevation  numberOfFloorsInTheInsuredBuilding  \\\n",
              "2495973                   NaN                                 1.0   \n",
              "2495974                   NaN                                 1.0   \n",
              "2495975                   NaN                                 2.0   \n",
              "2495976                   NaN                                 1.0   \n",
              "2495977                   NaN                                 1.0   \n",
              "2495978                   NaN                                 1.0   \n",
              "2495979                   NaN                                 1.0   \n",
              "2495980                   NaN                                 1.0   \n",
              "2495981                   NaN                                 1.0   \n",
              "2495982                   NaN                                 2.0   \n",
              "\n",
              "         nonProfitIndicator  obstructionType  occupancyType  \\\n",
              "2495973                 0.0              NaN            1.0   \n",
              "2495974                 0.0              NaN            1.0   \n",
              "2495975                 0.0             50.0            1.0   \n",
              "2495976                 0.0             10.0            1.0   \n",
              "2495977                 0.0             10.0            1.0   \n",
              "2495978                 0.0             10.0            1.0   \n",
              "2495979                 0.0             10.0            1.0   \n",
              "2495980                 0.0              NaN            1.0   \n",
              "2495981                 0.0             10.0            1.0   \n",
              "2495982                 0.0             10.0            1.0   \n",
              "\n",
              "         originalConstructionDate            originalNBDate  \\\n",
              "2495973  1970-01-01T05:00:00.000Z  2002-01-25T05:00:00.000Z   \n",
              "2495974  1970-01-01T05:00:00.000Z  2002-01-16T05:00:00.000Z   \n",
              "2495975  1958-07-01T04:00:00.000Z  2001-12-14T05:00:00.000Z   \n",
              "2495976  1992-10-12T04:00:00.000Z  1999-09-08T04:00:00.000Z   \n",
              "2495977  1976-01-01T05:00:00.000Z  1999-10-13T04:00:00.000Z   \n",
              "2495978  1992-10-12T04:00:00.000Z  1999-03-05T05:00:00.000Z   \n",
              "2495979  1992-10-12T04:00:00.000Z  1999-02-24T05:00:00.000Z   \n",
              "2495980  1980-07-01T04:00:00.000Z  2001-12-07T05:00:00.000Z   \n",
              "2495981  1982-03-30T05:00:00.000Z  1992-09-16T04:00:00.000Z   \n",
              "2495982  1974-07-01T04:00:00.000Z  1991-07-03T04:00:00.000Z   \n",
              "\n",
              "         amountPaidOnBuildingClaim  amountPaidOnContentsClaim  \\\n",
              "2495973                    7536.31                        NaN   \n",
              "2495974                    6981.20                        NaN   \n",
              "2495975                    6018.95                        NaN   \n",
              "2495976                    5999.49                        NaN   \n",
              "2495977                    1811.19                        NaN   \n",
              "2495978                    5544.25                        NaN   \n",
              "2495979                        NaN                        NaN   \n",
              "2495980                   11538.31                    1977.23   \n",
              "2495981                    4972.00                        NaN   \n",
              "2495982                    7699.52                        NaN   \n",
              "\n",
              "         amountPaidOnIncreasedCostOfComplianceClaim  \\\n",
              "2495973                                         NaN   \n",
              "2495974                                         NaN   \n",
              "2495975                                         NaN   \n",
              "2495976                                         NaN   \n",
              "2495977                                         NaN   \n",
              "2495978                                         NaN   \n",
              "2495979                                         NaN   \n",
              "2495980                                         NaN   \n",
              "2495981                                         NaN   \n",
              "2495982                                         NaN   \n",
              "\n",
              "         postFIRMConstructionIndicator rateMethod  \\\n",
              "2495973                            0.0          1   \n",
              "2495974                            0.0          1   \n",
              "2495975                            0.0          1   \n",
              "2495976                            0.0          9   \n",
              "2495977                            0.0          1   \n",
              "2495978                            0.0          9   \n",
              "2495979                            0.0          9   \n",
              "2495980                            0.0          7   \n",
              "2495981                            1.0          1   \n",
              "2495982                            0.0          1   \n",
              "\n",
              "         smallBusinessIndicatorBuilding state  totalBuildingInsuranceCoverage  \\\n",
              "2495973                             0.0    PR                         62400.0   \n",
              "2495974                             0.0    PR                         78000.0   \n",
              "2495975                             0.0    MD                         78000.0   \n",
              "2495976                             0.0    FL                         65400.0   \n",
              "2495977                             0.0    NC                          5000.0   \n",
              "2495978                             0.0    PA                         30800.0   \n",
              "2495979                             0.0    FL                         86100.0   \n",
              "2495980                             0.0    WA                        150000.0   \n",
              "2495981                             0.0    LA                        185000.0   \n",
              "2495982                             0.0    FL                         60000.0   \n",
              "\n",
              "         totalContentsInsuranceCoverage  yearOfLoss  reportedZipcode  \\\n",
              "2495973                             0.0        2012            693.0   \n",
              "2495974                             0.0        2004            729.0   \n",
              "2495975                             0.0        2003          21613.0   \n",
              "2495976                             0.0        1999          33183.0   \n",
              "2495977                             0.0        1999          27968.0   \n",
              "2495978                             0.0        1999          18976.0   \n",
              "2495979                             0.0        1999          33313.0   \n",
              "2495980                         60000.0        2006          98360.0   \n",
              "2495981                         60000.0        1993          70503.0   \n",
              "2495982                             0.0        1993          34448.0   \n",
              "\n",
              "         primaryResidence                        id  \n",
              "2495973               1.0  5faad640ad3f6808189ce5fd  \n",
              "2495974               1.0  5faad640ad3f6808189ce5fe  \n",
              "2495975               0.0  5faad640ad3f6808189ce603  \n",
              "2495976               0.0  5faad640ad3f6808189ce60c  \n",
              "2495977               1.0  5faad640ad3f6808189ce60e  \n",
              "2495978               0.0  5faad640ad3f6808189ce613  \n",
              "2495979               0.0  5faad640ad3f6808189ce618  \n",
              "2495980               0.0  5faad640ad3f6808189ce629  \n",
              "2495981               0.0  5faad640ad3f6808189ce634  \n",
              "2495982               0.0  5faad640ad3f6808189ce63b  "
            ]
          },
          "metadata": {
            "tags": []
          }
        }
      ]
    },
    {
      "cell_type": "markdown",
      "metadata": {
        "id": "hZW3hvrGRVv5"
      },
      "source": [
        "# Location"
      ]
    },
    {
      "cell_type": "code",
      "metadata": {
        "id": "26N3IO-jRVv6",
        "colab": {
          "base_uri": "https://localhost:8080/"
        },
        "outputId": "86909a56-1dd6-4a1a-baf7-38724c8c5113"
      },
      "source": [
        "# Check missing values in latitude\n",
        "df_raw['latitude'].isnull().value_counts()"
      ],
      "execution_count": 21,
      "outputs": [
        {
          "output_type": "execute_result",
          "data": {
            "text/plain": [
              "False    2453803\n",
              "True       42180\n",
              "Name: latitude, dtype: int64"
            ]
          },
          "metadata": {
            "tags": []
          },
          "execution_count": 21
        }
      ]
    },
    {
      "cell_type": "code",
      "metadata": {
        "id": "1Qggb4WdRVv6"
      },
      "source": [
        "# Remove instances with missing latitude\n",
        "df = df_raw.dropna(axis=0, subset=['latitude'])"
      ],
      "execution_count": 22,
      "outputs": []
    },
    {
      "cell_type": "code",
      "metadata": {
        "id": "LYGlHqN9RVv7",
        "colab": {
          "base_uri": "https://localhost:8080/"
        },
        "outputId": "8fee70d2-bb86-4da6-e0dd-59c48560beaa"
      },
      "source": [
        "# Check missing values in latitude\n",
        "df['latitude'].isnull().value_counts()"
      ],
      "execution_count": 23,
      "outputs": [
        {
          "output_type": "execute_result",
          "data": {
            "text/plain": [
              "False    2453803\n",
              "Name: latitude, dtype: int64"
            ]
          },
          "metadata": {
            "tags": []
          },
          "execution_count": 23
        }
      ]
    },
    {
      "cell_type": "code",
      "metadata": {
        "id": "8jC8qvl3RVv7",
        "colab": {
          "base_uri": "https://localhost:8080/"
        },
        "outputId": "6be2220b-c539-468d-d2f9-31ac632d10a2"
      },
      "source": [
        "# Check missing values in longitude\n",
        "df['longitude'].isnull().value_counts()"
      ],
      "execution_count": 24,
      "outputs": [
        {
          "output_type": "execute_result",
          "data": {
            "text/plain": [
              "False    2453803\n",
              "Name: longitude, dtype: int64"
            ]
          },
          "metadata": {
            "tags": []
          },
          "execution_count": 24
        }
      ]
    },
    {
      "cell_type": "code",
      "metadata": {
        "id": "GEtBTxyhRVv8",
        "colab": {
          "base_uri": "https://localhost:8080/"
        },
        "outputId": "d919d970-e157-4349-d0c9-0697e179fc6c"
      },
      "source": [
        "# Shape\n",
        "nRow, nCol = df.shape\n",
        "nRow = '{:,.0f}'.format(nRow)\n",
        "print(f'There are {nRow} rows and {nCol} columns')"
      ],
      "execution_count": 25,
      "outputs": [
        {
          "output_type": "stream",
          "text": [
            "There are 2,453,803 rows and 40 columns\n"
          ],
          "name": "stdout"
        }
      ]
    },
    {
      "cell_type": "code",
      "metadata": {
        "id": "x9tRVj10RVv8",
        "colab": {
          "base_uri": "https://localhost:8080/"
        },
        "outputId": "8fceb8c2-49a9-4c9f-ab10-4ec9eea25f99"
      },
      "source": [
        "df.info()"
      ],
      "execution_count": 26,
      "outputs": [
        {
          "output_type": "stream",
          "text": [
            "<class 'pandas.core.frame.DataFrame'>\n",
            "Int64Index: 2453803 entries, 0 to 2495982\n",
            "Data columns (total 40 columns):\n",
            " #   Column                                      Dtype  \n",
            "---  ------                                      -----  \n",
            " 0   agricultureStructureIndicator               float64\n",
            " 1   asOfDate                                    object \n",
            " 2   baseFloodElevation                          float64\n",
            " 3   basementEnclosureCrawlspace                 float64\n",
            " 4   reportedCity                                object \n",
            " 5   condominiumIndicator                        object \n",
            " 6   policyCount                                 float64\n",
            " 7   countyCode                                  float64\n",
            " 8   communityRatingSystemDiscount               float64\n",
            " 9   dateOfLoss                                  object \n",
            " 10  elevatedBuildingIndicator                   float64\n",
            " 11  elevationCertificateIndicator               float64\n",
            " 12  elevationDifference                         float64\n",
            " 13  censusTract                                 float64\n",
            " 14  floodZone                                   object \n",
            " 15  houseWorship                                float64\n",
            " 16  latitude                                    float64\n",
            " 17  longitude                                   float64\n",
            " 18  locationOfContents                          float64\n",
            " 19  lowestAdjacentGrade                         float64\n",
            " 20  lowestFloorElevation                        float64\n",
            " 21  numberOfFloorsInTheInsuredBuilding          float64\n",
            " 22  nonProfitIndicator                          float64\n",
            " 23  obstructionType                             float64\n",
            " 24  occupancyType                               float64\n",
            " 25  originalConstructionDate                    object \n",
            " 26  originalNBDate                              object \n",
            " 27  amountPaidOnBuildingClaim                   float64\n",
            " 28  amountPaidOnContentsClaim                   float64\n",
            " 29  amountPaidOnIncreasedCostOfComplianceClaim  float64\n",
            " 30  postFIRMConstructionIndicator               float64\n",
            " 31  rateMethod                                  object \n",
            " 32  smallBusinessIndicatorBuilding              float64\n",
            " 33  state                                       object \n",
            " 34  totalBuildingInsuranceCoverage              float64\n",
            " 35  totalContentsInsuranceCoverage              float64\n",
            " 36  yearOfLoss                                  int64  \n",
            " 37  reportedZipcode                             float64\n",
            " 38  primaryResidence                            float64\n",
            " 39  id                                          object \n",
            "dtypes: float64(29), int64(1), object(10)\n",
            "memory usage: 767.6+ MB\n"
          ],
          "name": "stdout"
        }
      ]
    },
    {
      "cell_type": "markdown",
      "metadata": {
        "id": "m2Fek6feRVv9"
      },
      "source": [
        "# Date of Loss\n",
        "\n",
        "Date on which water first entered the insured building. When time is not specified in the field, it will default to T00:00:00.000Z"
      ]
    },
    {
      "cell_type": "code",
      "metadata": {
        "id": "et4Fgf39RVv9",
        "colab": {
          "base_uri": "https://localhost:8080/"
        },
        "outputId": "df375a47-c6af-45f8-d76e-ad1a453ed764"
      },
      "source": [
        "# Check missing values\n",
        "df['dateOfLoss'].isnull().value_counts()"
      ],
      "execution_count": 27,
      "outputs": [
        {
          "output_type": "execute_result",
          "data": {
            "text/plain": [
              "False    2453803\n",
              "Name: dateOfLoss, dtype: int64"
            ]
          },
          "metadata": {
            "tags": []
          },
          "execution_count": 27
        }
      ]
    },
    {
      "cell_type": "code",
      "metadata": {
        "id": "3um4eEEjRVv-",
        "colab": {
          "base_uri": "https://localhost:8080/"
        },
        "outputId": "2f7e4c10-0289-42cc-d6e9-e4c649377335"
      },
      "source": [
        "# Year of loss\n",
        "df['dateOfLoss'].value_counts()"
      ],
      "execution_count": 28,
      "outputs": [
        {
          "output_type": "execute_result",
          "data": {
            "text/plain": [
              "2005-08-29T04:00:00.000Z    184472\n",
              "2012-10-29T04:00:00.000Z    126705\n",
              "2008-09-13T04:00:00.000Z     43526\n",
              "2011-08-28T04:00:00.000Z     32345\n",
              "1995-05-08T04:00:00.000Z     31484\n",
              "                             ...  \n",
              "1994-09-21T04:00:00.000Z         1\n",
              "1986-01-12T05:00:00.000Z         1\n",
              "1988-01-05T05:00:00.000Z         1\n",
              "1988-12-16T05:00:00.000Z         1\n",
              "1975-07-19T04:00:00.000Z         1\n",
              "Name: dateOfLoss, Length: 15871, dtype: int64"
            ]
          },
          "metadata": {
            "tags": []
          },
          "execution_count": 28
        }
      ]
    },
    {
      "cell_type": "code",
      "metadata": {
        "id": "QUiR4kw5RVv-"
      },
      "source": [
        "# new data frame with split value columns \n",
        "dateOfLoss_splited = df['dateOfLoss'].str.split(\"T\", n = 1, expand = True) "
      ],
      "execution_count": 29,
      "outputs": []
    },
    {
      "cell_type": "code",
      "metadata": {
        "id": "bfG-OLwcRVv-",
        "colab": {
          "base_uri": "https://localhost:8080/",
          "height": 419
        },
        "outputId": "8bd06edb-e1db-4e85-8ab8-5f1fff7def9c"
      },
      "source": [
        "dateOfLoss_splited"
      ],
      "execution_count": 30,
      "outputs": [
        {
          "output_type": "execute_result",
          "data": {
            "text/html": [
              "<div>\n",
              "<style scoped>\n",
              "    .dataframe tbody tr th:only-of-type {\n",
              "        vertical-align: middle;\n",
              "    }\n",
              "\n",
              "    .dataframe tbody tr th {\n",
              "        vertical-align: top;\n",
              "    }\n",
              "\n",
              "    .dataframe thead th {\n",
              "        text-align: right;\n",
              "    }\n",
              "</style>\n",
              "<table border=\"1\" class=\"dataframe\">\n",
              "  <thead>\n",
              "    <tr style=\"text-align: right;\">\n",
              "      <th></th>\n",
              "      <th>0</th>\n",
              "      <th>1</th>\n",
              "    </tr>\n",
              "  </thead>\n",
              "  <tbody>\n",
              "    <tr>\n",
              "      <th>0</th>\n",
              "      <td>2014-08-11</td>\n",
              "      <td>04:00:00.000Z</td>\n",
              "    </tr>\n",
              "    <tr>\n",
              "      <th>1</th>\n",
              "      <td>1999-09-16</td>\n",
              "      <td>04:00:00.000Z</td>\n",
              "    </tr>\n",
              "    <tr>\n",
              "      <th>2</th>\n",
              "      <td>2016-07-07</td>\n",
              "      <td>04:00:00.000Z</td>\n",
              "    </tr>\n",
              "    <tr>\n",
              "      <th>3</th>\n",
              "      <td>2014-08-11</td>\n",
              "      <td>04:00:00.000Z</td>\n",
              "    </tr>\n",
              "    <tr>\n",
              "      <th>4</th>\n",
              "      <td>2016-07-08</td>\n",
              "      <td>04:00:00.000Z</td>\n",
              "    </tr>\n",
              "    <tr>\n",
              "      <th>...</th>\n",
              "      <td>...</td>\n",
              "      <td>...</td>\n",
              "    </tr>\n",
              "    <tr>\n",
              "      <th>2495978</th>\n",
              "      <td>1999-09-16</td>\n",
              "      <td>04:00:00.000Z</td>\n",
              "    </tr>\n",
              "    <tr>\n",
              "      <th>2495979</th>\n",
              "      <td>1999-05-25</td>\n",
              "      <td>04:00:00.000Z</td>\n",
              "    </tr>\n",
              "    <tr>\n",
              "      <th>2495980</th>\n",
              "      <td>2006-11-06</td>\n",
              "      <td>05:00:00.000Z</td>\n",
              "    </tr>\n",
              "    <tr>\n",
              "      <th>2495981</th>\n",
              "      <td>1993-01-21</td>\n",
              "      <td>05:00:00.000Z</td>\n",
              "    </tr>\n",
              "    <tr>\n",
              "      <th>2495982</th>\n",
              "      <td>1993-03-13</td>\n",
              "      <td>05:00:00.000Z</td>\n",
              "    </tr>\n",
              "  </tbody>\n",
              "</table>\n",
              "<p>2453803 rows × 2 columns</p>\n",
              "</div>"
            ],
            "text/plain": [
              "                  0              1\n",
              "0        2014-08-11  04:00:00.000Z\n",
              "1        1999-09-16  04:00:00.000Z\n",
              "2        2016-07-07  04:00:00.000Z\n",
              "3        2014-08-11  04:00:00.000Z\n",
              "4        2016-07-08  04:00:00.000Z\n",
              "...             ...            ...\n",
              "2495978  1999-09-16  04:00:00.000Z\n",
              "2495979  1999-05-25  04:00:00.000Z\n",
              "2495980  2006-11-06  05:00:00.000Z\n",
              "2495981  1993-01-21  05:00:00.000Z\n",
              "2495982  1993-03-13  05:00:00.000Z\n",
              "\n",
              "[2453803 rows x 2 columns]"
            ]
          },
          "metadata": {
            "tags": []
          },
          "execution_count": 30
        }
      ]
    },
    {
      "cell_type": "code",
      "metadata": {
        "id": "E8nJTT3ARVv_",
        "colab": {
          "base_uri": "https://localhost:8080/"
        },
        "outputId": "26e76483-1bb8-4fbc-fed3-d1525d8e9ee0"
      },
      "source": [
        "df['EventDate'] = dateOfLoss_splited[0]"
      ],
      "execution_count": 31,
      "outputs": [
        {
          "output_type": "stream",
          "text": [
            "/usr/local/lib/python3.7/dist-packages/ipykernel_launcher.py:1: SettingWithCopyWarning: \n",
            "A value is trying to be set on a copy of a slice from a DataFrame.\n",
            "Try using .loc[row_indexer,col_indexer] = value instead\n",
            "\n",
            "See the caveats in the documentation: https://pandas.pydata.org/pandas-docs/stable/user_guide/indexing.html#returning-a-view-versus-a-copy\n",
            "  \"\"\"Entry point for launching an IPython kernel.\n"
          ],
          "name": "stderr"
        }
      ]
    },
    {
      "cell_type": "code",
      "metadata": {
        "id": "77Qn4gHfRVv_",
        "colab": {
          "base_uri": "https://localhost:8080/"
        },
        "outputId": "b9ff1c76-ace4-4404-c45d-dc9b072a8d21"
      },
      "source": [
        "df.info()"
      ],
      "execution_count": 32,
      "outputs": [
        {
          "output_type": "stream",
          "text": [
            "<class 'pandas.core.frame.DataFrame'>\n",
            "Int64Index: 2453803 entries, 0 to 2495982\n",
            "Data columns (total 41 columns):\n",
            " #   Column                                      Dtype  \n",
            "---  ------                                      -----  \n",
            " 0   agricultureStructureIndicator               float64\n",
            " 1   asOfDate                                    object \n",
            " 2   baseFloodElevation                          float64\n",
            " 3   basementEnclosureCrawlspace                 float64\n",
            " 4   reportedCity                                object \n",
            " 5   condominiumIndicator                        object \n",
            " 6   policyCount                                 float64\n",
            " 7   countyCode                                  float64\n",
            " 8   communityRatingSystemDiscount               float64\n",
            " 9   dateOfLoss                                  object \n",
            " 10  elevatedBuildingIndicator                   float64\n",
            " 11  elevationCertificateIndicator               float64\n",
            " 12  elevationDifference                         float64\n",
            " 13  censusTract                                 float64\n",
            " 14  floodZone                                   object \n",
            " 15  houseWorship                                float64\n",
            " 16  latitude                                    float64\n",
            " 17  longitude                                   float64\n",
            " 18  locationOfContents                          float64\n",
            " 19  lowestAdjacentGrade                         float64\n",
            " 20  lowestFloorElevation                        float64\n",
            " 21  numberOfFloorsInTheInsuredBuilding          float64\n",
            " 22  nonProfitIndicator                          float64\n",
            " 23  obstructionType                             float64\n",
            " 24  occupancyType                               float64\n",
            " 25  originalConstructionDate                    object \n",
            " 26  originalNBDate                              object \n",
            " 27  amountPaidOnBuildingClaim                   float64\n",
            " 28  amountPaidOnContentsClaim                   float64\n",
            " 29  amountPaidOnIncreasedCostOfComplianceClaim  float64\n",
            " 30  postFIRMConstructionIndicator               float64\n",
            " 31  rateMethod                                  object \n",
            " 32  smallBusinessIndicatorBuilding              float64\n",
            " 33  state                                       object \n",
            " 34  totalBuildingInsuranceCoverage              float64\n",
            " 35  totalContentsInsuranceCoverage              float64\n",
            " 36  yearOfLoss                                  int64  \n",
            " 37  reportedZipcode                             float64\n",
            " 38  primaryResidence                            float64\n",
            " 39  id                                          object \n",
            " 40  EventDate                                   object \n",
            "dtypes: float64(29), int64(1), object(11)\n",
            "memory usage: 786.3+ MB\n"
          ],
          "name": "stdout"
        }
      ]
    },
    {
      "cell_type": "code",
      "metadata": {
        "id": "xzZeER5bRVwA",
        "colab": {
          "base_uri": "https://localhost:8080/",
          "height": 419
        },
        "outputId": "23c4be59-d6b4-4e00-de3c-26d4b5c2f855"
      },
      "source": [
        "df[['dateOfLoss', 'EventDate']]"
      ],
      "execution_count": 33,
      "outputs": [
        {
          "output_type": "execute_result",
          "data": {
            "text/html": [
              "<div>\n",
              "<style scoped>\n",
              "    .dataframe tbody tr th:only-of-type {\n",
              "        vertical-align: middle;\n",
              "    }\n",
              "\n",
              "    .dataframe tbody tr th {\n",
              "        vertical-align: top;\n",
              "    }\n",
              "\n",
              "    .dataframe thead th {\n",
              "        text-align: right;\n",
              "    }\n",
              "</style>\n",
              "<table border=\"1\" class=\"dataframe\">\n",
              "  <thead>\n",
              "    <tr style=\"text-align: right;\">\n",
              "      <th></th>\n",
              "      <th>dateOfLoss</th>\n",
              "      <th>EventDate</th>\n",
              "    </tr>\n",
              "  </thead>\n",
              "  <tbody>\n",
              "    <tr>\n",
              "      <th>0</th>\n",
              "      <td>2014-08-11T04:00:00.000Z</td>\n",
              "      <td>2014-08-11</td>\n",
              "    </tr>\n",
              "    <tr>\n",
              "      <th>1</th>\n",
              "      <td>1999-09-16T04:00:00.000Z</td>\n",
              "      <td>1999-09-16</td>\n",
              "    </tr>\n",
              "    <tr>\n",
              "      <th>2</th>\n",
              "      <td>2016-07-07T04:00:00.000Z</td>\n",
              "      <td>2016-07-07</td>\n",
              "    </tr>\n",
              "    <tr>\n",
              "      <th>3</th>\n",
              "      <td>2014-08-11T04:00:00.000Z</td>\n",
              "      <td>2014-08-11</td>\n",
              "    </tr>\n",
              "    <tr>\n",
              "      <th>4</th>\n",
              "      <td>2016-07-08T04:00:00.000Z</td>\n",
              "      <td>2016-07-08</td>\n",
              "    </tr>\n",
              "    <tr>\n",
              "      <th>...</th>\n",
              "      <td>...</td>\n",
              "      <td>...</td>\n",
              "    </tr>\n",
              "    <tr>\n",
              "      <th>2495978</th>\n",
              "      <td>1999-09-16T04:00:00.000Z</td>\n",
              "      <td>1999-09-16</td>\n",
              "    </tr>\n",
              "    <tr>\n",
              "      <th>2495979</th>\n",
              "      <td>1999-05-25T04:00:00.000Z</td>\n",
              "      <td>1999-05-25</td>\n",
              "    </tr>\n",
              "    <tr>\n",
              "      <th>2495980</th>\n",
              "      <td>2006-11-06T05:00:00.000Z</td>\n",
              "      <td>2006-11-06</td>\n",
              "    </tr>\n",
              "    <tr>\n",
              "      <th>2495981</th>\n",
              "      <td>1993-01-21T05:00:00.000Z</td>\n",
              "      <td>1993-01-21</td>\n",
              "    </tr>\n",
              "    <tr>\n",
              "      <th>2495982</th>\n",
              "      <td>1993-03-13T05:00:00.000Z</td>\n",
              "      <td>1993-03-13</td>\n",
              "    </tr>\n",
              "  </tbody>\n",
              "</table>\n",
              "<p>2453803 rows × 2 columns</p>\n",
              "</div>"
            ],
            "text/plain": [
              "                       dateOfLoss   EventDate\n",
              "0        2014-08-11T04:00:00.000Z  2014-08-11\n",
              "1        1999-09-16T04:00:00.000Z  1999-09-16\n",
              "2        2016-07-07T04:00:00.000Z  2016-07-07\n",
              "3        2014-08-11T04:00:00.000Z  2014-08-11\n",
              "4        2016-07-08T04:00:00.000Z  2016-07-08\n",
              "...                           ...         ...\n",
              "2495978  1999-09-16T04:00:00.000Z  1999-09-16\n",
              "2495979  1999-05-25T04:00:00.000Z  1999-05-25\n",
              "2495980  2006-11-06T05:00:00.000Z  2006-11-06\n",
              "2495981  1993-01-21T05:00:00.000Z  1993-01-21\n",
              "2495982  1993-03-13T05:00:00.000Z  1993-03-13\n",
              "\n",
              "[2453803 rows x 2 columns]"
            ]
          },
          "metadata": {
            "tags": []
          },
          "execution_count": 33
        }
      ]
    },
    {
      "cell_type": "code",
      "metadata": {
        "id": "GFMMbIfFRVwA",
        "colab": {
          "base_uri": "https://localhost:8080/"
        },
        "outputId": "182fe335-64f2-4b66-c2bf-ea09265db6d4"
      },
      "source": [
        "# Transform features expressing a date from object to Python datetime\n",
        "pd.to_datetime(df['EventDate'], yearfirst=True)"
      ],
      "execution_count": 34,
      "outputs": [
        {
          "output_type": "execute_result",
          "data": {
            "text/plain": [
              "0         2014-08-11\n",
              "1         1999-09-16\n",
              "2         2016-07-07\n",
              "3         2014-08-11\n",
              "4         2016-07-08\n",
              "             ...    \n",
              "2495978   1999-09-16\n",
              "2495979   1999-05-25\n",
              "2495980   2006-11-06\n",
              "2495981   1993-01-21\n",
              "2495982   1993-03-13\n",
              "Name: EventDate, Length: 2453803, dtype: datetime64[ns]"
            ]
          },
          "metadata": {
            "tags": []
          },
          "execution_count": 34
        }
      ]
    },
    {
      "cell_type": "code",
      "metadata": {
        "id": "kRbUhoyORVwA",
        "colab": {
          "base_uri": "https://localhost:8080/"
        },
        "outputId": "cc869f27-13df-4753-e505-6a5fcfe0d56c"
      },
      "source": [
        "df['EventDate'].describe()"
      ],
      "execution_count": 35,
      "outputs": [
        {
          "output_type": "execute_result",
          "data": {
            "text/plain": [
              "count        2453803\n",
              "unique         15871\n",
              "top       2005-08-29\n",
              "freq          184472\n",
              "Name: EventDate, dtype: object"
            ]
          },
          "metadata": {
            "tags": []
          },
          "execution_count": 35
        }
      ]
    },
    {
      "cell_type": "code",
      "metadata": {
        "id": "P-0MwVlfRVwB",
        "colab": {
          "base_uri": "https://localhost:8080/",
          "height": 35
        },
        "outputId": "aeec9a29-35a5-4a9e-c081-72a9d0cbac00"
      },
      "source": [
        "# First event in the dataset\n",
        "df['EventDate'].min()"
      ],
      "execution_count": 36,
      "outputs": [
        {
          "output_type": "execute_result",
          "data": {
            "application/vnd.google.colaboratory.intrinsic+json": {
              "type": "string"
            },
            "text/plain": [
              "'1973-04-04'"
            ]
          },
          "metadata": {
            "tags": []
          },
          "execution_count": 36
        }
      ]
    },
    {
      "cell_type": "code",
      "metadata": {
        "id": "vHq7Kj1CRVwB",
        "colab": {
          "base_uri": "https://localhost:8080/",
          "height": 35
        },
        "outputId": "09b16c9e-88fe-4d10-98d1-f03246bdaf0a"
      },
      "source": [
        "# Last event in the dataset\n",
        "df['EventDate'].max()"
      ],
      "execution_count": 37,
      "outputs": [
        {
          "output_type": "execute_result",
          "data": {
            "application/vnd.google.colaboratory.intrinsic+json": {
              "type": "string"
            },
            "text/plain": [
              "'2020-10-30'"
            ]
          },
          "metadata": {
            "tags": []
          },
          "execution_count": 37
        }
      ]
    },
    {
      "cell_type": "code",
      "metadata": {
        "id": "PwXzDkl1RVwB"
      },
      "source": [
        "# Rearrange column order to facilitate reading for humans\n",
        "df = df[['latitude', 'longitude', 'state','countyCode', 'reportedCity', 'reportedZipcode', 'censusTract',\n",
        "                         'yearOfLoss', 'EventDate',\n",
        "                         'totalBuildingInsuranceCoverage', 'totalContentsInsuranceCoverage',\n",
        "                         'amountPaidOnBuildingClaim', 'amountPaidOnContentsClaim', 'amountPaidOnIncreasedCostOfComplianceClaim',\n",
        "                         'occupancyType', 'originalConstructionDate', 'condominiumIndicator', 'primaryResidence',\n",
        "                         'nonProfitIndicator', 'smallBusinessIndicatorBuilding', 'houseWorship',\n",
        "                         'floodZone', 'baseFloodElevation', 'elevatedBuildingIndicator',\n",
        "                         'lowestAdjacentGrade', 'lowestFloorElevation',\n",
        "                         'numberOfFloorsInTheInsuredBuilding',\n",
        "                         'elevationCertificateIndicator', 'elevationDifference',\n",
        "                         'basementEnclosureCrawlspace', 'obstructionType',\n",
        "                         'locationOfContents', 'agricultureStructureIndicator', 'asOfDate',\n",
        "                         'policyCount',  'communityRatingSystemDiscount',  'originalNBDate',\n",
        "                         'postFIRMConstructionIndicator', 'rateMethod', 'id']]"
      ],
      "execution_count": 38,
      "outputs": []
    },
    {
      "cell_type": "code",
      "metadata": {
        "id": "Mi-ZJiA2RVwC",
        "colab": {
          "base_uri": "https://localhost:8080/"
        },
        "outputId": "9a6f2a5e-6085-4d10-c77e-7be7ce34fa38"
      },
      "source": [
        "df.info()"
      ],
      "execution_count": 39,
      "outputs": [
        {
          "output_type": "stream",
          "text": [
            "<class 'pandas.core.frame.DataFrame'>\n",
            "Int64Index: 2453803 entries, 0 to 2495982\n",
            "Data columns (total 40 columns):\n",
            " #   Column                                      Dtype  \n",
            "---  ------                                      -----  \n",
            " 0   latitude                                    float64\n",
            " 1   longitude                                   float64\n",
            " 2   state                                       object \n",
            " 3   countyCode                                  float64\n",
            " 4   reportedCity                                object \n",
            " 5   reportedZipcode                             float64\n",
            " 6   censusTract                                 float64\n",
            " 7   yearOfLoss                                  int64  \n",
            " 8   EventDate                                   object \n",
            " 9   totalBuildingInsuranceCoverage              float64\n",
            " 10  totalContentsInsuranceCoverage              float64\n",
            " 11  amountPaidOnBuildingClaim                   float64\n",
            " 12  amountPaidOnContentsClaim                   float64\n",
            " 13  amountPaidOnIncreasedCostOfComplianceClaim  float64\n",
            " 14  occupancyType                               float64\n",
            " 15  originalConstructionDate                    object \n",
            " 16  condominiumIndicator                        object \n",
            " 17  primaryResidence                            float64\n",
            " 18  nonProfitIndicator                          float64\n",
            " 19  smallBusinessIndicatorBuilding              float64\n",
            " 20  houseWorship                                float64\n",
            " 21  floodZone                                   object \n",
            " 22  baseFloodElevation                          float64\n",
            " 23  elevatedBuildingIndicator                   float64\n",
            " 24  lowestAdjacentGrade                         float64\n",
            " 25  lowestFloorElevation                        float64\n",
            " 26  numberOfFloorsInTheInsuredBuilding          float64\n",
            " 27  elevationCertificateIndicator               float64\n",
            " 28  elevationDifference                         float64\n",
            " 29  basementEnclosureCrawlspace                 float64\n",
            " 30  obstructionType                             float64\n",
            " 31  locationOfContents                          float64\n",
            " 32  agricultureStructureIndicator               float64\n",
            " 33  asOfDate                                    object \n",
            " 34  policyCount                                 float64\n",
            " 35  communityRatingSystemDiscount               float64\n",
            " 36  originalNBDate                              object \n",
            " 37  postFIRMConstructionIndicator               float64\n",
            " 38  rateMethod                                  object \n",
            " 39  id                                          object \n",
            "dtypes: float64(29), int64(1), object(10)\n",
            "memory usage: 767.6+ MB\n"
          ],
          "name": "stdout"
        }
      ]
    },
    {
      "cell_type": "markdown",
      "metadata": {
        "id": "867ISfTMRVwC"
      },
      "source": [
        "# Select instances for August 29, 2005 event (Hurricane Katrina)"
      ]
    },
    {
      "cell_type": "code",
      "metadata": {
        "id": "Rh01RkPdRVwC"
      },
      "source": [
        "# Select instances for August 29, 2005 event (Hurricane Katrina)\n",
        "df_Katrina = df[df['EventDate'] == '2005-08-29']"
      ],
      "execution_count": 40,
      "outputs": []
    },
    {
      "cell_type": "code",
      "metadata": {
        "id": "5VMP0aR0RVwD",
        "colab": {
          "base_uri": "https://localhost:8080/"
        },
        "outputId": "a3b164a8-2c46-4db5-b14a-f4a15e7949f9"
      },
      "source": [
        "# Shape of the data set related to event Katrina\n",
        "nRow, nCol = df_Katrina.shape\n",
        "nRow = '{:,.0f}'.format(nRow)\n",
        "print(f'There are {nRow} rows and {nCol} columns')"
      ],
      "execution_count": 41,
      "outputs": [
        {
          "output_type": "stream",
          "text": [
            "There are 184,472 rows and 40 columns\n"
          ],
          "name": "stdout"
        }
      ]
    },
    {
      "cell_type": "code",
      "metadata": {
        "id": "yj66kDXvRVwD",
        "colab": {
          "base_uri": "https://localhost:8080/"
        },
        "outputId": "a0c8156d-3f97-496b-ac20-746c540c2235"
      },
      "source": [
        "df_Katrina.info()"
      ],
      "execution_count": 42,
      "outputs": [
        {
          "output_type": "stream",
          "text": [
            "<class 'pandas.core.frame.DataFrame'>\n",
            "Int64Index: 184472 entries, 1237 to 2495971\n",
            "Data columns (total 40 columns):\n",
            " #   Column                                      Non-Null Count   Dtype  \n",
            "---  ------                                      --------------   -----  \n",
            " 0   latitude                                    184472 non-null  float64\n",
            " 1   longitude                                   184472 non-null  float64\n",
            " 2   state                                       184472 non-null  object \n",
            " 3   countyCode                                  184330 non-null  float64\n",
            " 4   reportedCity                                184466 non-null  object \n",
            " 5   reportedZipcode                             184410 non-null  float64\n",
            " 6   censusTract                                 183297 non-null  float64\n",
            " 7   yearOfLoss                                  184472 non-null  int64  \n",
            " 8   EventDate                                   184472 non-null  object \n",
            " 9   totalBuildingInsuranceCoverage              184472 non-null  float64\n",
            " 10  totalContentsInsuranceCoverage              184472 non-null  float64\n",
            " 11  amountPaidOnBuildingClaim                   136567 non-null  float64\n",
            " 12  amountPaidOnContentsClaim                   110318 non-null  float64\n",
            " 13  amountPaidOnIncreasedCostOfComplianceClaim  11046 non-null   float64\n",
            " 14  occupancyType                               184472 non-null  float64\n",
            " 15  originalConstructionDate                    184472 non-null  object \n",
            " 16  condominiumIndicator                        184454 non-null  object \n",
            " 17  primaryResidence                            184472 non-null  float64\n",
            " 18  nonProfitIndicator                          184472 non-null  float64\n",
            " 19  smallBusinessIndicatorBuilding              184472 non-null  float64\n",
            " 20  houseWorship                                184472 non-null  float64\n",
            " 21  floodZone                                   182542 non-null  object \n",
            " 22  baseFloodElevation                          75692 non-null   float64\n",
            " 23  elevatedBuildingIndicator                   184472 non-null  float64\n",
            " 24  lowestAdjacentGrade                         53321 non-null   float64\n",
            " 25  lowestFloorElevation                        75701 non-null   float64\n",
            " 26  numberOfFloorsInTheInsuredBuilding          182544 non-null  float64\n",
            " 27  elevationCertificateIndicator               39436 non-null   float64\n",
            " 28  elevationDifference                         89488 non-null   float64\n",
            " 29  basementEnclosureCrawlspace                 14281 non-null   float64\n",
            " 30  obstructionType                             75559 non-null   float64\n",
            " 31  locationOfContents                          137610 non-null  float64\n",
            " 32  agricultureStructureIndicator               184472 non-null  float64\n",
            " 33  asOfDate                                    184472 non-null  object \n",
            " 34  policyCount                                 184472 non-null  float64\n",
            " 35  communityRatingSystemDiscount               160199 non-null  float64\n",
            " 36  originalNBDate                              184472 non-null  object \n",
            " 37  postFIRMConstructionIndicator               184472 non-null  float64\n",
            " 38  rateMethod                                  184472 non-null  object \n",
            " 39  id                                          184472 non-null  object \n",
            "dtypes: float64(29), int64(1), object(10)\n",
            "memory usage: 57.7+ MB\n"
          ],
          "name": "stdout"
        }
      ]
    },
    {
      "cell_type": "code",
      "metadata": {
        "id": "S3ofZB6uRVwE",
        "colab": {
          "base_uri": "https://localhost:8080/"
        },
        "outputId": "f46a86c2-89a8-4f2a-c780-796b22f732c1"
      },
      "source": [
        "df_Katrina.columns"
      ],
      "execution_count": 43,
      "outputs": [
        {
          "output_type": "execute_result",
          "data": {
            "text/plain": [
              "Index(['latitude', 'longitude', 'state', 'countyCode', 'reportedCity',\n",
              "       'reportedZipcode', 'censusTract', 'yearOfLoss', 'EventDate',\n",
              "       'totalBuildingInsuranceCoverage', 'totalContentsInsuranceCoverage',\n",
              "       'amountPaidOnBuildingClaim', 'amountPaidOnContentsClaim',\n",
              "       'amountPaidOnIncreasedCostOfComplianceClaim', 'occupancyType',\n",
              "       'originalConstructionDate', 'condominiumIndicator', 'primaryResidence',\n",
              "       'nonProfitIndicator', 'smallBusinessIndicatorBuilding', 'houseWorship',\n",
              "       'floodZone', 'baseFloodElevation', 'elevatedBuildingIndicator',\n",
              "       'lowestAdjacentGrade', 'lowestFloorElevation',\n",
              "       'numberOfFloorsInTheInsuredBuilding', 'elevationCertificateIndicator',\n",
              "       'elevationDifference', 'basementEnclosureCrawlspace', 'obstructionType',\n",
              "       'locationOfContents', 'agricultureStructureIndicator', 'asOfDate',\n",
              "       'policyCount', 'communityRatingSystemDiscount', 'originalNBDate',\n",
              "       'postFIRMConstructionIndicator', 'rateMethod', 'id'],\n",
              "      dtype='object')"
            ]
          },
          "metadata": {
            "tags": []
          },
          "execution_count": 43
        }
      ]
    },
    {
      "cell_type": "code",
      "metadata": {
        "id": "UI7lqQPvRVwF",
        "colab": {
          "base_uri": "https://localhost:8080/",
          "height": 549
        },
        "outputId": "f44de80d-9fb7-420c-d2c4-9dd9fff88d9a"
      },
      "source": [
        "with pd.option_context('display.max_columns', 100):\n",
        "    display(df_Katrina.head(10))"
      ],
      "execution_count": 44,
      "outputs": [
        {
          "output_type": "display_data",
          "data": {
            "text/html": [
              "<div>\n",
              "<style scoped>\n",
              "    .dataframe tbody tr th:only-of-type {\n",
              "        vertical-align: middle;\n",
              "    }\n",
              "\n",
              "    .dataframe tbody tr th {\n",
              "        vertical-align: top;\n",
              "    }\n",
              "\n",
              "    .dataframe thead th {\n",
              "        text-align: right;\n",
              "    }\n",
              "</style>\n",
              "<table border=\"1\" class=\"dataframe\">\n",
              "  <thead>\n",
              "    <tr style=\"text-align: right;\">\n",
              "      <th></th>\n",
              "      <th>latitude</th>\n",
              "      <th>longitude</th>\n",
              "      <th>state</th>\n",
              "      <th>countyCode</th>\n",
              "      <th>reportedCity</th>\n",
              "      <th>reportedZipcode</th>\n",
              "      <th>censusTract</th>\n",
              "      <th>yearOfLoss</th>\n",
              "      <th>EventDate</th>\n",
              "      <th>totalBuildingInsuranceCoverage</th>\n",
              "      <th>totalContentsInsuranceCoverage</th>\n",
              "      <th>amountPaidOnBuildingClaim</th>\n",
              "      <th>amountPaidOnContentsClaim</th>\n",
              "      <th>amountPaidOnIncreasedCostOfComplianceClaim</th>\n",
              "      <th>occupancyType</th>\n",
              "      <th>originalConstructionDate</th>\n",
              "      <th>condominiumIndicator</th>\n",
              "      <th>primaryResidence</th>\n",
              "      <th>nonProfitIndicator</th>\n",
              "      <th>smallBusinessIndicatorBuilding</th>\n",
              "      <th>houseWorship</th>\n",
              "      <th>floodZone</th>\n",
              "      <th>baseFloodElevation</th>\n",
              "      <th>elevatedBuildingIndicator</th>\n",
              "      <th>lowestAdjacentGrade</th>\n",
              "      <th>lowestFloorElevation</th>\n",
              "      <th>numberOfFloorsInTheInsuredBuilding</th>\n",
              "      <th>elevationCertificateIndicator</th>\n",
              "      <th>elevationDifference</th>\n",
              "      <th>basementEnclosureCrawlspace</th>\n",
              "      <th>obstructionType</th>\n",
              "      <th>locationOfContents</th>\n",
              "      <th>agricultureStructureIndicator</th>\n",
              "      <th>asOfDate</th>\n",
              "      <th>policyCount</th>\n",
              "      <th>communityRatingSystemDiscount</th>\n",
              "      <th>originalNBDate</th>\n",
              "      <th>postFIRMConstructionIndicator</th>\n",
              "      <th>rateMethod</th>\n",
              "      <th>id</th>\n",
              "    </tr>\n",
              "  </thead>\n",
              "  <tbody>\n",
              "    <tr>\n",
              "      <th>1237</th>\n",
              "      <td>30.0</td>\n",
              "      <td>-90.2</td>\n",
              "      <td>LA</td>\n",
              "      <td>22051.0</td>\n",
              "      <td>HARAHAN</td>\n",
              "      <td>70123.0</td>\n",
              "      <td>2.205102e+10</td>\n",
              "      <td>2005</td>\n",
              "      <td>2005-08-29</td>\n",
              "      <td>200000.0</td>\n",
              "      <td>100000.0</td>\n",
              "      <td>NaN</td>\n",
              "      <td>NaN</td>\n",
              "      <td>NaN</td>\n",
              "      <td>4.0</td>\n",
              "      <td>1975-06-01T04:00:00.000Z</td>\n",
              "      <td>N</td>\n",
              "      <td>0.0</td>\n",
              "      <td>0.0</td>\n",
              "      <td>0.0</td>\n",
              "      <td>0.0</td>\n",
              "      <td>X</td>\n",
              "      <td>NaN</td>\n",
              "      <td>0.0</td>\n",
              "      <td>NaN</td>\n",
              "      <td>NaN</td>\n",
              "      <td>1.0</td>\n",
              "      <td>NaN</td>\n",
              "      <td>NaN</td>\n",
              "      <td>NaN</td>\n",
              "      <td>NaN</td>\n",
              "      <td>3.0</td>\n",
              "      <td>0.0</td>\n",
              "      <td>2020-11-01T23:58:45.858Z</td>\n",
              "      <td>1.0</td>\n",
              "      <td>8.0</td>\n",
              "      <td>1997-08-29T04:00:00.000Z</td>\n",
              "      <td>1.0</td>\n",
              "      <td>1</td>\n",
              "      <td>5faad46bad3f68081876d50f</td>\n",
              "    </tr>\n",
              "    <tr>\n",
              "      <th>1247</th>\n",
              "      <td>30.0</td>\n",
              "      <td>-90.3</td>\n",
              "      <td>LA</td>\n",
              "      <td>22051.0</td>\n",
              "      <td>KENNER</td>\n",
              "      <td>70062.0</td>\n",
              "      <td>2.205102e+10</td>\n",
              "      <td>2005</td>\n",
              "      <td>2005-08-29</td>\n",
              "      <td>163400.0</td>\n",
              "      <td>220500.0</td>\n",
              "      <td>96629.92</td>\n",
              "      <td>75000.00</td>\n",
              "      <td>NaN</td>\n",
              "      <td>4.0</td>\n",
              "      <td>1997-01-25T05:00:00.000Z</td>\n",
              "      <td>N</td>\n",
              "      <td>0.0</td>\n",
              "      <td>0.0</td>\n",
              "      <td>0.0</td>\n",
              "      <td>0.0</td>\n",
              "      <td>AE</td>\n",
              "      <td>3.0</td>\n",
              "      <td>0.0</td>\n",
              "      <td>0.0</td>\n",
              "      <td>3.0</td>\n",
              "      <td>1.0</td>\n",
              "      <td>NaN</td>\n",
              "      <td>0.0</td>\n",
              "      <td>NaN</td>\n",
              "      <td>NaN</td>\n",
              "      <td>3.0</td>\n",
              "      <td>0.0</td>\n",
              "      <td>2020-11-01T23:58:45.858Z</td>\n",
              "      <td>1.0</td>\n",
              "      <td>6.0</td>\n",
              "      <td>1997-07-25T04:00:00.000Z</td>\n",
              "      <td>1.0</td>\n",
              "      <td>1</td>\n",
              "      <td>5faad46bad3f68081876d507</td>\n",
              "    </tr>\n",
              "    <tr>\n",
              "      <th>1414</th>\n",
              "      <td>30.3</td>\n",
              "      <td>-89.8</td>\n",
              "      <td>LA</td>\n",
              "      <td>22103.0</td>\n",
              "      <td>SLIDELL</td>\n",
              "      <td>70458.0</td>\n",
              "      <td>2.210304e+10</td>\n",
              "      <td>2005</td>\n",
              "      <td>2005-08-29</td>\n",
              "      <td>117000.0</td>\n",
              "      <td>38600.0</td>\n",
              "      <td>117000.00</td>\n",
              "      <td>38600.00</td>\n",
              "      <td>NaN</td>\n",
              "      <td>1.0</td>\n",
              "      <td>1974-12-30T05:00:00.000Z</td>\n",
              "      <td>N</td>\n",
              "      <td>0.0</td>\n",
              "      <td>0.0</td>\n",
              "      <td>0.0</td>\n",
              "      <td>0.0</td>\n",
              "      <td>C</td>\n",
              "      <td>NaN</td>\n",
              "      <td>0.0</td>\n",
              "      <td>NaN</td>\n",
              "      <td>NaN</td>\n",
              "      <td>1.0</td>\n",
              "      <td>NaN</td>\n",
              "      <td>NaN</td>\n",
              "      <td>NaN</td>\n",
              "      <td>NaN</td>\n",
              "      <td>3.0</td>\n",
              "      <td>0.0</td>\n",
              "      <td>2020-11-01T23:58:45.858Z</td>\n",
              "      <td>1.0</td>\n",
              "      <td>7.0</td>\n",
              "      <td>1997-07-25T04:00:00.000Z</td>\n",
              "      <td>0.0</td>\n",
              "      <td>1</td>\n",
              "      <td>5faad46bad3f68081876d5cd</td>\n",
              "    </tr>\n",
              "    <tr>\n",
              "      <th>2270</th>\n",
              "      <td>30.0</td>\n",
              "      <td>-90.1</td>\n",
              "      <td>LA</td>\n",
              "      <td>22071.0</td>\n",
              "      <td>NEW ORLEANS</td>\n",
              "      <td>70118.0</td>\n",
              "      <td>2.207101e+10</td>\n",
              "      <td>2005</td>\n",
              "      <td>2005-08-29</td>\n",
              "      <td>250000.0</td>\n",
              "      <td>100000.0</td>\n",
              "      <td>105036.03</td>\n",
              "      <td>10927.64</td>\n",
              "      <td>NaN</td>\n",
              "      <td>2.0</td>\n",
              "      <td>2040-01-01T05:00:00.000Z</td>\n",
              "      <td>N</td>\n",
              "      <td>1.0</td>\n",
              "      <td>0.0</td>\n",
              "      <td>0.0</td>\n",
              "      <td>0.0</td>\n",
              "      <td>X</td>\n",
              "      <td>NaN</td>\n",
              "      <td>0.0</td>\n",
              "      <td>NaN</td>\n",
              "      <td>NaN</td>\n",
              "      <td>2.0</td>\n",
              "      <td>NaN</td>\n",
              "      <td>NaN</td>\n",
              "      <td>0.0</td>\n",
              "      <td>NaN</td>\n",
              "      <td>5.0</td>\n",
              "      <td>0.0</td>\n",
              "      <td>2020-11-01T23:58:45.858Z</td>\n",
              "      <td>1.0</td>\n",
              "      <td>8.0</td>\n",
              "      <td>1997-09-01T04:00:00.000Z</td>\n",
              "      <td>0.0</td>\n",
              "      <td>7</td>\n",
              "      <td>5faad46cad3f68081876d917</td>\n",
              "    </tr>\n",
              "    <tr>\n",
              "      <th>2295</th>\n",
              "      <td>30.0</td>\n",
              "      <td>-90.1</td>\n",
              "      <td>LA</td>\n",
              "      <td>22071.0</td>\n",
              "      <td>NEW ORLEANS</td>\n",
              "      <td>70122.0</td>\n",
              "      <td>2.207100e+10</td>\n",
              "      <td>2005</td>\n",
              "      <td>2005-08-29</td>\n",
              "      <td>100000.0</td>\n",
              "      <td>40000.0</td>\n",
              "      <td>11432.97</td>\n",
              "      <td>NaN</td>\n",
              "      <td>NaN</td>\n",
              "      <td>2.0</td>\n",
              "      <td>1950-01-01T05:00:00.000Z</td>\n",
              "      <td>N</td>\n",
              "      <td>0.0</td>\n",
              "      <td>0.0</td>\n",
              "      <td>0.0</td>\n",
              "      <td>0.0</td>\n",
              "      <td>X</td>\n",
              "      <td>NaN</td>\n",
              "      <td>0.0</td>\n",
              "      <td>NaN</td>\n",
              "      <td>NaN</td>\n",
              "      <td>1.0</td>\n",
              "      <td>NaN</td>\n",
              "      <td>NaN</td>\n",
              "      <td>0.0</td>\n",
              "      <td>NaN</td>\n",
              "      <td>3.0</td>\n",
              "      <td>0.0</td>\n",
              "      <td>2020-11-01T23:58:45.858Z</td>\n",
              "      <td>1.0</td>\n",
              "      <td>8.0</td>\n",
              "      <td>1997-09-01T04:00:00.000Z</td>\n",
              "      <td>0.0</td>\n",
              "      <td>7</td>\n",
              "      <td>5faad46cad3f68081876d935</td>\n",
              "    </tr>\n",
              "    <tr>\n",
              "      <th>4471</th>\n",
              "      <td>30.0</td>\n",
              "      <td>-90.0</td>\n",
              "      <td>LA</td>\n",
              "      <td>22071.0</td>\n",
              "      <td>NEW ORLEANS</td>\n",
              "      <td>70127.0</td>\n",
              "      <td>2.207100e+10</td>\n",
              "      <td>2005</td>\n",
              "      <td>2005-08-29</td>\n",
              "      <td>440000.0</td>\n",
              "      <td>0.0</td>\n",
              "      <td>440000.00</td>\n",
              "      <td>NaN</td>\n",
              "      <td>NaN</td>\n",
              "      <td>6.0</td>\n",
              "      <td>1984-06-01T04:00:00.000Z</td>\n",
              "      <td>N</td>\n",
              "      <td>0.0</td>\n",
              "      <td>0.0</td>\n",
              "      <td>0.0</td>\n",
              "      <td>0.0</td>\n",
              "      <td>A04</td>\n",
              "      <td>4.0</td>\n",
              "      <td>0.0</td>\n",
              "      <td>3.5</td>\n",
              "      <td>3.0</td>\n",
              "      <td>1.0</td>\n",
              "      <td>3.0</td>\n",
              "      <td>0.0</td>\n",
              "      <td>NaN</td>\n",
              "      <td>NaN</td>\n",
              "      <td>3.0</td>\n",
              "      <td>0.0</td>\n",
              "      <td>2020-11-01T23:58:45.858Z</td>\n",
              "      <td>1.0</td>\n",
              "      <td>8.0</td>\n",
              "      <td>2003-04-25T04:00:00.000Z</td>\n",
              "      <td>1.0</td>\n",
              "      <td>1</td>\n",
              "      <td>5faad46cad3f68081876e1c1</td>\n",
              "    </tr>\n",
              "    <tr>\n",
              "      <th>5593</th>\n",
              "      <td>30.1</td>\n",
              "      <td>-90.0</td>\n",
              "      <td>LA</td>\n",
              "      <td>22071.0</td>\n",
              "      <td>NEW ORLEANS</td>\n",
              "      <td>70128.0</td>\n",
              "      <td>2.207100e+10</td>\n",
              "      <td>2005</td>\n",
              "      <td>2005-08-29</td>\n",
              "      <td>140000.0</td>\n",
              "      <td>10000.0</td>\n",
              "      <td>NaN</td>\n",
              "      <td>0.00</td>\n",
              "      <td>NaN</td>\n",
              "      <td>1.0</td>\n",
              "      <td>1976-01-01T05:00:00.000Z</td>\n",
              "      <td>N</td>\n",
              "      <td>1.0</td>\n",
              "      <td>0.0</td>\n",
              "      <td>0.0</td>\n",
              "      <td>0.0</td>\n",
              "      <td>AOB</td>\n",
              "      <td>1.0</td>\n",
              "      <td>0.0</td>\n",
              "      <td>0.0</td>\n",
              "      <td>1.0</td>\n",
              "      <td>1.0</td>\n",
              "      <td>NaN</td>\n",
              "      <td>0.0</td>\n",
              "      <td>NaN</td>\n",
              "      <td>NaN</td>\n",
              "      <td>3.0</td>\n",
              "      <td>0.0</td>\n",
              "      <td>2020-11-01T23:58:45.858Z</td>\n",
              "      <td>1.0</td>\n",
              "      <td>8.0</td>\n",
              "      <td>2001-05-02T04:00:00.000Z</td>\n",
              "      <td>1.0</td>\n",
              "      <td>1</td>\n",
              "      <td>5faad46cad3f68081876e634</td>\n",
              "    </tr>\n",
              "    <tr>\n",
              "      <th>18819</th>\n",
              "      <td>30.2</td>\n",
              "      <td>-87.8</td>\n",
              "      <td>AL</td>\n",
              "      <td>1003.0</td>\n",
              "      <td>GULF SHORES</td>\n",
              "      <td>36542.0</td>\n",
              "      <td>1.003011e+09</td>\n",
              "      <td>2005</td>\n",
              "      <td>2005-08-29</td>\n",
              "      <td>115000.0</td>\n",
              "      <td>22100.0</td>\n",
              "      <td>5031.07</td>\n",
              "      <td>301.22</td>\n",
              "      <td>NaN</td>\n",
              "      <td>1.0</td>\n",
              "      <td>1978-07-01T04:00:00.000Z</td>\n",
              "      <td>N</td>\n",
              "      <td>0.0</td>\n",
              "      <td>0.0</td>\n",
              "      <td>0.0</td>\n",
              "      <td>0.0</td>\n",
              "      <td>A08</td>\n",
              "      <td>8.0</td>\n",
              "      <td>1.0</td>\n",
              "      <td>0.0</td>\n",
              "      <td>13.0</td>\n",
              "      <td>1.0</td>\n",
              "      <td>3.0</td>\n",
              "      <td>6.0</td>\n",
              "      <td>NaN</td>\n",
              "      <td>10.0</td>\n",
              "      <td>3.0</td>\n",
              "      <td>0.0</td>\n",
              "      <td>2020-11-01T23:58:45.858Z</td>\n",
              "      <td>1.0</td>\n",
              "      <td>8.0</td>\n",
              "      <td>1995-07-21T04:00:00.000Z</td>\n",
              "      <td>1.0</td>\n",
              "      <td>1</td>\n",
              "      <td>5faad46ead3f6808187719af</td>\n",
              "    </tr>\n",
              "    <tr>\n",
              "      <th>21393</th>\n",
              "      <td>30.0</td>\n",
              "      <td>-90.2</td>\n",
              "      <td>LA</td>\n",
              "      <td>22051.0</td>\n",
              "      <td>KENNER</td>\n",
              "      <td>70065.0</td>\n",
              "      <td>2.205102e+10</td>\n",
              "      <td>2005</td>\n",
              "      <td>2005-08-29</td>\n",
              "      <td>500000.0</td>\n",
              "      <td>0.0</td>\n",
              "      <td>7740.94</td>\n",
              "      <td>NaN</td>\n",
              "      <td>NaN</td>\n",
              "      <td>4.0</td>\n",
              "      <td>1985-07-01T04:00:00.000Z</td>\n",
              "      <td>N</td>\n",
              "      <td>0.0</td>\n",
              "      <td>0.0</td>\n",
              "      <td>0.0</td>\n",
              "      <td>0.0</td>\n",
              "      <td>AE</td>\n",
              "      <td>3.0</td>\n",
              "      <td>0.0</td>\n",
              "      <td>0.0</td>\n",
              "      <td>3.0</td>\n",
              "      <td>1.0</td>\n",
              "      <td>3.0</td>\n",
              "      <td>0.0</td>\n",
              "      <td>NaN</td>\n",
              "      <td>10.0</td>\n",
              "      <td>NaN</td>\n",
              "      <td>0.0</td>\n",
              "      <td>2020-11-01T23:58:45.858Z</td>\n",
              "      <td>1.0</td>\n",
              "      <td>6.0</td>\n",
              "      <td>1996-09-24T04:00:00.000Z</td>\n",
              "      <td>1.0</td>\n",
              "      <td>1</td>\n",
              "      <td>5faad46ead3f6808187723f2</td>\n",
              "    </tr>\n",
              "    <tr>\n",
              "      <th>21410</th>\n",
              "      <td>30.0</td>\n",
              "      <td>-90.2</td>\n",
              "      <td>LA</td>\n",
              "      <td>22051.0</td>\n",
              "      <td>KENNER</td>\n",
              "      <td>70065.0</td>\n",
              "      <td>2.205102e+10</td>\n",
              "      <td>2005</td>\n",
              "      <td>2005-08-29</td>\n",
              "      <td>500000.0</td>\n",
              "      <td>0.0</td>\n",
              "      <td>19993.31</td>\n",
              "      <td>NaN</td>\n",
              "      <td>NaN</td>\n",
              "      <td>4.0</td>\n",
              "      <td>1985-07-01T04:00:00.000Z</td>\n",
              "      <td>N</td>\n",
              "      <td>0.0</td>\n",
              "      <td>0.0</td>\n",
              "      <td>0.0</td>\n",
              "      <td>0.0</td>\n",
              "      <td>A02</td>\n",
              "      <td>3.0</td>\n",
              "      <td>0.0</td>\n",
              "      <td>0.0</td>\n",
              "      <td>3.0</td>\n",
              "      <td>1.0</td>\n",
              "      <td>3.0</td>\n",
              "      <td>0.0</td>\n",
              "      <td>NaN</td>\n",
              "      <td>10.0</td>\n",
              "      <td>NaN</td>\n",
              "      <td>0.0</td>\n",
              "      <td>2020-11-01T23:58:45.858Z</td>\n",
              "      <td>1.0</td>\n",
              "      <td>6.0</td>\n",
              "      <td>1996-09-24T04:00:00.000Z</td>\n",
              "      <td>1.0</td>\n",
              "      <td>1</td>\n",
              "      <td>5faad46ead3f6808187723fc</td>\n",
              "    </tr>\n",
              "  </tbody>\n",
              "</table>\n",
              "</div>"
            ],
            "text/plain": [
              "       latitude  longitude state  countyCode reportedCity  reportedZipcode  \\\n",
              "1237       30.0      -90.2    LA     22051.0      HARAHAN          70123.0   \n",
              "1247       30.0      -90.3    LA     22051.0       KENNER          70062.0   \n",
              "1414       30.3      -89.8    LA     22103.0      SLIDELL          70458.0   \n",
              "2270       30.0      -90.1    LA     22071.0  NEW ORLEANS          70118.0   \n",
              "2295       30.0      -90.1    LA     22071.0  NEW ORLEANS          70122.0   \n",
              "4471       30.0      -90.0    LA     22071.0  NEW ORLEANS          70127.0   \n",
              "5593       30.1      -90.0    LA     22071.0  NEW ORLEANS          70128.0   \n",
              "18819      30.2      -87.8    AL      1003.0  GULF SHORES          36542.0   \n",
              "21393      30.0      -90.2    LA     22051.0       KENNER          70065.0   \n",
              "21410      30.0      -90.2    LA     22051.0       KENNER          70065.0   \n",
              "\n",
              "        censusTract  yearOfLoss   EventDate  totalBuildingInsuranceCoverage  \\\n",
              "1237   2.205102e+10        2005  2005-08-29                        200000.0   \n",
              "1247   2.205102e+10        2005  2005-08-29                        163400.0   \n",
              "1414   2.210304e+10        2005  2005-08-29                        117000.0   \n",
              "2270   2.207101e+10        2005  2005-08-29                        250000.0   \n",
              "2295   2.207100e+10        2005  2005-08-29                        100000.0   \n",
              "4471   2.207100e+10        2005  2005-08-29                        440000.0   \n",
              "5593   2.207100e+10        2005  2005-08-29                        140000.0   \n",
              "18819  1.003011e+09        2005  2005-08-29                        115000.0   \n",
              "21393  2.205102e+10        2005  2005-08-29                        500000.0   \n",
              "21410  2.205102e+10        2005  2005-08-29                        500000.0   \n",
              "\n",
              "       totalContentsInsuranceCoverage  amountPaidOnBuildingClaim  \\\n",
              "1237                         100000.0                        NaN   \n",
              "1247                         220500.0                   96629.92   \n",
              "1414                          38600.0                  117000.00   \n",
              "2270                         100000.0                  105036.03   \n",
              "2295                          40000.0                   11432.97   \n",
              "4471                              0.0                  440000.00   \n",
              "5593                          10000.0                        NaN   \n",
              "18819                         22100.0                    5031.07   \n",
              "21393                             0.0                    7740.94   \n",
              "21410                             0.0                   19993.31   \n",
              "\n",
              "       amountPaidOnContentsClaim  amountPaidOnIncreasedCostOfComplianceClaim  \\\n",
              "1237                         NaN                                         NaN   \n",
              "1247                    75000.00                                         NaN   \n",
              "1414                    38600.00                                         NaN   \n",
              "2270                    10927.64                                         NaN   \n",
              "2295                         NaN                                         NaN   \n",
              "4471                         NaN                                         NaN   \n",
              "5593                        0.00                                         NaN   \n",
              "18819                     301.22                                         NaN   \n",
              "21393                        NaN                                         NaN   \n",
              "21410                        NaN                                         NaN   \n",
              "\n",
              "       occupancyType  originalConstructionDate condominiumIndicator  \\\n",
              "1237             4.0  1975-06-01T04:00:00.000Z                    N   \n",
              "1247             4.0  1997-01-25T05:00:00.000Z                    N   \n",
              "1414             1.0  1974-12-30T05:00:00.000Z                    N   \n",
              "2270             2.0  2040-01-01T05:00:00.000Z                    N   \n",
              "2295             2.0  1950-01-01T05:00:00.000Z                    N   \n",
              "4471             6.0  1984-06-01T04:00:00.000Z                    N   \n",
              "5593             1.0  1976-01-01T05:00:00.000Z                    N   \n",
              "18819            1.0  1978-07-01T04:00:00.000Z                    N   \n",
              "21393            4.0  1985-07-01T04:00:00.000Z                    N   \n",
              "21410            4.0  1985-07-01T04:00:00.000Z                    N   \n",
              "\n",
              "       primaryResidence  nonProfitIndicator  smallBusinessIndicatorBuilding  \\\n",
              "1237                0.0                 0.0                             0.0   \n",
              "1247                0.0                 0.0                             0.0   \n",
              "1414                0.0                 0.0                             0.0   \n",
              "2270                1.0                 0.0                             0.0   \n",
              "2295                0.0                 0.0                             0.0   \n",
              "4471                0.0                 0.0                             0.0   \n",
              "5593                1.0                 0.0                             0.0   \n",
              "18819               0.0                 0.0                             0.0   \n",
              "21393               0.0                 0.0                             0.0   \n",
              "21410               0.0                 0.0                             0.0   \n",
              "\n",
              "       houseWorship floodZone  baseFloodElevation  elevatedBuildingIndicator  \\\n",
              "1237            0.0         X                 NaN                        0.0   \n",
              "1247            0.0        AE                 3.0                        0.0   \n",
              "1414            0.0         C                 NaN                        0.0   \n",
              "2270            0.0         X                 NaN                        0.0   \n",
              "2295            0.0         X                 NaN                        0.0   \n",
              "4471            0.0       A04                 4.0                        0.0   \n",
              "5593            0.0       AOB                 1.0                        0.0   \n",
              "18819           0.0       A08                 8.0                        1.0   \n",
              "21393           0.0        AE                 3.0                        0.0   \n",
              "21410           0.0       A02                 3.0                        0.0   \n",
              "\n",
              "       lowestAdjacentGrade  lowestFloorElevation  \\\n",
              "1237                   NaN                   NaN   \n",
              "1247                   0.0                   3.0   \n",
              "1414                   NaN                   NaN   \n",
              "2270                   NaN                   NaN   \n",
              "2295                   NaN                   NaN   \n",
              "4471                   3.5                   3.0   \n",
              "5593                   0.0                   1.0   \n",
              "18819                  0.0                  13.0   \n",
              "21393                  0.0                   3.0   \n",
              "21410                  0.0                   3.0   \n",
              "\n",
              "       numberOfFloorsInTheInsuredBuilding  elevationCertificateIndicator  \\\n",
              "1237                                  1.0                            NaN   \n",
              "1247                                  1.0                            NaN   \n",
              "1414                                  1.0                            NaN   \n",
              "2270                                  2.0                            NaN   \n",
              "2295                                  1.0                            NaN   \n",
              "4471                                  1.0                            3.0   \n",
              "5593                                  1.0                            NaN   \n",
              "18819                                 1.0                            3.0   \n",
              "21393                                 1.0                            3.0   \n",
              "21410                                 1.0                            3.0   \n",
              "\n",
              "       elevationDifference  basementEnclosureCrawlspace  obstructionType  \\\n",
              "1237                   NaN                          NaN              NaN   \n",
              "1247                   0.0                          NaN              NaN   \n",
              "1414                   NaN                          NaN              NaN   \n",
              "2270                   NaN                          0.0              NaN   \n",
              "2295                   NaN                          0.0              NaN   \n",
              "4471                   0.0                          NaN              NaN   \n",
              "5593                   0.0                          NaN              NaN   \n",
              "18819                  6.0                          NaN             10.0   \n",
              "21393                  0.0                          NaN             10.0   \n",
              "21410                  0.0                          NaN             10.0   \n",
              "\n",
              "       locationOfContents  agricultureStructureIndicator  \\\n",
              "1237                  3.0                            0.0   \n",
              "1247                  3.0                            0.0   \n",
              "1414                  3.0                            0.0   \n",
              "2270                  5.0                            0.0   \n",
              "2295                  3.0                            0.0   \n",
              "4471                  3.0                            0.0   \n",
              "5593                  3.0                            0.0   \n",
              "18819                 3.0                            0.0   \n",
              "21393                 NaN                            0.0   \n",
              "21410                 NaN                            0.0   \n",
              "\n",
              "                       asOfDate  policyCount  communityRatingSystemDiscount  \\\n",
              "1237   2020-11-01T23:58:45.858Z          1.0                            8.0   \n",
              "1247   2020-11-01T23:58:45.858Z          1.0                            6.0   \n",
              "1414   2020-11-01T23:58:45.858Z          1.0                            7.0   \n",
              "2270   2020-11-01T23:58:45.858Z          1.0                            8.0   \n",
              "2295   2020-11-01T23:58:45.858Z          1.0                            8.0   \n",
              "4471   2020-11-01T23:58:45.858Z          1.0                            8.0   \n",
              "5593   2020-11-01T23:58:45.858Z          1.0                            8.0   \n",
              "18819  2020-11-01T23:58:45.858Z          1.0                            8.0   \n",
              "21393  2020-11-01T23:58:45.858Z          1.0                            6.0   \n",
              "21410  2020-11-01T23:58:45.858Z          1.0                            6.0   \n",
              "\n",
              "                 originalNBDate  postFIRMConstructionIndicator rateMethod  \\\n",
              "1237   1997-08-29T04:00:00.000Z                            1.0          1   \n",
              "1247   1997-07-25T04:00:00.000Z                            1.0          1   \n",
              "1414   1997-07-25T04:00:00.000Z                            0.0          1   \n",
              "2270   1997-09-01T04:00:00.000Z                            0.0          7   \n",
              "2295   1997-09-01T04:00:00.000Z                            0.0          7   \n",
              "4471   2003-04-25T04:00:00.000Z                            1.0          1   \n",
              "5593   2001-05-02T04:00:00.000Z                            1.0          1   \n",
              "18819  1995-07-21T04:00:00.000Z                            1.0          1   \n",
              "21393  1996-09-24T04:00:00.000Z                            1.0          1   \n",
              "21410  1996-09-24T04:00:00.000Z                            1.0          1   \n",
              "\n",
              "                             id  \n",
              "1237   5faad46bad3f68081876d50f  \n",
              "1247   5faad46bad3f68081876d507  \n",
              "1414   5faad46bad3f68081876d5cd  \n",
              "2270   5faad46cad3f68081876d917  \n",
              "2295   5faad46cad3f68081876d935  \n",
              "4471   5faad46cad3f68081876e1c1  \n",
              "5593   5faad46cad3f68081876e634  \n",
              "18819  5faad46ead3f6808187719af  \n",
              "21393  5faad46ead3f6808187723f2  \n",
              "21410  5faad46ead3f6808187723fc  "
            ]
          },
          "metadata": {
            "tags": []
          }
        }
      ]
    },
    {
      "cell_type": "code",
      "metadata": {
        "id": "Qlz0_23_RVwF",
        "colab": {
          "base_uri": "https://localhost:8080/",
          "height": 549
        },
        "outputId": "b14cab72-c1c0-4328-c218-b44a3999bc5e"
      },
      "source": [
        "with pd.option_context('display.max_columns', 100):\n",
        "    display(df_Katrina.tail(10))"
      ],
      "execution_count": 45,
      "outputs": [
        {
          "output_type": "display_data",
          "data": {
            "text/html": [
              "<div>\n",
              "<style scoped>\n",
              "    .dataframe tbody tr th:only-of-type {\n",
              "        vertical-align: middle;\n",
              "    }\n",
              "\n",
              "    .dataframe tbody tr th {\n",
              "        vertical-align: top;\n",
              "    }\n",
              "\n",
              "    .dataframe thead th {\n",
              "        text-align: right;\n",
              "    }\n",
              "</style>\n",
              "<table border=\"1\" class=\"dataframe\">\n",
              "  <thead>\n",
              "    <tr style=\"text-align: right;\">\n",
              "      <th></th>\n",
              "      <th>latitude</th>\n",
              "      <th>longitude</th>\n",
              "      <th>state</th>\n",
              "      <th>countyCode</th>\n",
              "      <th>reportedCity</th>\n",
              "      <th>reportedZipcode</th>\n",
              "      <th>censusTract</th>\n",
              "      <th>yearOfLoss</th>\n",
              "      <th>EventDate</th>\n",
              "      <th>totalBuildingInsuranceCoverage</th>\n",
              "      <th>totalContentsInsuranceCoverage</th>\n",
              "      <th>amountPaidOnBuildingClaim</th>\n",
              "      <th>amountPaidOnContentsClaim</th>\n",
              "      <th>amountPaidOnIncreasedCostOfComplianceClaim</th>\n",
              "      <th>occupancyType</th>\n",
              "      <th>originalConstructionDate</th>\n",
              "      <th>condominiumIndicator</th>\n",
              "      <th>primaryResidence</th>\n",
              "      <th>nonProfitIndicator</th>\n",
              "      <th>smallBusinessIndicatorBuilding</th>\n",
              "      <th>houseWorship</th>\n",
              "      <th>floodZone</th>\n",
              "      <th>baseFloodElevation</th>\n",
              "      <th>elevatedBuildingIndicator</th>\n",
              "      <th>lowestAdjacentGrade</th>\n",
              "      <th>lowestFloorElevation</th>\n",
              "      <th>numberOfFloorsInTheInsuredBuilding</th>\n",
              "      <th>elevationCertificateIndicator</th>\n",
              "      <th>elevationDifference</th>\n",
              "      <th>basementEnclosureCrawlspace</th>\n",
              "      <th>obstructionType</th>\n",
              "      <th>locationOfContents</th>\n",
              "      <th>agricultureStructureIndicator</th>\n",
              "      <th>asOfDate</th>\n",
              "      <th>policyCount</th>\n",
              "      <th>communityRatingSystemDiscount</th>\n",
              "      <th>originalNBDate</th>\n",
              "      <th>postFIRMConstructionIndicator</th>\n",
              "      <th>rateMethod</th>\n",
              "      <th>id</th>\n",
              "    </tr>\n",
              "  </thead>\n",
              "  <tbody>\n",
              "    <tr>\n",
              "      <th>2430475</th>\n",
              "      <td>30.0</td>\n",
              "      <td>-90.1</td>\n",
              "      <td>LA</td>\n",
              "      <td>22071.0</td>\n",
              "      <td>NEW ORLEANS</td>\n",
              "      <td>70124.0</td>\n",
              "      <td>2.207101e+10</td>\n",
              "      <td>2005</td>\n",
              "      <td>2005-08-29</td>\n",
              "      <td>138900.0</td>\n",
              "      <td>30700.0</td>\n",
              "      <td>NaN</td>\n",
              "      <td>NaN</td>\n",
              "      <td>NaN</td>\n",
              "      <td>1.0</td>\n",
              "      <td>1965-01-01T05:00:00.000Z</td>\n",
              "      <td>N</td>\n",
              "      <td>1.0</td>\n",
              "      <td>0.0</td>\n",
              "      <td>0.0</td>\n",
              "      <td>0.0</td>\n",
              "      <td>V16</td>\n",
              "      <td>NaN</td>\n",
              "      <td>0.0</td>\n",
              "      <td>NaN</td>\n",
              "      <td>NaN</td>\n",
              "      <td>3.0</td>\n",
              "      <td>1.0</td>\n",
              "      <td>NaN</td>\n",
              "      <td>NaN</td>\n",
              "      <td>NaN</td>\n",
              "      <td>4.0</td>\n",
              "      <td>0.0</td>\n",
              "      <td>2020-10-27T17:56:33.967Z</td>\n",
              "      <td>1.0</td>\n",
              "      <td>8.0</td>\n",
              "      <td>2005-08-01T04:00:00.000Z</td>\n",
              "      <td>0.0</td>\n",
              "      <td>1</td>\n",
              "      <td>5faad631ad3f6808189be397</td>\n",
              "    </tr>\n",
              "    <tr>\n",
              "      <th>2430633</th>\n",
              "      <td>30.4</td>\n",
              "      <td>-90.1</td>\n",
              "      <td>LA</td>\n",
              "      <td>22103.0</td>\n",
              "      <td>COVINGTON</td>\n",
              "      <td>70433.0</td>\n",
              "      <td>2.210304e+10</td>\n",
              "      <td>2005</td>\n",
              "      <td>2005-08-29</td>\n",
              "      <td>250000.0</td>\n",
              "      <td>27600.0</td>\n",
              "      <td>4140.64</td>\n",
              "      <td>NaN</td>\n",
              "      <td>NaN</td>\n",
              "      <td>1.0</td>\n",
              "      <td>1979-01-01T05:00:00.000Z</td>\n",
              "      <td>N</td>\n",
              "      <td>1.0</td>\n",
              "      <td>0.0</td>\n",
              "      <td>0.0</td>\n",
              "      <td>0.0</td>\n",
              "      <td>AE</td>\n",
              "      <td>13.0</td>\n",
              "      <td>1.0</td>\n",
              "      <td>5.0</td>\n",
              "      <td>17.0</td>\n",
              "      <td>2.0</td>\n",
              "      <td>3.0</td>\n",
              "      <td>4.0</td>\n",
              "      <td>NaN</td>\n",
              "      <td>10.0</td>\n",
              "      <td>4.0</td>\n",
              "      <td>0.0</td>\n",
              "      <td>2020-11-01T23:58:45.858Z</td>\n",
              "      <td>1.0</td>\n",
              "      <td>8.0</td>\n",
              "      <td>2004-09-23T04:00:00.000Z</td>\n",
              "      <td>0.0</td>\n",
              "      <td>1</td>\n",
              "      <td>5faad631ad3f6808189be0a8</td>\n",
              "    </tr>\n",
              "    <tr>\n",
              "      <th>2430948</th>\n",
              "      <td>30.0</td>\n",
              "      <td>-90.1</td>\n",
              "      <td>LA</td>\n",
              "      <td>22071.0</td>\n",
              "      <td>NEW ORLEANS</td>\n",
              "      <td>70124.0</td>\n",
              "      <td>2.207101e+10</td>\n",
              "      <td>2005</td>\n",
              "      <td>2005-08-29</td>\n",
              "      <td>138900.0</td>\n",
              "      <td>30700.0</td>\n",
              "      <td>NaN</td>\n",
              "      <td>NaN</td>\n",
              "      <td>NaN</td>\n",
              "      <td>1.0</td>\n",
              "      <td>1965-01-01T05:00:00.000Z</td>\n",
              "      <td>N</td>\n",
              "      <td>1.0</td>\n",
              "      <td>0.0</td>\n",
              "      <td>0.0</td>\n",
              "      <td>0.0</td>\n",
              "      <td>V16</td>\n",
              "      <td>NaN</td>\n",
              "      <td>0.0</td>\n",
              "      <td>NaN</td>\n",
              "      <td>NaN</td>\n",
              "      <td>3.0</td>\n",
              "      <td>1.0</td>\n",
              "      <td>NaN</td>\n",
              "      <td>NaN</td>\n",
              "      <td>NaN</td>\n",
              "      <td>4.0</td>\n",
              "      <td>0.0</td>\n",
              "      <td>2020-10-27T17:56:33.967Z</td>\n",
              "      <td>1.0</td>\n",
              "      <td>8.0</td>\n",
              "      <td>2005-08-01T04:00:00.000Z</td>\n",
              "      <td>0.0</td>\n",
              "      <td>1</td>\n",
              "      <td>5faad631ad3f6808189be396</td>\n",
              "    </tr>\n",
              "    <tr>\n",
              "      <th>2431074</th>\n",
              "      <td>30.0</td>\n",
              "      <td>-90.1</td>\n",
              "      <td>LA</td>\n",
              "      <td>22071.0</td>\n",
              "      <td>NEW ORLEANS</td>\n",
              "      <td>70124.0</td>\n",
              "      <td>2.207101e+10</td>\n",
              "      <td>2005</td>\n",
              "      <td>2005-08-29</td>\n",
              "      <td>145000.0</td>\n",
              "      <td>32000.0</td>\n",
              "      <td>145000.00</td>\n",
              "      <td>32000.0</td>\n",
              "      <td>15000.0</td>\n",
              "      <td>1.0</td>\n",
              "      <td>1965-01-01T05:00:00.000Z</td>\n",
              "      <td>N</td>\n",
              "      <td>1.0</td>\n",
              "      <td>0.0</td>\n",
              "      <td>0.0</td>\n",
              "      <td>0.0</td>\n",
              "      <td>V16</td>\n",
              "      <td>NaN</td>\n",
              "      <td>0.0</td>\n",
              "      <td>NaN</td>\n",
              "      <td>NaN</td>\n",
              "      <td>3.0</td>\n",
              "      <td>1.0</td>\n",
              "      <td>NaN</td>\n",
              "      <td>NaN</td>\n",
              "      <td>NaN</td>\n",
              "      <td>4.0</td>\n",
              "      <td>0.0</td>\n",
              "      <td>2020-11-01T23:58:45.858Z</td>\n",
              "      <td>1.0</td>\n",
              "      <td>8.0</td>\n",
              "      <td>2005-08-01T04:00:00.000Z</td>\n",
              "      <td>0.0</td>\n",
              "      <td>1</td>\n",
              "      <td>5faad631ad3f6808189be8ad</td>\n",
              "    </tr>\n",
              "    <tr>\n",
              "      <th>2495450</th>\n",
              "      <td>30.0</td>\n",
              "      <td>-90.1</td>\n",
              "      <td>LA</td>\n",
              "      <td>22071.0</td>\n",
              "      <td>NEW ORLEANS</td>\n",
              "      <td>70117.0</td>\n",
              "      <td>2.207100e+10</td>\n",
              "      <td>2005</td>\n",
              "      <td>2005-08-29</td>\n",
              "      <td>40000.0</td>\n",
              "      <td>0.0</td>\n",
              "      <td>40000.00</td>\n",
              "      <td>NaN</td>\n",
              "      <td>NaN</td>\n",
              "      <td>1.0</td>\n",
              "      <td>2047-06-01T04:00:00.000Z</td>\n",
              "      <td>N</td>\n",
              "      <td>1.0</td>\n",
              "      <td>0.0</td>\n",
              "      <td>0.0</td>\n",
              "      <td>0.0</td>\n",
              "      <td>AE</td>\n",
              "      <td>NaN</td>\n",
              "      <td>0.0</td>\n",
              "      <td>NaN</td>\n",
              "      <td>NaN</td>\n",
              "      <td>1.0</td>\n",
              "      <td>NaN</td>\n",
              "      <td>NaN</td>\n",
              "      <td>NaN</td>\n",
              "      <td>NaN</td>\n",
              "      <td>3.0</td>\n",
              "      <td>0.0</td>\n",
              "      <td>2020-11-01T23:58:45.858Z</td>\n",
              "      <td>1.0</td>\n",
              "      <td>8.0</td>\n",
              "      <td>1999-10-19T04:00:00.000Z</td>\n",
              "      <td>0.0</td>\n",
              "      <td>1</td>\n",
              "      <td>5faad640ad3f6808189ce455</td>\n",
              "    </tr>\n",
              "    <tr>\n",
              "      <th>2495650</th>\n",
              "      <td>30.0</td>\n",
              "      <td>-90.0</td>\n",
              "      <td>LA</td>\n",
              "      <td>22071.0</td>\n",
              "      <td>NEW ORLEANS</td>\n",
              "      <td>70126.0</td>\n",
              "      <td>2.207100e+10</td>\n",
              "      <td>2005</td>\n",
              "      <td>2005-08-29</td>\n",
              "      <td>91300.0</td>\n",
              "      <td>21000.0</td>\n",
              "      <td>91300.00</td>\n",
              "      <td>21000.0</td>\n",
              "      <td>11040.0</td>\n",
              "      <td>1.0</td>\n",
              "      <td>1956-07-01T04:00:00.000Z</td>\n",
              "      <td>N</td>\n",
              "      <td>1.0</td>\n",
              "      <td>0.0</td>\n",
              "      <td>0.0</td>\n",
              "      <td>0.0</td>\n",
              "      <td>A07</td>\n",
              "      <td>NaN</td>\n",
              "      <td>0.0</td>\n",
              "      <td>NaN</td>\n",
              "      <td>NaN</td>\n",
              "      <td>1.0</td>\n",
              "      <td>NaN</td>\n",
              "      <td>NaN</td>\n",
              "      <td>NaN</td>\n",
              "      <td>NaN</td>\n",
              "      <td>3.0</td>\n",
              "      <td>0.0</td>\n",
              "      <td>2020-11-01T23:58:45.858Z</td>\n",
              "      <td>1.0</td>\n",
              "      <td>8.0</td>\n",
              "      <td>2001-07-24T04:00:00.000Z</td>\n",
              "      <td>0.0</td>\n",
              "      <td>1</td>\n",
              "      <td>5faad640ad3f6808189ce564</td>\n",
              "    </tr>\n",
              "    <tr>\n",
              "      <th>2495674</th>\n",
              "      <td>30.0</td>\n",
              "      <td>-90.1</td>\n",
              "      <td>LA</td>\n",
              "      <td>22071.0</td>\n",
              "      <td>NEW ORLEANS</td>\n",
              "      <td>70122.0</td>\n",
              "      <td>2.207100e+10</td>\n",
              "      <td>2005</td>\n",
              "      <td>2005-08-29</td>\n",
              "      <td>14600.0</td>\n",
              "      <td>0.0</td>\n",
              "      <td>14500.00</td>\n",
              "      <td>NaN</td>\n",
              "      <td>NaN</td>\n",
              "      <td>1.0</td>\n",
              "      <td>2040-07-01T04:00:00.000Z</td>\n",
              "      <td>N</td>\n",
              "      <td>1.0</td>\n",
              "      <td>0.0</td>\n",
              "      <td>0.0</td>\n",
              "      <td>0.0</td>\n",
              "      <td>A02</td>\n",
              "      <td>NaN</td>\n",
              "      <td>0.0</td>\n",
              "      <td>NaN</td>\n",
              "      <td>NaN</td>\n",
              "      <td>1.0</td>\n",
              "      <td>NaN</td>\n",
              "      <td>NaN</td>\n",
              "      <td>NaN</td>\n",
              "      <td>NaN</td>\n",
              "      <td>NaN</td>\n",
              "      <td>0.0</td>\n",
              "      <td>2020-11-01T23:58:45.858Z</td>\n",
              "      <td>1.0</td>\n",
              "      <td>8.0</td>\n",
              "      <td>2001-06-09T04:00:00.000Z</td>\n",
              "      <td>0.0</td>\n",
              "      <td>1</td>\n",
              "      <td>5faad640ad3f6808189ce55f</td>\n",
              "    </tr>\n",
              "    <tr>\n",
              "      <th>2495814</th>\n",
              "      <td>30.0</td>\n",
              "      <td>-90.2</td>\n",
              "      <td>LA</td>\n",
              "      <td>22051.0</td>\n",
              "      <td>KENNER</td>\n",
              "      <td>70065.0</td>\n",
              "      <td>2.205102e+10</td>\n",
              "      <td>2005</td>\n",
              "      <td>2005-08-29</td>\n",
              "      <td>50000.0</td>\n",
              "      <td>10000.0</td>\n",
              "      <td>50000.00</td>\n",
              "      <td>10000.0</td>\n",
              "      <td>30000.0</td>\n",
              "      <td>1.0</td>\n",
              "      <td>1959-01-11T05:00:00.000Z</td>\n",
              "      <td>N</td>\n",
              "      <td>1.0</td>\n",
              "      <td>0.0</td>\n",
              "      <td>0.0</td>\n",
              "      <td>0.0</td>\n",
              "      <td>AE</td>\n",
              "      <td>NaN</td>\n",
              "      <td>0.0</td>\n",
              "      <td>NaN</td>\n",
              "      <td>NaN</td>\n",
              "      <td>1.0</td>\n",
              "      <td>NaN</td>\n",
              "      <td>NaN</td>\n",
              "      <td>NaN</td>\n",
              "      <td>NaN</td>\n",
              "      <td>3.0</td>\n",
              "      <td>0.0</td>\n",
              "      <td>2020-11-01T23:58:45.858Z</td>\n",
              "      <td>1.0</td>\n",
              "      <td>7.0</td>\n",
              "      <td>2000-02-25T05:00:00.000Z</td>\n",
              "      <td>0.0</td>\n",
              "      <td>1</td>\n",
              "      <td>5faad640ad3f6808189ce594</td>\n",
              "    </tr>\n",
              "    <tr>\n",
              "      <th>2495846</th>\n",
              "      <td>30.0</td>\n",
              "      <td>-90.2</td>\n",
              "      <td>LA</td>\n",
              "      <td>22051.0</td>\n",
              "      <td>JEFFERSON</td>\n",
              "      <td>70121.0</td>\n",
              "      <td>2.205102e+10</td>\n",
              "      <td>2005</td>\n",
              "      <td>2005-08-29</td>\n",
              "      <td>100000.0</td>\n",
              "      <td>15700.0</td>\n",
              "      <td>NaN</td>\n",
              "      <td>NaN</td>\n",
              "      <td>NaN</td>\n",
              "      <td>1.0</td>\n",
              "      <td>2049-01-01T05:00:00.000Z</td>\n",
              "      <td>N</td>\n",
              "      <td>1.0</td>\n",
              "      <td>0.0</td>\n",
              "      <td>0.0</td>\n",
              "      <td>0.0</td>\n",
              "      <td>AE</td>\n",
              "      <td>NaN</td>\n",
              "      <td>0.0</td>\n",
              "      <td>NaN</td>\n",
              "      <td>NaN</td>\n",
              "      <td>1.0</td>\n",
              "      <td>NaN</td>\n",
              "      <td>NaN</td>\n",
              "      <td>NaN</td>\n",
              "      <td>NaN</td>\n",
              "      <td>3.0</td>\n",
              "      <td>0.0</td>\n",
              "      <td>2020-11-01T23:58:45.858Z</td>\n",
              "      <td>1.0</td>\n",
              "      <td>5.0</td>\n",
              "      <td>1999-06-05T04:00:00.000Z</td>\n",
              "      <td>0.0</td>\n",
              "      <td>1</td>\n",
              "      <td>5faad640ad3f6808189ce593</td>\n",
              "    </tr>\n",
              "    <tr>\n",
              "      <th>2495971</th>\n",
              "      <td>30.3</td>\n",
              "      <td>-89.8</td>\n",
              "      <td>LA</td>\n",
              "      <td>22103.0</td>\n",
              "      <td>SLIDELL</td>\n",
              "      <td>70460.0</td>\n",
              "      <td>2.210304e+10</td>\n",
              "      <td>2005</td>\n",
              "      <td>2005-08-29</td>\n",
              "      <td>40000.0</td>\n",
              "      <td>0.0</td>\n",
              "      <td>15381.76</td>\n",
              "      <td>NaN</td>\n",
              "      <td>NaN</td>\n",
              "      <td>1.0</td>\n",
              "      <td>1974-01-01T05:00:00.000Z</td>\n",
              "      <td>N</td>\n",
              "      <td>1.0</td>\n",
              "      <td>0.0</td>\n",
              "      <td>0.0</td>\n",
              "      <td>0.0</td>\n",
              "      <td>AE</td>\n",
              "      <td>NaN</td>\n",
              "      <td>1.0</td>\n",
              "      <td>NaN</td>\n",
              "      <td>NaN</td>\n",
              "      <td>1.0</td>\n",
              "      <td>NaN</td>\n",
              "      <td>NaN</td>\n",
              "      <td>NaN</td>\n",
              "      <td>15.0</td>\n",
              "      <td>NaN</td>\n",
              "      <td>0.0</td>\n",
              "      <td>2020-11-01T23:58:45.858Z</td>\n",
              "      <td>1.0</td>\n",
              "      <td>9.0</td>\n",
              "      <td>2002-01-30T05:00:00.000Z</td>\n",
              "      <td>0.0</td>\n",
              "      <td>1</td>\n",
              "      <td>5faad640ad3f6808189ce638</td>\n",
              "    </tr>\n",
              "  </tbody>\n",
              "</table>\n",
              "</div>"
            ],
            "text/plain": [
              "         latitude  longitude state  countyCode reportedCity  reportedZipcode  \\\n",
              "2430475      30.0      -90.1    LA     22071.0  NEW ORLEANS          70124.0   \n",
              "2430633      30.4      -90.1    LA     22103.0    COVINGTON          70433.0   \n",
              "2430948      30.0      -90.1    LA     22071.0  NEW ORLEANS          70124.0   \n",
              "2431074      30.0      -90.1    LA     22071.0  NEW ORLEANS          70124.0   \n",
              "2495450      30.0      -90.1    LA     22071.0  NEW ORLEANS          70117.0   \n",
              "2495650      30.0      -90.0    LA     22071.0  NEW ORLEANS          70126.0   \n",
              "2495674      30.0      -90.1    LA     22071.0  NEW ORLEANS          70122.0   \n",
              "2495814      30.0      -90.2    LA     22051.0       KENNER          70065.0   \n",
              "2495846      30.0      -90.2    LA     22051.0    JEFFERSON          70121.0   \n",
              "2495971      30.3      -89.8    LA     22103.0      SLIDELL          70460.0   \n",
              "\n",
              "          censusTract  yearOfLoss   EventDate  totalBuildingInsuranceCoverage  \\\n",
              "2430475  2.207101e+10        2005  2005-08-29                        138900.0   \n",
              "2430633  2.210304e+10        2005  2005-08-29                        250000.0   \n",
              "2430948  2.207101e+10        2005  2005-08-29                        138900.0   \n",
              "2431074  2.207101e+10        2005  2005-08-29                        145000.0   \n",
              "2495450  2.207100e+10        2005  2005-08-29                         40000.0   \n",
              "2495650  2.207100e+10        2005  2005-08-29                         91300.0   \n",
              "2495674  2.207100e+10        2005  2005-08-29                         14600.0   \n",
              "2495814  2.205102e+10        2005  2005-08-29                         50000.0   \n",
              "2495846  2.205102e+10        2005  2005-08-29                        100000.0   \n",
              "2495971  2.210304e+10        2005  2005-08-29                         40000.0   \n",
              "\n",
              "         totalContentsInsuranceCoverage  amountPaidOnBuildingClaim  \\\n",
              "2430475                         30700.0                        NaN   \n",
              "2430633                         27600.0                    4140.64   \n",
              "2430948                         30700.0                        NaN   \n",
              "2431074                         32000.0                  145000.00   \n",
              "2495450                             0.0                   40000.00   \n",
              "2495650                         21000.0                   91300.00   \n",
              "2495674                             0.0                   14500.00   \n",
              "2495814                         10000.0                   50000.00   \n",
              "2495846                         15700.0                        NaN   \n",
              "2495971                             0.0                   15381.76   \n",
              "\n",
              "         amountPaidOnContentsClaim  \\\n",
              "2430475                        NaN   \n",
              "2430633                        NaN   \n",
              "2430948                        NaN   \n",
              "2431074                    32000.0   \n",
              "2495450                        NaN   \n",
              "2495650                    21000.0   \n",
              "2495674                        NaN   \n",
              "2495814                    10000.0   \n",
              "2495846                        NaN   \n",
              "2495971                        NaN   \n",
              "\n",
              "         amountPaidOnIncreasedCostOfComplianceClaim  occupancyType  \\\n",
              "2430475                                         NaN            1.0   \n",
              "2430633                                         NaN            1.0   \n",
              "2430948                                         NaN            1.0   \n",
              "2431074                                     15000.0            1.0   \n",
              "2495450                                         NaN            1.0   \n",
              "2495650                                     11040.0            1.0   \n",
              "2495674                                         NaN            1.0   \n",
              "2495814                                     30000.0            1.0   \n",
              "2495846                                         NaN            1.0   \n",
              "2495971                                         NaN            1.0   \n",
              "\n",
              "         originalConstructionDate condominiumIndicator  primaryResidence  \\\n",
              "2430475  1965-01-01T05:00:00.000Z                    N               1.0   \n",
              "2430633  1979-01-01T05:00:00.000Z                    N               1.0   \n",
              "2430948  1965-01-01T05:00:00.000Z                    N               1.0   \n",
              "2431074  1965-01-01T05:00:00.000Z                    N               1.0   \n",
              "2495450  2047-06-01T04:00:00.000Z                    N               1.0   \n",
              "2495650  1956-07-01T04:00:00.000Z                    N               1.0   \n",
              "2495674  2040-07-01T04:00:00.000Z                    N               1.0   \n",
              "2495814  1959-01-11T05:00:00.000Z                    N               1.0   \n",
              "2495846  2049-01-01T05:00:00.000Z                    N               1.0   \n",
              "2495971  1974-01-01T05:00:00.000Z                    N               1.0   \n",
              "\n",
              "         nonProfitIndicator  smallBusinessIndicatorBuilding  houseWorship  \\\n",
              "2430475                 0.0                             0.0           0.0   \n",
              "2430633                 0.0                             0.0           0.0   \n",
              "2430948                 0.0                             0.0           0.0   \n",
              "2431074                 0.0                             0.0           0.0   \n",
              "2495450                 0.0                             0.0           0.0   \n",
              "2495650                 0.0                             0.0           0.0   \n",
              "2495674                 0.0                             0.0           0.0   \n",
              "2495814                 0.0                             0.0           0.0   \n",
              "2495846                 0.0                             0.0           0.0   \n",
              "2495971                 0.0                             0.0           0.0   \n",
              "\n",
              "        floodZone  baseFloodElevation  elevatedBuildingIndicator  \\\n",
              "2430475       V16                 NaN                        0.0   \n",
              "2430633        AE                13.0                        1.0   \n",
              "2430948       V16                 NaN                        0.0   \n",
              "2431074       V16                 NaN                        0.0   \n",
              "2495450        AE                 NaN                        0.0   \n",
              "2495650       A07                 NaN                        0.0   \n",
              "2495674       A02                 NaN                        0.0   \n",
              "2495814        AE                 NaN                        0.0   \n",
              "2495846        AE                 NaN                        0.0   \n",
              "2495971        AE                 NaN                        1.0   \n",
              "\n",
              "         lowestAdjacentGrade  lowestFloorElevation  \\\n",
              "2430475                  NaN                   NaN   \n",
              "2430633                  5.0                  17.0   \n",
              "2430948                  NaN                   NaN   \n",
              "2431074                  NaN                   NaN   \n",
              "2495450                  NaN                   NaN   \n",
              "2495650                  NaN                   NaN   \n",
              "2495674                  NaN                   NaN   \n",
              "2495814                  NaN                   NaN   \n",
              "2495846                  NaN                   NaN   \n",
              "2495971                  NaN                   NaN   \n",
              "\n",
              "         numberOfFloorsInTheInsuredBuilding  elevationCertificateIndicator  \\\n",
              "2430475                                 3.0                            1.0   \n",
              "2430633                                 2.0                            3.0   \n",
              "2430948                                 3.0                            1.0   \n",
              "2431074                                 3.0                            1.0   \n",
              "2495450                                 1.0                            NaN   \n",
              "2495650                                 1.0                            NaN   \n",
              "2495674                                 1.0                            NaN   \n",
              "2495814                                 1.0                            NaN   \n",
              "2495846                                 1.0                            NaN   \n",
              "2495971                                 1.0                            NaN   \n",
              "\n",
              "         elevationDifference  basementEnclosureCrawlspace  obstructionType  \\\n",
              "2430475                  NaN                          NaN              NaN   \n",
              "2430633                  4.0                          NaN             10.0   \n",
              "2430948                  NaN                          NaN              NaN   \n",
              "2431074                  NaN                          NaN              NaN   \n",
              "2495450                  NaN                          NaN              NaN   \n",
              "2495650                  NaN                          NaN              NaN   \n",
              "2495674                  NaN                          NaN              NaN   \n",
              "2495814                  NaN                          NaN              NaN   \n",
              "2495846                  NaN                          NaN              NaN   \n",
              "2495971                  NaN                          NaN             15.0   \n",
              "\n",
              "         locationOfContents  agricultureStructureIndicator  \\\n",
              "2430475                 4.0                            0.0   \n",
              "2430633                 4.0                            0.0   \n",
              "2430948                 4.0                            0.0   \n",
              "2431074                 4.0                            0.0   \n",
              "2495450                 3.0                            0.0   \n",
              "2495650                 3.0                            0.0   \n",
              "2495674                 NaN                            0.0   \n",
              "2495814                 3.0                            0.0   \n",
              "2495846                 3.0                            0.0   \n",
              "2495971                 NaN                            0.0   \n",
              "\n",
              "                         asOfDate  policyCount  communityRatingSystemDiscount  \\\n",
              "2430475  2020-10-27T17:56:33.967Z          1.0                            8.0   \n",
              "2430633  2020-11-01T23:58:45.858Z          1.0                            8.0   \n",
              "2430948  2020-10-27T17:56:33.967Z          1.0                            8.0   \n",
              "2431074  2020-11-01T23:58:45.858Z          1.0                            8.0   \n",
              "2495450  2020-11-01T23:58:45.858Z          1.0                            8.0   \n",
              "2495650  2020-11-01T23:58:45.858Z          1.0                            8.0   \n",
              "2495674  2020-11-01T23:58:45.858Z          1.0                            8.0   \n",
              "2495814  2020-11-01T23:58:45.858Z          1.0                            7.0   \n",
              "2495846  2020-11-01T23:58:45.858Z          1.0                            5.0   \n",
              "2495971  2020-11-01T23:58:45.858Z          1.0                            9.0   \n",
              "\n",
              "                   originalNBDate  postFIRMConstructionIndicator rateMethod  \\\n",
              "2430475  2005-08-01T04:00:00.000Z                            0.0          1   \n",
              "2430633  2004-09-23T04:00:00.000Z                            0.0          1   \n",
              "2430948  2005-08-01T04:00:00.000Z                            0.0          1   \n",
              "2431074  2005-08-01T04:00:00.000Z                            0.0          1   \n",
              "2495450  1999-10-19T04:00:00.000Z                            0.0          1   \n",
              "2495650  2001-07-24T04:00:00.000Z                            0.0          1   \n",
              "2495674  2001-06-09T04:00:00.000Z                            0.0          1   \n",
              "2495814  2000-02-25T05:00:00.000Z                            0.0          1   \n",
              "2495846  1999-06-05T04:00:00.000Z                            0.0          1   \n",
              "2495971  2002-01-30T05:00:00.000Z                            0.0          1   \n",
              "\n",
              "                               id  \n",
              "2430475  5faad631ad3f6808189be397  \n",
              "2430633  5faad631ad3f6808189be0a8  \n",
              "2430948  5faad631ad3f6808189be396  \n",
              "2431074  5faad631ad3f6808189be8ad  \n",
              "2495450  5faad640ad3f6808189ce455  \n",
              "2495650  5faad640ad3f6808189ce564  \n",
              "2495674  5faad640ad3f6808189ce55f  \n",
              "2495814  5faad640ad3f6808189ce594  \n",
              "2495846  5faad640ad3f6808189ce593  \n",
              "2495971  5faad640ad3f6808189ce638  "
            ]
          },
          "metadata": {
            "tags": []
          }
        }
      ]
    },
    {
      "cell_type": "code",
      "metadata": {
        "id": "SX3iOgNWRVwF",
        "colab": {
          "base_uri": "https://localhost:8080/",
          "height": 303
        },
        "outputId": "af14868c-99fd-4444-9822-e6970614f3cf"
      },
      "source": [
        "# Plot the instances\n",
        "df_Katrina.plot(kind=\"scatter\", x=\"longitude\", y=\"latitude\", color='blue', alpha=0.1)"
      ],
      "execution_count": 46,
      "outputs": [
        {
          "output_type": "execute_result",
          "data": {
            "text/plain": [
              "<matplotlib.axes._subplots.AxesSubplot at 0x7f0ee9da7e90>"
            ]
          },
          "metadata": {
            "tags": []
          },
          "execution_count": 46
        },
        {
          "output_type": "display_data",
          "data": {
            "image/png": "[encoded data removed]",
            "text/plain": [
              "<Figure size 432x288 with 1 Axes>"
            ]
          },
          "metadata": {
            "tags": []
          }
        }
      ]
    },
    {
      "cell_type": "markdown",
      "metadata": {
        "id": "bRcGmBMCRVwG"
      },
      "source": [
        "It seems that one point is located outside the US."
      ]
    },
    {
      "cell_type": "code",
      "metadata": {
        "id": "frDE6tjRRVwG",
        "colab": {
          "base_uri": "https://localhost:8080/"
        },
        "outputId": "73b26b4d-3240-4b5f-8c25-0bd7e00119a6"
      },
      "source": [
        "df_Katrina['longitude'].describe()"
      ],
      "execution_count": 47,
      "outputs": [
        {
          "output_type": "execute_result",
          "data": {
            "text/plain": [
              "count    184472.000000\n",
              "mean        -89.860963\n",
              "std           1.101750\n",
              "min        -134.600000\n",
              "25%         -90.100000\n",
              "50%         -90.100000\n",
              "75%         -89.900000\n",
              "max         114.400000\n",
              "Name: longitude, dtype: float64"
            ]
          },
          "metadata": {
            "tags": []
          },
          "execution_count": 47
        }
      ]
    },
    {
      "cell_type": "code",
      "metadata": {
        "id": "8jOTEJSURVwG",
        "colab": {
          "base_uri": "https://localhost:8080/",
          "height": 117
        },
        "outputId": "07bd324d-a2b9-4654-ce5c-f9e1d0ae58f4"
      },
      "source": [
        "#Explore single instance with Long = 114.4\n",
        "df_Katrina[df_Katrina['longitude'] == 114.4]"
      ],
      "execution_count": 48,
      "outputs": [
        {
          "output_type": "execute_result",
          "data": {
            "text/html": [
              "<div>\n",
              "<style scoped>\n",
              "    .dataframe tbody tr th:only-of-type {\n",
              "        vertical-align: middle;\n",
              "    }\n",
              "\n",
              "    .dataframe tbody tr th {\n",
              "        vertical-align: top;\n",
              "    }\n",
              "\n",
              "    .dataframe thead th {\n",
              "        text-align: right;\n",
              "    }\n",
              "</style>\n",
              "<table border=\"1\" class=\"dataframe\">\n",
              "  <thead>\n",
              "    <tr style=\"text-align: right;\">\n",
              "      <th></th>\n",
              "      <th>latitude</th>\n",
              "      <th>longitude</th>\n",
              "      <th>state</th>\n",
              "      <th>countyCode</th>\n",
              "      <th>reportedCity</th>\n",
              "      <th>reportedZipcode</th>\n",
              "      <th>censusTract</th>\n",
              "      <th>yearOfLoss</th>\n",
              "      <th>EventDate</th>\n",
              "      <th>totalBuildingInsuranceCoverage</th>\n",
              "      <th>totalContentsInsuranceCoverage</th>\n",
              "      <th>amountPaidOnBuildingClaim</th>\n",
              "      <th>amountPaidOnContentsClaim</th>\n",
              "      <th>amountPaidOnIncreasedCostOfComplianceClaim</th>\n",
              "      <th>occupancyType</th>\n",
              "      <th>originalConstructionDate</th>\n",
              "      <th>condominiumIndicator</th>\n",
              "      <th>primaryResidence</th>\n",
              "      <th>nonProfitIndicator</th>\n",
              "      <th>smallBusinessIndicatorBuilding</th>\n",
              "      <th>houseWorship</th>\n",
              "      <th>floodZone</th>\n",
              "      <th>baseFloodElevation</th>\n",
              "      <th>elevatedBuildingIndicator</th>\n",
              "      <th>lowestAdjacentGrade</th>\n",
              "      <th>lowestFloorElevation</th>\n",
              "      <th>numberOfFloorsInTheInsuredBuilding</th>\n",
              "      <th>elevationCertificateIndicator</th>\n",
              "      <th>elevationDifference</th>\n",
              "      <th>basementEnclosureCrawlspace</th>\n",
              "      <th>obstructionType</th>\n",
              "      <th>locationOfContents</th>\n",
              "      <th>agricultureStructureIndicator</th>\n",
              "      <th>asOfDate</th>\n",
              "      <th>policyCount</th>\n",
              "      <th>communityRatingSystemDiscount</th>\n",
              "      <th>originalNBDate</th>\n",
              "      <th>postFIRMConstructionIndicator</th>\n",
              "      <th>rateMethod</th>\n",
              "      <th>id</th>\n",
              "    </tr>\n",
              "  </thead>\n",
              "  <tbody>\n",
              "    <tr>\n",
              "      <th>885249</th>\n",
              "      <td>15.5</td>\n",
              "      <td>114.4</td>\n",
              "      <td>LA</td>\n",
              "      <td>NaN</td>\n",
              "      <td>NEW ORLEANS</td>\n",
              "      <td>70116.0</td>\n",
              "      <td>NaN</td>\n",
              "      <td>2005</td>\n",
              "      <td>2005-08-29</td>\n",
              "      <td>25000.0</td>\n",
              "      <td>0.0</td>\n",
              "      <td>25000.0</td>\n",
              "      <td>NaN</td>\n",
              "      <td>NaN</td>\n",
              "      <td>2.0</td>\n",
              "      <td>1950-01-01T05:00:00.000Z</td>\n",
              "      <td>N</td>\n",
              "      <td>0.0</td>\n",
              "      <td>0.0</td>\n",
              "      <td>0.0</td>\n",
              "      <td>0.0</td>\n",
              "      <td>AE</td>\n",
              "      <td>1.0</td>\n",
              "      <td>1.0</td>\n",
              "      <td>0.1</td>\n",
              "      <td>3.0</td>\n",
              "      <td>1.0</td>\n",
              "      <td>3.0</td>\n",
              "      <td>2.0</td>\n",
              "      <td>0.0</td>\n",
              "      <td>10.0</td>\n",
              "      <td>NaN</td>\n",
              "      <td>0.0</td>\n",
              "      <td>2020-11-01T23:58:45.858Z</td>\n",
              "      <td>1.0</td>\n",
              "      <td>8.0</td>\n",
              "      <td>2002-07-26T04:00:00.000Z</td>\n",
              "      <td>0.0</td>\n",
              "      <td>1</td>\n",
              "      <td>5faad4f0ad3f6808188452ea</td>\n",
              "    </tr>\n",
              "  </tbody>\n",
              "</table>\n",
              "</div>"
            ],
            "text/plain": [
              "        latitude  longitude  ... rateMethod                        id\n",
              "885249      15.5      114.4  ...          1  5faad4f0ad3f6808188452ea\n",
              "\n",
              "[1 rows x 40 columns]"
            ]
          },
          "metadata": {
            "tags": []
          },
          "execution_count": 48
        }
      ]
    },
    {
      "cell_type": "code",
      "metadata": {
        "id": "9DDkMdxgRVwH"
      },
      "source": [
        "#Drop single instance with Long = 114.4\n",
        "df_Katrina = df_Katrina[df_Katrina['longitude'] != 114.4]"
      ],
      "execution_count": 49,
      "outputs": []
    },
    {
      "cell_type": "code",
      "metadata": {
        "id": "MldsgKHwRVwH",
        "colab": {
          "base_uri": "https://localhost:8080/"
        },
        "outputId": "bdd15f7b-b86e-4a1c-ed97-8b0b0446e77a"
      },
      "source": [
        "df_Katrina['longitude'].describe()"
      ],
      "execution_count": 50,
      "outputs": [
        {
          "output_type": "execute_result",
          "data": {
            "text/plain": [
              "count    184471.000000\n",
              "mean        -89.862070\n",
              "std           0.993823\n",
              "min        -134.600000\n",
              "25%         -90.100000\n",
              "50%         -90.100000\n",
              "75%         -89.900000\n",
              "max         -66.000000\n",
              "Name: longitude, dtype: float64"
            ]
          },
          "metadata": {
            "tags": []
          },
          "execution_count": 50
        }
      ]
    },
    {
      "cell_type": "code",
      "metadata": {
        "id": "WjTwNeNkRVwH",
        "colab": {
          "base_uri": "https://localhost:8080/",
          "height": 304
        },
        "outputId": "b280cf3f-bd4d-4654-8636-890362725b80"
      },
      "source": [
        "# Plot the instances\n",
        "df_Katrina.plot(kind=\"scatter\", x=\"longitude\", y=\"latitude\", color='blue', alpha=0.1)"
      ],
      "execution_count": 51,
      "outputs": [
        {
          "output_type": "execute_result",
          "data": {
            "text/plain": [
              "<matplotlib.axes._subplots.AxesSubplot at 0x7f0ec8b69350>"
            ]
          },
          "metadata": {
            "tags": []
          },
          "execution_count": 51
        },
        {
          "output_type": "display_data",
          "data": {
            "image/png": "[encoded data removed]",
            "text/plain": [
              "<Figure size 432x288 with 1 Axes>"
            ]
          },
          "metadata": {
            "tags": []
          }
        }
      ]
    },
    {
      "cell_type": "code",
      "metadata": {
        "id": "IxCzQvfxRVwI",
        "colab": {
          "base_uri": "https://localhost:8080/"
        },
        "outputId": "e5f33580-52bd-427e-b173-b2d2d37ad72f"
      },
      "source": [
        "df_Katrina['latitude'].describe()"
      ],
      "execution_count": 52,
      "outputs": [
        {
          "output_type": "execute_result",
          "data": {
            "text/plain": [
              "count    184471.000000\n",
              "mean         30.039638\n",
              "std           0.506300\n",
              "min          18.400000\n",
              "25%          30.000000\n",
              "50%          30.000000\n",
              "75%          30.000000\n",
              "max          58.400000\n",
              "Name: latitude, dtype: float64"
            ]
          },
          "metadata": {
            "tags": []
          },
          "execution_count": 52
        }
      ]
    },
    {
      "cell_type": "markdown",
      "metadata": {
        "id": "qQBr7Kq4RVwI"
      },
      "source": [
        "# State"
      ]
    },
    {
      "cell_type": "code",
      "metadata": {
        "id": "JdNB9ehMRVwI",
        "colab": {
          "base_uri": "https://localhost:8080/"
        },
        "outputId": "5d0766e5-e765-493c-a448-1655432c855d"
      },
      "source": [
        "# Check missing values\n",
        "df_Katrina['state'].isnull().value_counts()"
      ],
      "execution_count": 53,
      "outputs": [
        {
          "output_type": "execute_result",
          "data": {
            "text/plain": [
              "False    184471\n",
              "Name: state, dtype: int64"
            ]
          },
          "metadata": {
            "tags": []
          },
          "execution_count": 53
        }
      ]
    },
    {
      "cell_type": "code",
      "metadata": {
        "id": "Mqd7MuyQRVwJ",
        "colab": {
          "base_uri": "https://localhost:8080/"
        },
        "outputId": "c31808b2-4c59-4c41-bdde-97ef9d681b8e"
      },
      "source": [
        "df_Katrina['state'].value_counts()"
      ],
      "execution_count": 54,
      "outputs": [
        {
          "output_type": "execute_result",
          "data": {
            "text/plain": [
              "LA    160206\n",
              "MS     17326\n",
              "AL      5384\n",
              "FL      1176\n",
              "KY        92\n",
              "TX        81\n",
              "NC        47\n",
              "NY        25\n",
              "CA        20\n",
              "NJ        12\n",
              "GA        11\n",
              "PA        11\n",
              "VA         9\n",
              "WV         8\n",
              "CT         7\n",
              "SC         6\n",
              "MO         4\n",
              "IN         4\n",
              "OH         4\n",
              "WA         4\n",
              "IL         3\n",
              "KS         3\n",
              "MI         2\n",
              "TN         2\n",
              "MD         2\n",
              "ME         2\n",
              "OR         2\n",
              "AZ         2\n",
              "CO         2\n",
              "AK         1\n",
              "MN         1\n",
              "PR         1\n",
              "NV         1\n",
              "VT         1\n",
              "MT         1\n",
              "AR         1\n",
              "ND         1\n",
              "MA         1\n",
              "IA         1\n",
              "NH         1\n",
              "WI         1\n",
              "UN         1\n",
              "NM         1\n",
              "Name: state, dtype: int64"
            ]
          },
          "metadata": {
            "tags": []
          },
          "execution_count": 54
        }
      ]
    },
    {
      "cell_type": "markdown",
      "metadata": {
        "id": "rS5fN0UGRVwJ"
      },
      "source": [
        "Only select instances in Louisiana (LA), Mississippi (MS), Alabama (AL), and Florida (FL)."
      ]
    },
    {
      "cell_type": "code",
      "metadata": {
        "id": "Iilx3sJeRVwK"
      },
      "source": [
        "# Only select instances in Louisiana (LA), Mississippi (MS), Alabama (AL), and Florida (FL)\n",
        "df_Katrina = df_Katrina.loc[df_Katrina['state'].isin(['LA','MS','AL','FL'])]"
      ],
      "execution_count": 55,
      "outputs": []
    },
    {
      "cell_type": "code",
      "metadata": {
        "id": "nfBbnx1VRVwK",
        "colab": {
          "base_uri": "https://localhost:8080/"
        },
        "outputId": "18b212e4-d761-4b3f-9d0d-ff900e828aaf"
      },
      "source": [
        "df_Katrina['state'].value_counts()"
      ],
      "execution_count": 56,
      "outputs": [
        {
          "output_type": "execute_result",
          "data": {
            "text/plain": [
              "LA    160206\n",
              "MS     17326\n",
              "AL      5384\n",
              "FL      1176\n",
              "Name: state, dtype: int64"
            ]
          },
          "metadata": {
            "tags": []
          },
          "execution_count": 56
        }
      ]
    },
    {
      "cell_type": "markdown",
      "metadata": {
        "id": "xtgw09c8RVwL"
      },
      "source": [
        "# County Code \n",
        "\n",
        "FIPS code uniquely identifying the primary County (e.g., 011 represents Broward County) associated with the project. Note, the County Code field may not reflect the individual county the property is located as projects can be associated with more than one county"
      ]
    },
    {
      "cell_type": "code",
      "metadata": {
        "id": "RTn-vZWDRVwL",
        "colab": {
          "base_uri": "https://localhost:8080/"
        },
        "outputId": "df5acde0-5cb6-44b9-910b-367c5bd1a9f6"
      },
      "source": [
        "# Check missing values\n",
        "df_Katrina['countyCode'].isnull().value_counts()"
      ],
      "execution_count": 57,
      "outputs": [
        {
          "output_type": "execute_result",
          "data": {
            "text/plain": [
              "False    183951\n",
              "True        141\n",
              "Name: countyCode, dtype: int64"
            ]
          },
          "metadata": {
            "tags": []
          },
          "execution_count": 57
        }
      ]
    },
    {
      "cell_type": "code",
      "metadata": {
        "id": "KeHOF5dERVwL",
        "colab": {
          "base_uri": "https://localhost:8080/"
        },
        "outputId": "0a262c2c-0cf8-4e62-b7fc-49573908bcc5"
      },
      "source": [
        "# Remove rows with missing information\n",
        "df_Katrina.dropna(subset=['countyCode'], inplace=True)"
      ],
      "execution_count": 58,
      "outputs": [
        {
          "output_type": "stream",
          "text": [
            "/usr/local/lib/python3.7/dist-packages/ipykernel_launcher.py:2: SettingWithCopyWarning: \n",
            "A value is trying to be set on a copy of a slice from a DataFrame\n",
            "\n",
            "See the caveats in the documentation: https://pandas.pydata.org/pandas-docs/stable/user_guide/indexing.html#returning-a-view-versus-a-copy\n",
            "  \n"
          ],
          "name": "stderr"
        }
      ]
    },
    {
      "cell_type": "code",
      "metadata": {
        "id": "Yzs9WeN0RVwL",
        "colab": {
          "base_uri": "https://localhost:8080/"
        },
        "outputId": "8c3a69d1-26c4-43aa-d359-37c2b5498520"
      },
      "source": [
        "# Check missing values\n",
        "df_Katrina['countyCode'].isnull().value_counts()"
      ],
      "execution_count": 59,
      "outputs": [
        {
          "output_type": "execute_result",
          "data": {
            "text/plain": [
              "False    183951\n",
              "Name: countyCode, dtype: int64"
            ]
          },
          "metadata": {
            "tags": []
          },
          "execution_count": 59
        }
      ]
    },
    {
      "cell_type": "code",
      "metadata": {
        "id": "ZJZ0Bz_uRVwL",
        "colab": {
          "base_uri": "https://localhost:8080/"
        },
        "outputId": "0dfc2870-c756-4384-a63d-6609caa059fd"
      },
      "source": [
        "# County\n",
        "df_Katrina['countyCode'].value_counts(dropna=False)"
      ],
      "execution_count": 60,
      "outputs": [
        {
          "output_type": "execute_result",
          "data": {
            "text/plain": [
              "22071.0    65111\n",
              "22051.0    57037\n",
              "22103.0    16174\n",
              "22087.0    14669\n",
              "28047.0     7271\n",
              "           ...  \n",
              "28127.0        1\n",
              "28107.0        1\n",
              "28101.0        1\n",
              "28095.0        1\n",
              "6.0            1\n",
              "Name: countyCode, Length: 148, dtype: int64"
            ]
          },
          "metadata": {
            "tags": []
          },
          "execution_count": 60
        }
      ]
    },
    {
      "cell_type": "markdown",
      "metadata": {
        "id": "MTvG2RQzRVwM"
      },
      "source": [
        "# Reported City\n",
        "This is the city of the insured property as reported to us by our Write Your Own (WYO) partners"
      ]
    },
    {
      "cell_type": "code",
      "metadata": {
        "id": "iwom96iFRVwM",
        "colab": {
          "base_uri": "https://localhost:8080/"
        },
        "outputId": "0038dfa0-da13-4e52-df40-e22efc3f41e9"
      },
      "source": [
        "# Check missing values\n",
        "df_Katrina['reportedCity'].isnull().value_counts()"
      ],
      "execution_count": 61,
      "outputs": [
        {
          "output_type": "execute_result",
          "data": {
            "text/plain": [
              "False    183945\n",
              "True          6\n",
              "Name: reportedCity, dtype: int64"
            ]
          },
          "metadata": {
            "tags": []
          },
          "execution_count": 61
        }
      ]
    },
    {
      "cell_type": "code",
      "metadata": {
        "id": "5Sq_iwp6RVwM",
        "colab": {
          "base_uri": "https://localhost:8080/"
        },
        "outputId": "171fdaef-148a-48ea-df8d-b38be2ebd297"
      },
      "source": [
        "# Remove instances with missing information about city\n",
        "df_Katrina.dropna(axis=0, subset=['reportedCity'], inplace=True)"
      ],
      "execution_count": 62,
      "outputs": [
        {
          "output_type": "stream",
          "text": [
            "/usr/local/lib/python3.7/dist-packages/ipykernel_launcher.py:2: SettingWithCopyWarning: \n",
            "A value is trying to be set on a copy of a slice from a DataFrame\n",
            "\n",
            "See the caveats in the documentation: https://pandas.pydata.org/pandas-docs/stable/user_guide/indexing.html#returning-a-view-versus-a-copy\n",
            "  \n"
          ],
          "name": "stderr"
        }
      ]
    },
    {
      "cell_type": "code",
      "metadata": {
        "id": "VQnnh4_IRVwN",
        "colab": {
          "base_uri": "https://localhost:8080/"
        },
        "outputId": "50a5f7dc-1837-4b4d-ef54-f60b9e2b7fbc"
      },
      "source": [
        "# Check missing values\n",
        "df_Katrina['reportedCity'].isnull().value_counts()"
      ],
      "execution_count": 63,
      "outputs": [
        {
          "output_type": "execute_result",
          "data": {
            "text/plain": [
              "False    183945\n",
              "Name: reportedCity, dtype: int64"
            ]
          },
          "metadata": {
            "tags": []
          },
          "execution_count": 63
        }
      ]
    },
    {
      "cell_type": "code",
      "metadata": {
        "scrolled": true,
        "id": "ePASV4e2RVwN",
        "colab": {
          "base_uri": "https://localhost:8080/"
        },
        "outputId": "f908d231-d9e0-455b-8627-5d0b59ee164a"
      },
      "source": [
        "# City\n",
        "df_Katrina['reportedCity'].value_counts(dropna=False)"
      ],
      "execution_count": 64,
      "outputs": [
        {
          "output_type": "execute_result",
          "data": {
            "text/plain": [
              "NEW ORLEANS        65148\n",
              "METAIRIE           24584\n",
              "SLIDELL            12361\n",
              "KENNER             11023\n",
              "CHALMETTE           7492\n",
              "                   ...  \n",
              "FOURCHAN               1\n",
              "EL PORTAL              1\n",
              "DAUPIN ISLAND          1\n",
              "PASS CHRISTINAN        1\n",
              "VE                     1\n",
              "Name: reportedCity, Length: 847, dtype: int64"
            ]
          },
          "metadata": {
            "tags": []
          },
          "execution_count": 64
        }
      ]
    },
    {
      "cell_type": "code",
      "metadata": {
        "id": "yvg30iicRVwN",
        "colab": {
          "base_uri": "https://localhost:8080/"
        },
        "outputId": "f27e7971-494d-46ef-f26e-801f151316d0"
      },
      "source": [
        "# City\n",
        "df_Katrina['reportedCity'].value_counts(dropna=False).head(60)"
      ],
      "execution_count": 65,
      "outputs": [
        {
          "output_type": "execute_result",
          "data": {
            "text/plain": [
              "NEW ORLEANS       65148\n",
              "METAIRIE          24584\n",
              "SLIDELL           12361\n",
              "KENNER            11023\n",
              "CHALMETTE          7492\n",
              "MARRERO            5242\n",
              "HARVEY             4724\n",
              "GRETNA             4534\n",
              "BAY ST LOUIS       2709\n",
              "PASS CHRISTIAN     2504\n",
              "BILOXI             2502\n",
              "ARABI              2443\n",
              "MERAUX             1999\n",
              "MANDEVILLE         1786\n",
              "GULFPORT           1646\n",
              "VIOLET             1638\n",
              "OCEAN SPRINGS      1481\n",
              "PASCAGOULA         1401\n",
              "GULF SHORES        1346\n",
              "RIVER RIDGE        1293\n",
              "MOBILE             1258\n",
              "WAVELAND           1129\n",
              "JEFFERSON          1063\n",
              "GRAND ISLE         1055\n",
              "BELLE CHASSE       1006\n",
              "LONG BEACH          988\n",
              "DAUPHIN ISLAND      946\n",
              "SAINT BERNARD       937\n",
              "HARAHAN             849\n",
              "BURAS               753\n",
              "WESTWEGO            707\n",
              "COVINGTON           703\n",
              "DESTREHAN           625\n",
              "LA PLACE            597\n",
              "LACOMBE             595\n",
              "GAUTIER             588\n",
              "AVONDALE            566\n",
              "PORT SULPHUR        542\n",
              "TERRYTOWN           485\n",
              "MOSS POINT          482\n",
              "MIAMI               401\n",
              "DIAMONDHEAD         339\n",
              "MADISONVILLE        338\n",
              "LULING              334\n",
              "SAINT ROSE          324\n",
              "FAIRHOPE            322\n",
              "THEODORE            278\n",
              "LAFITTE             236\n",
              "KILN                228\n",
              "PEARLINGTON         226\n",
              "CODEN               217\n",
              "BRAITHWAITE         216\n",
              "PEARL RIVER         206\n",
              "BOOTHVILLE          190\n",
              "HOUMA               189\n",
              "EMPIRE              176\n",
              "POINT CLEAR         167\n",
              "D'IBERVILLE         157\n",
              "BAYOU LA BATR       150\n",
              "New Orleans         149\n",
              "Name: reportedCity, dtype: int64"
            ]
          },
          "metadata": {
            "tags": []
          },
          "execution_count": 65
        }
      ]
    },
    {
      "cell_type": "code",
      "metadata": {
        "id": "Z0cIdUfvRVwO",
        "colab": {
          "base_uri": "https://localhost:8080/"
        },
        "outputId": "cb28f140-479a-4472-c152-5f3cf03598ed"
      },
      "source": [
        "df_Katrina['reportedCity']"
      ],
      "execution_count": 66,
      "outputs": [
        {
          "output_type": "execute_result",
          "data": {
            "text/plain": [
              "1237           HARAHAN\n",
              "1247            KENNER\n",
              "1414           SLIDELL\n",
              "2270       NEW ORLEANS\n",
              "2295       NEW ORLEANS\n",
              "              ...     \n",
              "2495650    NEW ORLEANS\n",
              "2495674    NEW ORLEANS\n",
              "2495814         KENNER\n",
              "2495846      JEFFERSON\n",
              "2495971        SLIDELL\n",
              "Name: reportedCity, Length: 183945, dtype: object"
            ]
          },
          "metadata": {
            "tags": []
          },
          "execution_count": 66
        }
      ]
    },
    {
      "cell_type": "code",
      "metadata": {
        "id": "PnKd8uIKRVwO",
        "colab": {
          "base_uri": "https://localhost:8080/"
        },
        "outputId": "15c811fb-a487-44dd-8025-403d111f0b36"
      },
      "source": [
        "# Set all city name to upper case\n",
        "df_Katrina['reportedCity'] = df_Katrina['reportedCity'].str.upper() "
      ],
      "execution_count": 67,
      "outputs": [
        {
          "output_type": "stream",
          "text": [
            "/usr/local/lib/python3.7/dist-packages/ipykernel_launcher.py:2: SettingWithCopyWarning: \n",
            "A value is trying to be set on a copy of a slice from a DataFrame.\n",
            "Try using .loc[row_indexer,col_indexer] = value instead\n",
            "\n",
            "See the caveats in the documentation: https://pandas.pydata.org/pandas-docs/stable/user_guide/indexing.html#returning-a-view-versus-a-copy\n",
            "  \n"
          ],
          "name": "stderr"
        }
      ]
    },
    {
      "cell_type": "code",
      "metadata": {
        "id": "uIGuyce2RVwO",
        "colab": {
          "base_uri": "https://localhost:8080/"
        },
        "outputId": "55fc0f33-ca7c-48bc-8fd9-612037f428ff"
      },
      "source": [
        "# City\n",
        "df_Katrina['reportedCity'].value_counts(dropna=False).head(70)"
      ],
      "execution_count": 68,
      "outputs": [
        {
          "output_type": "execute_result",
          "data": {
            "text/plain": [
              "NEW ORLEANS      65299\n",
              "METAIRIE         24590\n",
              "SLIDELL          12374\n",
              "KENNER           11045\n",
              "CHALMETTE         7494\n",
              "                 ...  \n",
              "BARATARIA          110\n",
              "ABITA SPRINGS       98\n",
              "PICAYUNE            96\n",
              "JACKSON             89\n",
              "HOMESTEAD           89\n",
              "Name: reportedCity, Length: 70, dtype: int64"
            ]
          },
          "metadata": {
            "tags": []
          },
          "execution_count": 68
        }
      ]
    },
    {
      "cell_type": "markdown",
      "metadata": {
        "id": "_KfZoRs_RVwP"
      },
      "source": [
        "# ZIP Code\n",
        "5-digit Postal Zip Code of the insured property"
      ]
    },
    {
      "cell_type": "code",
      "metadata": {
        "id": "EFKi45-3RVwP",
        "colab": {
          "base_uri": "https://localhost:8080/"
        },
        "outputId": "85e68ee3-4200-4542-9122-a80f45be2bff"
      },
      "source": [
        "# Check missing values\n",
        "df_Katrina['reportedZipcode'].isnull().value_counts()"
      ],
      "execution_count": 69,
      "outputs": [
        {
          "output_type": "execute_result",
          "data": {
            "text/plain": [
              "False    183885\n",
              "True         60\n",
              "Name: reportedZipcode, dtype: int64"
            ]
          },
          "metadata": {
            "tags": []
          },
          "execution_count": 69
        }
      ]
    },
    {
      "cell_type": "code",
      "metadata": {
        "id": "giE8os_5RVwP",
        "colab": {
          "base_uri": "https://localhost:8080/"
        },
        "outputId": "dd0cc683-004c-43ef-f64a-34b8ef77421b"
      },
      "source": [
        "# Remove rows with missing information\n",
        "df_Katrina.dropna(subset=['reportedZipcode'], inplace=True)"
      ],
      "execution_count": 70,
      "outputs": [
        {
          "output_type": "stream",
          "text": [
            "/usr/local/lib/python3.7/dist-packages/ipykernel_launcher.py:2: SettingWithCopyWarning: \n",
            "A value is trying to be set on a copy of a slice from a DataFrame\n",
            "\n",
            "See the caveats in the documentation: https://pandas.pydata.org/pandas-docs/stable/user_guide/indexing.html#returning-a-view-versus-a-copy\n",
            "  \n"
          ],
          "name": "stderr"
        }
      ]
    },
    {
      "cell_type": "code",
      "metadata": {
        "id": "QdjiDx34RVwQ",
        "colab": {
          "base_uri": "https://localhost:8080/"
        },
        "outputId": "3bbfd352-e0d8-4c1d-db7c-232e7e9f1c62"
      },
      "source": [
        "# Zip code\n",
        "df_Katrina['reportedZipcode'].value_counts(dropna=False)"
      ],
      "execution_count": 71,
      "outputs": [
        {
          "output_type": "execute_result",
          "data": {
            "text/plain": [
              "70065.0    9440\n",
              "70122.0    8832\n",
              "70043.0    7492\n",
              "70126.0    7377\n",
              "70003.0    7373\n",
              "           ... \n",
              "71028.0       1\n",
              "71037.0       1\n",
              "35528.0       1\n",
              "71102.0       1\n",
              "32908.0       1\n",
              "Name: reportedZipcode, Length: 739, dtype: int64"
            ]
          },
          "metadata": {
            "tags": []
          },
          "execution_count": 71
        }
      ]
    },
    {
      "cell_type": "markdown",
      "metadata": {
        "id": "O5ZQQWRyRVwQ"
      },
      "source": [
        "# Census Tract\n",
        "US Census Bureau defined census Tracts; statistical subdivisions of a county or equivalent entity that are updated prior to each decennial census. The NFIP relies on our geocoding service to assign census tract code. 11-digit code defining census tract"
      ]
    },
    {
      "cell_type": "code",
      "metadata": {
        "id": "yRbS05iWRVwQ",
        "colab": {
          "base_uri": "https://localhost:8080/"
        },
        "outputId": "53050b28-7f7c-4882-bcfb-6c92e2123275"
      },
      "source": [
        "# Check missing values\n",
        "df_Katrina['censusTract'].isnull().value_counts()"
      ],
      "execution_count": 72,
      "outputs": [
        {
          "output_type": "execute_result",
          "data": {
            "text/plain": [
              "False    182861\n",
              "True       1024\n",
              "Name: censusTract, dtype: int64"
            ]
          },
          "metadata": {
            "tags": []
          },
          "execution_count": 72
        }
      ]
    },
    {
      "cell_type": "code",
      "metadata": {
        "id": "YHwjgy0ERVwR",
        "colab": {
          "base_uri": "https://localhost:8080/"
        },
        "outputId": "3981f11f-db93-4962-d57c-b148f665c4d8"
      },
      "source": [
        "# Remove rows with missing information\n",
        "df_Katrina.dropna(subset=['censusTract'], inplace=True)"
      ],
      "execution_count": 73,
      "outputs": [
        {
          "output_type": "stream",
          "text": [
            "/usr/local/lib/python3.7/dist-packages/ipykernel_launcher.py:2: SettingWithCopyWarning: \n",
            "A value is trying to be set on a copy of a slice from a DataFrame\n",
            "\n",
            "See the caveats in the documentation: https://pandas.pydata.org/pandas-docs/stable/user_guide/indexing.html#returning-a-view-versus-a-copy\n",
            "  \n"
          ],
          "name": "stderr"
        }
      ]
    },
    {
      "cell_type": "code",
      "metadata": {
        "id": "TW7tGEq-RVwS",
        "colab": {
          "base_uri": "https://localhost:8080/"
        },
        "outputId": "157ab86e-7432-4293-a4f3-bab9f4808838"
      },
      "source": [
        "# Check missing values\n",
        "df_Katrina['censusTract'].isnull().value_counts()"
      ],
      "execution_count": 74,
      "outputs": [
        {
          "output_type": "execute_result",
          "data": {
            "text/plain": [
              "False    182861\n",
              "Name: censusTract, dtype: int64"
            ]
          },
          "metadata": {
            "tags": []
          },
          "execution_count": 74
        }
      ]
    },
    {
      "cell_type": "code",
      "metadata": {
        "id": "Ye6NKgYvRVwS",
        "colab": {
          "base_uri": "https://localhost:8080/"
        },
        "outputId": "78f94b73-0613-4eea-c2cc-1d9b5dd54ac3"
      },
      "source": [
        "# Set census tract number as integer\n",
        "df_Katrina['censusTract'] = df_Katrina['censusTract'].astype('int64') "
      ],
      "execution_count": 75,
      "outputs": [
        {
          "output_type": "stream",
          "text": [
            "/usr/local/lib/python3.7/dist-packages/ipykernel_launcher.py:2: SettingWithCopyWarning: \n",
            "A value is trying to be set on a copy of a slice from a DataFrame.\n",
            "Try using .loc[row_indexer,col_indexer] = value instead\n",
            "\n",
            "See the caveats in the documentation: https://pandas.pydata.org/pandas-docs/stable/user_guide/indexing.html#returning-a-view-versus-a-copy\n",
            "  \n"
          ],
          "name": "stderr"
        }
      ]
    },
    {
      "cell_type": "code",
      "metadata": {
        "id": "ephf1WR_RVwS",
        "colab": {
          "base_uri": "https://localhost:8080/"
        },
        "outputId": "5868c877-afcc-4012-ebf0-970bfcce88ff"
      },
      "source": [
        "# Census tract\n",
        "df_Katrina['censusTract'].value_counts()"
      ],
      "execution_count": 76,
      "outputs": [
        {
          "output_type": "execute_result",
          "data": {
            "text/plain": [
              "22103040802    2181\n",
              "28045030300    2177\n",
              "22051020203    1843\n",
              "22071001725    1635\n",
              "28047003000    1581\n",
              "               ... \n",
              "12127090902       1\n",
              "12033000800       1\n",
              "12087971001       1\n",
              "12105014203       1\n",
              "1097007200        1\n",
              "Name: censusTract, Length: 1448, dtype: int64"
            ]
          },
          "metadata": {
            "tags": []
          },
          "execution_count": 76
        }
      ]
    },
    {
      "cell_type": "markdown",
      "metadata": {
        "id": "R7ftmSMHRVwS"
      },
      "source": [
        "Map with census tracts:\n",
        "https://geomap.ffiec.gov/FFIECGeocMap/GeocodeMap1.aspx"
      ]
    },
    {
      "cell_type": "code",
      "metadata": {
        "id": "2hyZ7vEPRVwT",
        "colab": {
          "base_uri": "https://localhost:8080/"
        },
        "outputId": "635f9f03-7809-41be-bfbe-9da8762b9238"
      },
      "source": [
        "# Census tract\n",
        "df_Katrina['censusTract'].value_counts().tail(1330)"
      ],
      "execution_count": 77,
      "outputs": [
        {
          "output_type": "execute_result",
          "data": {
            "text/plain": [
              "22051023600    507\n",
              "22071007501    507\n",
              "22071002503    501\n",
              "22051021400    500\n",
              "22071012300    498\n",
              "              ... \n",
              "12127090902      1\n",
              "12033000800      1\n",
              "12087971001      1\n",
              "12105014203      1\n",
              "1097007200       1\n",
              "Name: censusTract, Length: 1330, dtype: int64"
            ]
          },
          "metadata": {
            "tags": []
          },
          "execution_count": 77
        }
      ]
    },
    {
      "cell_type": "code",
      "metadata": {
        "id": "-mARtAQrRVwT"
      },
      "source": [
        "# Select only instances with 100 or more claims by tract\n",
        "df_Katrina = df_Katrina.groupby(\"censusTract\").filter(lambda x: len(x) >= 100)"
      ],
      "execution_count": 78,
      "outputs": []
    },
    {
      "cell_type": "code",
      "metadata": {
        "id": "fRHrPGr8RVwT",
        "colab": {
          "base_uri": "https://localhost:8080/"
        },
        "outputId": "c85b791d-23fe-4224-cccb-f826dfb16c08"
      },
      "source": [
        "# Census tract\n",
        "df_Katrina['censusTract'].value_counts()"
      ],
      "execution_count": 79,
      "outputs": [
        {
          "output_type": "execute_result",
          "data": {
            "text/plain": [
              "22103040802    2181\n",
              "28045030300    2177\n",
              "22051020203    1843\n",
              "22071001725    1635\n",
              "28047003000    1581\n",
              "               ... \n",
              "22089062800     103\n",
              "22103040704     100\n",
              "22071006900     100\n",
              "22071008200     100\n",
              "22071012900     100\n",
              "Name: censusTract, Length: 380, dtype: int64"
            ]
          },
          "metadata": {
            "tags": []
          },
          "execution_count": 79
        }
      ]
    },
    {
      "cell_type": "code",
      "metadata": {
        "id": "My__AEcrRVwT"
      },
      "source": [
        ""
      ],
      "execution_count": 79,
      "outputs": []
    },
    {
      "cell_type": "code",
      "metadata": {
        "id": "DBIO4BR-RVwU",
        "colab": {
          "base_uri": "https://localhost:8080/"
        },
        "outputId": "39805a7a-f1f5-4216-8ee7-b1f2c514f6f5"
      },
      "source": [
        "df_Katrina.info()"
      ],
      "execution_count": 80,
      "outputs": [
        {
          "output_type": "stream",
          "text": [
            "<class 'pandas.core.frame.DataFrame'>\n",
            "Int64Index: 173879 entries, 1237 to 2495971\n",
            "Data columns (total 40 columns):\n",
            " #   Column                                      Non-Null Count   Dtype  \n",
            "---  ------                                      --------------   -----  \n",
            " 0   latitude                                    173879 non-null  float64\n",
            " 1   longitude                                   173879 non-null  float64\n",
            " 2   state                                       173879 non-null  object \n",
            " 3   countyCode                                  173879 non-null  float64\n",
            " 4   reportedCity                                173879 non-null  object \n",
            " 5   reportedZipcode                             173879 non-null  float64\n",
            " 6   censusTract                                 173879 non-null  int64  \n",
            " 7   yearOfLoss                                  173879 non-null  int64  \n",
            " 8   EventDate                                   173879 non-null  object \n",
            " 9   totalBuildingInsuranceCoverage              173879 non-null  float64\n",
            " 10  totalContentsInsuranceCoverage              173879 non-null  float64\n",
            " 11  amountPaidOnBuildingClaim                   131575 non-null  float64\n",
            " 12  amountPaidOnContentsClaim                   107208 non-null  float64\n",
            " 13  amountPaidOnIncreasedCostOfComplianceClaim  10756 non-null   float64\n",
            " 14  occupancyType                               173879 non-null  float64\n",
            " 15  originalConstructionDate                    173879 non-null  object \n",
            " 16  condominiumIndicator                        173863 non-null  object \n",
            " 17  primaryResidence                            173879 non-null  float64\n",
            " 18  nonProfitIndicator                          173879 non-null  float64\n",
            " 19  smallBusinessIndicatorBuilding              173879 non-null  float64\n",
            " 20  houseWorship                                173879 non-null  float64\n",
            " 21  floodZone                                   172239 non-null  object \n",
            " 22  baseFloodElevation                          72388 non-null   float64\n",
            " 23  elevatedBuildingIndicator                   173879 non-null  float64\n",
            " 24  lowestAdjacentGrade                         50717 non-null   float64\n",
            " 25  lowestFloorElevation                        72404 non-null   float64\n",
            " 26  numberOfFloorsInTheInsuredBuilding          172241 non-null  float64\n",
            " 27  elevationCertificateIndicator               36957 non-null   float64\n",
            " 28  elevationDifference                         85867 non-null   float64\n",
            " 29  basementEnclosureCrawlspace                 13201 non-null   float64\n",
            " 30  obstructionType                             71232 non-null   float64\n",
            " 31  locationOfContents                          130474 non-null  float64\n",
            " 32  agricultureStructureIndicator               173879 non-null  float64\n",
            " 33  asOfDate                                    173879 non-null  object \n",
            " 34  policyCount                                 173879 non-null  float64\n",
            " 35  communityRatingSystemDiscount               151274 non-null  float64\n",
            " 36  originalNBDate                              173879 non-null  object \n",
            " 37  postFIRMConstructionIndicator               173879 non-null  float64\n",
            " 38  rateMethod                                  173879 non-null  object \n",
            " 39  id                                          173879 non-null  object \n",
            "dtypes: float64(28), int64(2), object(10)\n",
            "memory usage: 54.4+ MB\n"
          ],
          "name": "stdout"
        }
      ]
    },
    {
      "cell_type": "code",
      "metadata": {
        "id": "HNghj8fCRVwU",
        "colab": {
          "base_uri": "https://localhost:8080/",
          "height": 890
        },
        "outputId": "0add03ff-8613-4ad5-a974-2ee8c3f6797e"
      },
      "source": [
        "# Check missing values \n",
        "msno.matrix(df_Katrina)"
      ],
      "execution_count": 81,
      "outputs": [
        {
          "output_type": "execute_result",
          "data": {
            "text/plain": [
              "<matplotlib.axes._subplots.AxesSubplot at 0x7f0ecc85f590>"
            ]
          },
          "metadata": {
            "tags": []
          },
          "execution_count": 81
        },
        {
          "output_type": "display_data",
          "data": {
            "image/png": "[encoded data removed]",
            "text/plain": [
              "<Figure size 1800x720 with 2 Axes>"
            ]
          },
          "metadata": {
            "tags": []
          }
        }
      ]
    },
    {
      "cell_type": "markdown",
      "metadata": {
        "id": "r6p289DnRVwU"
      },
      "source": [
        "# Explore attributes\n",
        "\n",
        "More info at https://www.fema.gov/openfema-data-page/fima-nfip-redacted-claims"
      ]
    },
    {
      "cell_type": "markdown",
      "metadata": {
        "id": "QVb1OCyyRVwU"
      },
      "source": [
        "## Flood Zone\n",
        "\n",
        "Flood zone derived from the Flood Insurance Rate Map (FIRM) used to rate the insured property.\n",
        "- A - Special Flood with no Base Flood Elevation on FIRM;\n",
        "- AE, A1-A30 - Special Flood with Base Flood Elevation on FIRM;\n",
        "- A99 - Special Flood with Protection Zone;\n",
        "- AH, AHB* - Special Flood with Shallow Ponding\n",
        "- AO, AOB* - Special Flood with Sheet Flow;\n",
        "- X, B - Moderate Flood from primary water source. Pockets of areas subject to drainage problems;\n",
        "- X, C - Minimal Flood from primary water source. Pockets of areas subject to drainage problems;\n",
        "- D - Possible Flood;\n",
        "- V - Velocity Flood with no Base Flood Elevation on FIRM;\n",
        "- VE, V1-V30 - Velocity Flood with Base Flood Elevation on FIRM;\n",
        "- AE, VE, X - New zone designations used on new maps starting January 1, 1986, in lieu of A1-A30, V1-V30, and B and C;\n",
        "- AR - A Special Flood Hazard Area that results from the decertification of a previously accredited flood protection system that is determined to be in the process of being restored to provide base flood protection;\n",
        "- AR Dual Zones - (AR/AE, AR/A1-A30, AR/AH, AR/AO, AR/A) Areas subject to flooding from failure of the flood protection system (Zone AR) which also overlap an existing Special Flood Hazard Area as a dual zone;\n",
        "\n",
        "*AHB, AOB, ARE, ARH, ARO, and ARA are not risk zones shown on a map, but are acceptable values for rating purposes"
      ]
    },
    {
      "cell_type": "markdown",
      "metadata": {
        "id": "xgFrzYXZRVwV"
      },
      "source": [
        "**Map**\n",
        "\n",
        "[FEMA's National Flood Hazard Layer (NFHL) Viewer](https://www.arcgis.com/apps/webappviewer/index.html?id=8b0adb51996444d4879338b5529aa9cd)\n",
        "\n",
        "https://www.fema.gov/flood-maps/national-flood-hazard-layer"
      ]
    },
    {
      "cell_type": "code",
      "metadata": {
        "id": "8pFcwIkBRVwV"
      },
      "source": [
        "# Check missing values\n",
        "df_Katrina['floodZone'].isnull().value_counts()"
      ],
      "execution_count": null,
      "outputs": []
    },
    {
      "cell_type": "code",
      "metadata": {
        "id": "B6kZB7RlRVwW"
      },
      "source": [
        "# Remove rows with missing information\n",
        "df_Katrina.dropna(subset=['floodZone'], inplace=True)"
      ],
      "execution_count": null,
      "outputs": []
    },
    {
      "cell_type": "code",
      "metadata": {
        "id": "HfVmKROXRVwW"
      },
      "source": [
        "# Check missing values\n",
        "df_Katrina['floodZone'].isnull().value_counts()"
      ],
      "execution_count": null,
      "outputs": []
    },
    {
      "cell_type": "code",
      "metadata": {
        "id": "6-oo1w40RVwW"
      },
      "source": [
        "# Flood zone\n",
        "df_Katrina['floodZone'].value_counts(dropna=False)"
      ],
      "execution_count": null,
      "outputs": []
    },
    {
      "cell_type": "code",
      "metadata": {
        "id": "7jaoI6PuRVwX"
      },
      "source": [
        "# Remove instances with no information on flood zone\n",
        "df_Katrina = df_Katrina.dropna(axis=0, subset=['floodZone'])"
      ],
      "execution_count": null,
      "outputs": []
    },
    {
      "cell_type": "markdown",
      "metadata": {
        "id": "GR6j3GicRVwX"
      },
      "source": [
        "[FEMA What does my flood zone mean?](https://www.floodsmart.gov/flood-map-zone/find-yours)\n",
        "\n",
        "**High-risk flood areas**\n",
        "\n",
        "High-risk flood areas begin with the letters A or V on FEMA flood maps.\n",
        "\n",
        "These areas face the highest risk of flooding. If you own a property in a high-risk zone and have a federally backed mortgage, you are required to purchase flood insurance as a condition of that loan.\n",
        "\n",
        "**Moderate- to low-risk flood areas**\n",
        "\n",
        "Moderate- to low-risk flood areas are designated with the letters B, C, and X on FEMA flood maps.\n",
        "\n",
        "In these areas, the risk of being flooded is reduced, but not completely removed. One in three insurance claims come from moderate- to low-risk flood areas.\n",
        "\n",
        "Property owners in moderate- to low-risk areas are eligible for lower-cost flood insurance, known as Preferred Risk Policies (PRPs)."
      ]
    },
    {
      "cell_type": "code",
      "metadata": {
        "id": "01IKLgwqRVwX"
      },
      "source": [
        "# Flood zone\n",
        "df_Katrina['floodZone_grouped'] = df_Katrina['floodZone']"
      ],
      "execution_count": null,
      "outputs": []
    },
    {
      "cell_type": "code",
      "metadata": {
        "id": "DNfclDqlRVwX"
      },
      "source": [
        "# Group by main Flood Areas\n",
        "df_Katrina['floodZone_grouped'].replace('AE', 'A', inplace=True)\n",
        "df_Katrina['floodZone_grouped'].replace('A01', 'A', inplace=True)\n",
        "df_Katrina['floodZone_grouped'].replace('A04', 'A', inplace=True)\n",
        "df_Katrina['floodZone_grouped'].replace('A03', 'A', inplace=True)\n",
        "df_Katrina['floodZone_grouped'].replace('A02', 'A', inplace=True)\n",
        "df_Katrina['floodZone_grouped'].replace('A10', 'A', inplace=True)\n",
        "df_Katrina['floodZone_grouped'].replace('A07', 'A', inplace=True)\n",
        "df_Katrina['floodZone_grouped'].replace('A08', 'A', inplace=True)\n",
        "df_Katrina['floodZone_grouped'].replace('A09', 'A', inplace=True)\n",
        "df_Katrina['floodZone_grouped'].replace('A05', 'A', inplace=True)\n",
        "df_Katrina['floodZone_grouped'].replace('AOB', 'A', inplace=True)\n",
        "df_Katrina['floodZone_grouped'].replace('A99', 'A', inplace=True)\n",
        "df_Katrina['floodZone_grouped'].replace('AO', 'A', inplace=True)\n",
        "df_Katrina['floodZone_grouped'].replace('A14', 'A', inplace=True)\n",
        "df_Katrina['floodZone_grouped'].replace('A11', 'A', inplace=True)\n",
        "df_Katrina['floodZone_grouped'].replace('A06', 'A', inplace=True)\n",
        "df_Katrina['floodZone_grouped'].replace('A12', 'A', inplace=True)\n",
        "df_Katrina['floodZone_grouped'].replace('A15', 'A', inplace=True)\n",
        "df_Katrina['floodZone_grouped'].replace('A13', 'A', inplace=True)\n",
        "df_Katrina['floodZone_grouped'].replace('AHB', 'A', inplace=True)\n",
        "df_Katrina['floodZone_grouped'].replace('A16', 'A', inplace=True)\n",
        "df_Katrina['floodZone_grouped'].replace('AH', 'A', inplace=True)\n",
        "df_Katrina['floodZone_grouped'].replace('A30', 'A', inplace=True)\n",
        "df_Katrina['floodZone_grouped'].replace('A26', 'A', inplace=True)\n",
        "df_Katrina['floodZone_grouped'].replace('A25', 'A', inplace=True)\n",
        "df_Katrina['floodZone_grouped'].replace('A19', 'A', inplace=True)\n",
        "df_Katrina['floodZone_grouped'].replace('A19', 'A', inplace=True)\n",
        "df_Katrina['floodZone_grouped'].replace('A18', 'A', inplace=True)"
      ],
      "execution_count": null,
      "outputs": []
    },
    {
      "cell_type": "code",
      "metadata": {
        "id": "ijcFmJTERVwY"
      },
      "source": [
        "# Group by main Flood Areas\n",
        "df_Katrina['floodZone_grouped'].replace('VE', 'V', inplace=True)\n",
        "df_Katrina['floodZone_grouped'].replace('V15', 'V', inplace=True)\n",
        "df_Katrina['floodZone_grouped'].replace('V13', 'V', inplace=True)\n",
        "df_Katrina['floodZone_grouped'].replace('V09', 'V', inplace=True)\n",
        "df_Katrina['floodZone_grouped'].replace('V16', 'V', inplace=True)\n",
        "df_Katrina['floodZone_grouped'].replace('V14', 'V', inplace=True)\n",
        "df_Katrina['floodZone_grouped'].replace('V19', 'V', inplace=True)\n",
        "df_Katrina['floodZone_grouped'].replace('V12', 'V', inplace=True)\n",
        "df_Katrina['floodZone_grouped'].replace('V08', 'V', inplace=True)\n",
        "df_Katrina['floodZone_grouped'].replace('V10', 'V', inplace=True)\n",
        "df_Katrina['floodZone_grouped'].replace('V11', 'V', inplace=True)\n",
        "df_Katrina['floodZone_grouped'].replace('V21', 'V', inplace=True)\n",
        "df_Katrina['floodZone_grouped'].replace('V17', 'V', inplace=True)\n",
        "df_Katrina['floodZone_grouped'].replace('V07', 'V', inplace=True)"
      ],
      "execution_count": null,
      "outputs": []
    },
    {
      "cell_type": "code",
      "metadata": {
        "id": "v5XX47BVRVwY"
      },
      "source": [
        "df_Katrina['floodZone_grouped'].value_counts(dropna=False)"
      ],
      "execution_count": null,
      "outputs": []
    },
    {
      "cell_type": "markdown",
      "metadata": {
        "id": "NaqvoGfWRVwY"
      },
      "source": [
        "## Amount Paid On Building Claim\n",
        "Dollar amount paid on the building claim. In some instances, a negative amount may appear which occurs when a check issued to a policy holder isn't cashed and has to be re-issued."
      ]
    },
    {
      "cell_type": "code",
      "metadata": {
        "id": "wMEAas1ZRVwY"
      },
      "source": [
        "# Building Claim\n",
        "df_Katrina['amountPaidOnBuildingClaim']"
      ],
      "execution_count": null,
      "outputs": []
    },
    {
      "cell_type": "code",
      "metadata": {
        "id": "AjOSZhaJRVwZ"
      },
      "source": [
        "# Building Claim\n",
        "df_Katrina['amountPaidOnBuildingClaim'].isnull().value_counts(dropna=False)"
      ],
      "execution_count": null,
      "outputs": []
    },
    {
      "cell_type": "code",
      "metadata": {
        "id": "4gf-UOFBRVwZ"
      },
      "source": [
        "# Remove instances with missing information on Building Claim\n",
        "df_Katrina = df_Katrina.dropna(axis=0, subset=['amountPaidOnBuildingClaim'])"
      ],
      "execution_count": null,
      "outputs": []
    },
    {
      "cell_type": "code",
      "metadata": {
        "id": "wIhxtFPoRVwZ"
      },
      "source": [
        "df_Katrina['amountPaidOnBuildingClaim'].isnull().value_counts()"
      ],
      "execution_count": null,
      "outputs": []
    },
    {
      "cell_type": "code",
      "metadata": {
        "id": "nDbXyg9iRVwa"
      },
      "source": [
        "# Shape\n",
        "nRow, nCol = df_Katrina.shape\n",
        "nRow = '{:,.0f}'.format(nRow)\n",
        "print(f'There are {nRow} rows and {nCol} columns')"
      ],
      "execution_count": null,
      "outputs": []
    },
    {
      "cell_type": "code",
      "metadata": {
        "id": "LzUCRi7YRVwa"
      },
      "source": [
        "# Visualise distribution of Building Claims\n",
        "df_Katrina['amountPaidOnBuildingClaim'].hist(facecolor='g')"
      ],
      "execution_count": null,
      "outputs": []
    },
    {
      "cell_type": "code",
      "metadata": {
        "id": "yqypK_U5RVwa"
      },
      "source": [
        "# See range of Building Claims\n",
        "df_Katrina['amountPaidOnBuildingClaim'].describe().round(2)"
      ],
      "execution_count": null,
      "outputs": []
    },
    {
      "cell_type": "code",
      "metadata": {
        "id": "t5cmEFrtRVwa"
      },
      "source": [
        "# How many instances with Building Claim = 0 \n",
        "len(df_Katrina[df_Katrina['amountPaidOnBuildingClaim'] == 0])"
      ],
      "execution_count": null,
      "outputs": []
    },
    {
      "cell_type": "code",
      "metadata": {
        "id": "le2dyfT6RVwa"
      },
      "source": [
        "# How many instances have Building Claim different from 0 \n",
        "len(df_Katrina[df_Katrina['amountPaidOnBuildingClaim'] != 0])"
      ],
      "execution_count": null,
      "outputs": []
    },
    {
      "cell_type": "code",
      "metadata": {
        "id": "3i7U7YkpRVwb"
      },
      "source": [
        "# Select instance with Building Claim different from 0 \n",
        "df_Katrina = df_Katrina[df_Katrina['amountPaidOnBuildingClaim'] != 0]"
      ],
      "execution_count": null,
      "outputs": []
    },
    {
      "cell_type": "code",
      "metadata": {
        "id": "By07sJRFRVwb"
      },
      "source": [
        "# See range of Building Claims\n",
        "df_Katrina['amountPaidOnBuildingClaim'].describe().round(2)"
      ],
      "execution_count": null,
      "outputs": []
    },
    {
      "cell_type": "code",
      "metadata": {
        "id": "CJLJ6fZqRVwb"
      },
      "source": [
        "# Visualise distribution of Building Claims up to US$300,000\n",
        "df_Katrina['amountPaidOnBuildingClaim'].hist(bins=[0, 5000, 10000, 15000, 20000, 25000, 30000, 35000, 40000, 45000, 50000, 55000, 60000, 65000, 70000, 75000, 80000, 85000, 90000, 95000, 100000, 105000, 110000, 115000, 120000, 125000, 130000, 135000, 140000, 145000, 150000, 155000, 160000, 165000, 170000, 175000, 180000, 185000, 190000, 195000, 200000, 205000, 210000, 215000, 220000, 225000, 230000, 235000, 240000, 245000, 250000, 255000, 260000, 265000, 270000, 275000, 280000, 285000, 290000, 295000, 300000], facecolor='g')"
      ],
      "execution_count": null,
      "outputs": []
    },
    {
      "cell_type": "markdown",
      "metadata": {
        "id": "35VVSdUGRVwc"
      },
      "source": [
        "It seems that:\n",
        "- some instances are aggregated at USD50,000, USD100,000, USD125,000, ...\n",
        "- there is a cap at USD250,000"
      ]
    },
    {
      "cell_type": "code",
      "metadata": {
        "id": "5Rgo_L0BRVwc"
      },
      "source": [
        "# How many instances with Building Claim = US$250,000 \n",
        "len(df_Katrina[df_Katrina['amountPaidOnBuildingClaim'] == 250000])"
      ],
      "execution_count": null,
      "outputs": []
    },
    {
      "cell_type": "code",
      "metadata": {
        "id": "pM3bY_yyRVwc"
      },
      "source": [
        "per_instances_at_250000 = len(df_Katrina[df_Katrina['amountPaidOnBuildingClaim'] == 250000])/len(df_Katrina)*100\n",
        "per_instances_at_250000 = '{:,.2f}'.format(per_instances_at_250000)\n",
        "print(f'There is {per_instances_at_250000}% of instances at US$250,000')"
      ],
      "execution_count": null,
      "outputs": []
    },
    {
      "cell_type": "code",
      "metadata": {
        "id": "BGGDhrmjRVwc"
      },
      "source": [
        ""
      ],
      "execution_count": null,
      "outputs": []
    },
    {
      "cell_type": "markdown",
      "metadata": {
        "id": "KWj9w0HORVwd"
      },
      "source": [
        "## Total Building Insurance Coverage\n",
        "\n",
        "Total Insurance Amount in dollars on the Building"
      ]
    },
    {
      "cell_type": "code",
      "metadata": {
        "id": "ihbXLd3mRVwd"
      },
      "source": [
        "# Building insurance coverage\n",
        "df_Katrina['totalBuildingInsuranceCoverage'].value_counts(dropna=False)"
      ],
      "execution_count": null,
      "outputs": []
    },
    {
      "cell_type": "code",
      "metadata": {
        "scrolled": true,
        "id": "qgRGAQ6oRVwd"
      },
      "source": [
        "# Visualise distribution of insurance coverage up to US$300,000\n",
        "df_Katrina['totalBuildingInsuranceCoverage'].hist(bins=[0, 5000, 10000, 15000, 20000, 25000, 30000, 35000, 40000, 45000, 50000, 55000, 60000, 65000, 70000, 75000, 80000, 85000, 90000, 95000, 100000, 105000, 110000, 115000, 120000, 125000, 130000, 135000, 140000, 145000, 150000, 155000, 160000, 165000, 170000, 175000, 180000, 185000, 190000, 195000, 200000, 205000, 210000, 215000, 220000, 225000, 230000, 235000, 240000, 245000, 250000, 255000, 260000, 265000, 270000, 275000, 280000, 285000, 290000, 295000, 300000], facecolor='black')"
      ],
      "execution_count": null,
      "outputs": []
    },
    {
      "cell_type": "code",
      "metadata": {
        "id": "YIBLwFGNRVwd"
      },
      "source": [
        ""
      ],
      "execution_count": null,
      "outputs": []
    },
    {
      "cell_type": "markdown",
      "metadata": {
        "id": "2eEfygl5RVwd"
      },
      "source": [
        "## Amount Paid On Increased Cost Of Compliance Claim\n",
        "\n",
        "Dollar amount paid on the Increased Cost of Compliance (ICC) claim. Increased Cost of Compliance (ICC) coverage is one of several flood insurances resources for policyholders who need additional help rebuilding after a flood. It provides up to $30,000 to help cover the cost of mitigation measures that will reduce the flood risk"
      ]
    },
    {
      "cell_type": "code",
      "metadata": {
        "id": "IQkM91OLRVwe"
      },
      "source": [
        "df_Katrina['amountPaidOnIncreasedCostOfComplianceClaim'].value_counts(dropna=False)"
      ],
      "execution_count": null,
      "outputs": []
    },
    {
      "cell_type": "code",
      "metadata": {
        "id": "ZtmHzkDJRVwe"
      },
      "source": [
        "df_Katrina['amountPaidOnIncreasedCostOfComplianceClaim'].describe().round(2)"
      ],
      "execution_count": null,
      "outputs": []
    },
    {
      "cell_type": "code",
      "metadata": {
        "id": "qV_lK5_5RVwe"
      },
      "source": [
        ""
      ],
      "execution_count": null,
      "outputs": []
    },
    {
      "cell_type": "markdown",
      "metadata": {
        "id": "J_mOZ094RVwe"
      },
      "source": [
        "## Building claim and building insurance"
      ]
    },
    {
      "cell_type": "code",
      "metadata": {
        "id": "MsRXee51RVwe"
      },
      "source": [
        "# Amount paid and insurance coverage\n",
        "df_Katrina[['amountPaidOnBuildingClaim', 'totalBuildingInsuranceCoverage']]"
      ],
      "execution_count": null,
      "outputs": []
    },
    {
      "cell_type": "code",
      "metadata": {
        "id": "0U3YeuVSRVwf"
      },
      "source": [
        "# Define a function that compares amountPaidOnBuildingClaim and totalBuildingInsuranceCoverage\n",
        "def money_paid (row):\n",
        "    if row['amountPaidOnBuildingClaim'] == row['totalBuildingInsuranceCoverage']:\n",
        "        return 'True'\n",
        "    return 'False'"
      ],
      "execution_count": null,
      "outputs": []
    },
    {
      "cell_type": "code",
      "metadata": {
        "id": "FyxqMxQtRVwf"
      },
      "source": [
        "# Create column Overcap\n",
        "df_Katrina['PaidEqualsInsuranceCoverage'] = df_Katrina.apply (lambda row: money_paid(row), axis=1)"
      ],
      "execution_count": null,
      "outputs": []
    },
    {
      "cell_type": "code",
      "metadata": {
        "id": "2Oyt5LI-RVwf"
      },
      "source": [
        "# Amount paid and insurance coverage\n",
        "df_Katrina[['amountPaidOnBuildingClaim', 'totalBuildingInsuranceCoverage', 'PaidEqualsInsuranceCoverage']]"
      ],
      "execution_count": null,
      "outputs": []
    },
    {
      "cell_type": "code",
      "metadata": {
        "id": "HZRhaBKMRVwf"
      },
      "source": [
        "df_Katrina['PaidEqualsInsuranceCoverage'].value_counts(dropna=False)"
      ],
      "execution_count": null,
      "outputs": []
    },
    {
      "cell_type": "markdown",
      "metadata": {
        "id": "-QiUygtnRVwf"
      },
      "source": [
        "So some buildings suffered less damages than the cap of the insurance coverage?\n",
        "\n",
        "Or did some buildings have multiple claims that led to the total building insurance coverage?\n",
        "If this is the case, is there a way to identify each building?"
      ]
    },
    {
      "cell_type": "code",
      "metadata": {
        "id": "GPF_XK-aRVwg"
      },
      "source": [
        ""
      ],
      "execution_count": null,
      "outputs": []
    },
    {
      "cell_type": "code",
      "metadata": {
        "id": "4HiIOhBYRVwg"
      },
      "source": [
        "# How many instances with Building Claim > $250,000\n",
        "len(df_Katrina[df_Katrina['amountPaidOnBuildingClaim'] > 250000])"
      ],
      "execution_count": null,
      "outputs": []
    },
    {
      "cell_type": "code",
      "metadata": {
        "id": "oqod0QmrRVwg"
      },
      "source": [
        "df_Katrina_above_insurance = df_Katrina[df_Katrina['amountPaidOnBuildingClaim'] > 250000]"
      ],
      "execution_count": null,
      "outputs": []
    },
    {
      "cell_type": "code",
      "metadata": {
        "id": "tl5BTqThRVwg"
      },
      "source": [
        "df_Katrina_above_insurance[['amountPaidOnBuildingClaim', 'totalBuildingInsuranceCoverage', 'PaidEqualsInsuranceCoverage']]"
      ],
      "execution_count": null,
      "outputs": []
    },
    {
      "cell_type": "code",
      "metadata": {
        "id": "XHBOAsX7RVwg"
      },
      "source": [
        "df_Katrina_above_insurance['PaidEqualsInsuranceCoverage'].value_counts(dropna=False)"
      ],
      "execution_count": null,
      "outputs": []
    },
    {
      "cell_type": "code",
      "metadata": {
        "id": "BzQLIoe1RVwh"
      },
      "source": [
        ""
      ],
      "execution_count": null,
      "outputs": []
    },
    {
      "cell_type": "markdown",
      "metadata": {
        "id": "nhGE2WeZRVwh"
      },
      "source": [
        "## Non Profit Indicator\n",
        "\n",
        "Yes (Y) or No (N) indicator of whether or not a building is reported as being a non-profit in the policy application.\n",
        "- Yes is indicated with either a 'true' or '1'.\n",
        "- No is indicated with either a 'false' or '0'"
      ]
    },
    {
      "cell_type": "code",
      "metadata": {
        "id": "QCxtb123RVwh"
      },
      "source": [
        "df_Katrina['nonProfitIndicator'].value_counts(dropna=False)"
      ],
      "execution_count": null,
      "outputs": []
    },
    {
      "cell_type": "code",
      "metadata": {
        "id": "X8doW3CxRVwh"
      },
      "source": [
        "# Explore profit buildings\n",
        "df_Katrina[df_Katrina['nonProfitIndicator'] == 1]"
      ],
      "execution_count": null,
      "outputs": []
    },
    {
      "cell_type": "markdown",
      "metadata": {
        "id": "LgedOts_RVwh"
      },
      "source": [
        "## Small Business Indicator Building\n",
        "\n",
        "Yes (Y) or No (N) indicator of whether or not the insured represents a small business.\n",
        " - Yes is indicated with either a 'true' or '1'.\n",
        " - No is indicated with either a 'false' or '0'. \n",
        "\n",
        "Small business is defined as a business with fewer than 100 employees in the policy application"
      ]
    },
    {
      "cell_type": "code",
      "metadata": {
        "id": "0wMH3kA6RVwi"
      },
      "source": [
        "# Small Business Indicator Building\n",
        "df_Katrina['smallBusinessIndicatorBuilding'].value_counts(dropna=False)"
      ],
      "execution_count": null,
      "outputs": []
    },
    {
      "cell_type": "code",
      "metadata": {
        "id": "sGM5hZDWRVwi"
      },
      "source": [
        "# Explore profit buildings\n",
        "df_Katrina[df_Katrina['smallBusinessIndicatorBuilding'] == 1]"
      ],
      "execution_count": null,
      "outputs": []
    },
    {
      "cell_type": "markdown",
      "metadata": {
        "id": "vvaW5A17RVwi"
      },
      "source": [
        "## Policy Count\n",
        "\n",
        "Insured units in an active status. A policy contract ceases to be in an active status as of the cancellation date or the expiration date. Residential Condominium Building Association Policy (RCBAP) contracts are stored as a single policy contract but insure multiple units and therefore represent multiple policies"
      ]
    },
    {
      "cell_type": "code",
      "metadata": {
        "id": "nooK920rRVwi"
      },
      "source": [
        "df_Katrina['policyCount'].value_counts(dropna=False)"
      ],
      "execution_count": null,
      "outputs": []
    },
    {
      "cell_type": "markdown",
      "metadata": {
        "id": "wno9w4i-RVwi"
      },
      "source": [
        "## Community Rating System Discount\n",
        "The Community Rating System (CRS) Classification Credit Percentage used to rate the policy.\n",
        "\n",
        "The insurance premium credit is based on whether a property is in or out of the Special Flood Hazard Area (SFHA) as shown on the community's Flood Insurance Rate Map. The premium credit for properties in the SFHA increases according to a community's CRS class:\n",
        "- 1 - SFHA 45% ** Non SFHA 10% **;\n",
        "- 2 - SFHA 40% ** Non SFHA 10% **;\n",
        "- 3 - SFHA 35% ** Non SFHA 10% **;\n",
        "- 4 - SFHA 30% ** Non SFHA 10% **;\n",
        "- 5 - SFHA 25% ** Non SFHA 10% **;\n",
        "- 6 - SFHA 20% ** Non SFHA10% **;\n",
        "- 7 - SFHA 15% ** Non SFHA 5% **;\n",
        "- 8 - SFHA 10% ** Non SFHA 5% **;\n",
        "- 9 - SFHA 5% Non SFHA 5%;\n",
        "- 10 - SFHA 0% Non SFHA 0%;\n",
        "\n",
        "*For the purpose of determining CRS Premium Discounts, all AR and A99 zones are treated as non-SFHAs.\n",
        "\n",
        "**These percentages are subject to change. Always refer to the Flood Insurance Manual for the latest information"
      ]
    },
    {
      "cell_type": "code",
      "metadata": {
        "id": "Ex6p9TqTRVwj"
      },
      "source": [
        "df_Katrina['communityRatingSystemDiscount'].value_counts(dropna=False)"
      ],
      "execution_count": null,
      "outputs": []
    },
    {
      "cell_type": "markdown",
      "metadata": {
        "id": "m_K0vXWJRVwj"
      },
      "source": [
        "## Agriculture Structure Indicator\n",
        "\n",
        "Yes (Y) or No (N) indicator of whether or not a building is reported as being an agricultural structure in the policy "
      ]
    },
    {
      "cell_type": "code",
      "metadata": {
        "id": "9D36vP3yRVwj"
      },
      "source": [
        "# agricultureStructureIndicator\n",
        "df_Katrina['agricultureStructureIndicator'].value_counts(dropna=False)"
      ],
      "execution_count": null,
      "outputs": []
    },
    {
      "cell_type": "markdown",
      "metadata": {
        "id": "5laU1fDnRVwj"
      },
      "source": [
        "## As Of Date\n",
        "\n",
        "The effective date of the data in the file. When time is not specified in the field, it will default to T00:00:00.000Z"
      ]
    },
    {
      "cell_type": "code",
      "metadata": {
        "id": "47AdSMb5RVwj"
      },
      "source": [
        "# asOfDate\n",
        "df_Katrina['agricultureStructureIndicator'].value_counts(dropna=False)"
      ],
      "execution_count": null,
      "outputs": []
    },
    {
      "cell_type": "markdown",
      "metadata": {
        "id": "3UC1HWj4RVwk"
      },
      "source": [
        "## Base Flood Elevation\n",
        "Base Flood Elevation (BFE) is the elevation at which there is a 1% chance per year of flooding in feet from the elevation certificate"
      ]
    },
    {
      "cell_type": "code",
      "metadata": {
        "id": "0Hujju_cRVwk"
      },
      "source": [
        "# Base flood elevation (in feet)\n",
        "df_Katrina['baseFloodElevation'].value_counts(dropna=False)"
      ],
      "execution_count": null,
      "outputs": []
    },
    {
      "cell_type": "code",
      "metadata": {
        "id": "fGchHB6PRVwl"
      },
      "source": [
        "# Base flood elevation (in feet)\n",
        "df_Katrina['baseFloodElevation'].describe().round(2)"
      ],
      "execution_count": null,
      "outputs": []
    },
    {
      "cell_type": "code",
      "metadata": {
        "id": "hX5uw3a3RVwl"
      },
      "source": [
        "# Visualise distribution of baseFloodElevation\n",
        "df_Katrina['baseFloodElevation'].hist(bins=[-1000, -100, 0, 100, 1000],facecolor='b')"
      ],
      "execution_count": null,
      "outputs": []
    },
    {
      "cell_type": "markdown",
      "metadata": {
        "id": "qiRR3vnURVwl"
      },
      "source": [
        "## Basement Enclosure Crawlspace Type\n",
        "Basement is defined for purposes of the NFIP as any level or story which has its floor subgrade on all sides.\n",
        "\n",
        "Basement structure values are as follows:\n",
        "- 0 - none;\n",
        "- 1 - Finished Basement/Enclosure;\n",
        "- 2 - Unfinished Basement/Enclosure;\n",
        "- 3 - Crawlspace;\n",
        "- 4 - Subgrade Crawlspace"
      ]
    },
    {
      "cell_type": "code",
      "metadata": {
        "id": "bhMDxoViRVwl"
      },
      "source": [
        "df_Katrina['basementEnclosureCrawlspace'].value_counts(dropna=False)"
      ],
      "execution_count": null,
      "outputs": []
    },
    {
      "cell_type": "markdown",
      "metadata": {
        "id": "iBNt469ERVwm"
      },
      "source": [
        "## Condominium Indicator \n",
        "This is an indicator of what type of condominium property is being insured. \n",
        "\n",
        "Condominium Code - 1 character:\n",
        "- Not a condominium (N);\n",
        "- An individual condominium unit owned by a unit owner, or by a condominium association (U);\n",
        "- The entire condominium building owned by the association insuring building common elements as well as building elements (additions and alterations) within all units in the building, not eligible under Condominium Master Policy (A);\n",
        "- The entire residential condominium building owned by the association eligible under Condominium Master Policy, insuring the entire condominium building common elements as well as building elements (additions and alterations) within all units in the building, (H) for High-Rise or (L) for Low-Rise; Townhouses (T);"
      ]
    },
    {
      "cell_type": "code",
      "metadata": {
        "id": "4mSOiyfoRVwm"
      },
      "source": [
        "# condominiumIndicator\n",
        "df_Katrina['condominiumIndicator'].value_counts(dropna=False)"
      ],
      "execution_count": null,
      "outputs": []
    },
    {
      "cell_type": "markdown",
      "metadata": {
        "id": "DEris0jgRVwm"
      },
      "source": [
        "## Elevated Building Indicator\n",
        "\n",
        " Yes (Y) or No (N) indicator of whether or not a building meets the NFIP definition of an elevated building. \n",
        " \n",
        " - Yes is indicated with either a 'true' or '1'.\n",
        " - No is indicated with either a 'false' or '0'. \n",
        " \n",
        "An elevated building is a no-basement building that was constructed so as to meet the following criteria:\n",
        "1. The top of the elevated floor (all A zones) or the bottom of the lowest horizontal structural member of the lowest floor (all V zones) is above ground level. \n",
        "2. The building is adequately anchored.\n",
        "3. The method of elevation is pilings, columns (posts and piers), shear walls (not in V zones), or solid foundation perimeter walls (not in V zones)"
      ]
    },
    {
      "cell_type": "code",
      "metadata": {
        "id": "-xoAFJe2RVwm"
      },
      "source": [
        "# Elevated building indicator\n",
        "df_Katrina['elevatedBuildingIndicator'].value_counts(dropna=False)"
      ],
      "execution_count": null,
      "outputs": []
    },
    {
      "cell_type": "markdown",
      "metadata": {
        "id": "TDrZ89MfRVwn"
      },
      "source": [
        "## Elevation Difference\n",
        "\n",
        "Difference in feet between the elevation of the lowest floor used for rating or the floodproofed elevation and the base flood elevation (BFE), or base flood depth, as appropriate from the elevation certificate."
      ]
    },
    {
      "cell_type": "code",
      "metadata": {
        "id": "mXM1eebMRVwn"
      },
      "source": [
        "# Elevation Difference\n",
        "df_Katrina['elevationDifference'].value_counts(dropna=False)"
      ],
      "execution_count": null,
      "outputs": []
    },
    {
      "cell_type": "markdown",
      "metadata": {
        "id": "V-_tgzA8RVwn"
      },
      "source": [
        "## Elevation Certificate Indicator\n",
        "\n",
        "Indicates if a policy has been rated with elevation certificate.\n",
        "- 1 - No Elevation Certificate, original effective date prior to October 1, 1982, with no break in insurance coverage or change in insurable interest. Policies will be rated using 'No Base Flood Elevation' +2 to +4 feet rates;\n",
        "- 2 - No Elevation Certificate, original effective date on or after October 1, 1982, with no break in insurance coverage or change in insurable interest. Policies will be rated using 'No Elevation Certificate' rates;\n",
        "- 3 - Elevation Certificate with BFE. Policies will be rated using 'With Base Flood Elevation' rates;\n",
        "- 4 - Elevation Certificate without BFE. Policies will be rated using 'No Base Flood Elevation' rates;"
      ]
    },
    {
      "cell_type": "code",
      "metadata": {
        "id": "ygeoHjgPRVwn"
      },
      "source": [
        "# Elevated building indicator\n",
        "df_Katrina['elevationCertificateIndicator'].value_counts(dropna=False)"
      ],
      "execution_count": null,
      "outputs": []
    },
    {
      "cell_type": "markdown",
      "metadata": {
        "id": "eUa3qGvbRVwo"
      },
      "source": [
        "## House Of Worship\n",
        "\n",
        "Yes (Y) or No (N) indicator of whether or not a building is reported as being a house of worship in the policy application.\n",
        "- Yes is indicated with either a 'true' or '1'.\n",
        "- No is indicated with either a 'false' or '0'"
      ]
    },
    {
      "cell_type": "code",
      "metadata": {
        "id": "GKFt-WR0RVwo"
      },
      "source": [
        "# House of worship\n",
        "df_Katrina['houseWorship'].value_counts(dropna=False)"
      ],
      "execution_count": null,
      "outputs": []
    },
    {
      "cell_type": "markdown",
      "metadata": {
        "id": "gbq8JL5wRVwo"
      },
      "source": [
        "## Location Of Contents\n",
        "\n",
        "Code that indicates where within the structure the contents are located.\n",
        "- 1 - Basement/Enclosure/Crawlspace/Subgrade Crawlspace only;\n",
        "- 2 - Basement/Enclosure/Crawlspace/Subgrade Crawlspace and above;\n",
        "- 3 - Lowest floor only above ground level (No basement/enclosure/crawlspace/subgrade crawlspace);\n",
        "- 4 - Lowest floor above ground level and higher floors (No basement/enclosure/crawlspace/subgrade crawlspace);\n",
        "- 5 - Above ground level more than one full floor;\n",
        "- 6 - Manufactured (mobile) home or travel trailer on foundation;"
      ]
    },
    {
      "cell_type": "code",
      "metadata": {
        "id": "31wvbhy9RVwo"
      },
      "source": [
        "# Location Of Contents\n",
        "df_Katrina['locationOfContents'].value_counts(dropna=False)"
      ],
      "execution_count": null,
      "outputs": []
    },
    {
      "cell_type": "markdown",
      "metadata": {
        "id": "Zt_qeeGqRVwo"
      },
      "source": [
        "## Amount Paid On Contents Claim\n",
        "Dollar amount paid on the contents claim. In some instances, a negative amount may appear, which occurs when a check issued to a policy holder isn't cashed and has to be re-issued"
      ]
    },
    {
      "cell_type": "code",
      "metadata": {
        "id": "p2VimmDmRVwp"
      },
      "source": [
        "# Amount Paid On Contents Claim\n",
        "df_Katrina['amountPaidOnContentsClaim'].value_counts(dropna=False)"
      ],
      "execution_count": null,
      "outputs": []
    },
    {
      "cell_type": "markdown",
      "metadata": {
        "id": "QsSTQsaZRVwp"
      },
      "source": [
        "## Total Contents Insurance Coverage\n",
        "\n",
        "Total Insurance Amount in dollars on the Contents"
      ]
    },
    {
      "cell_type": "code",
      "metadata": {
        "id": "heQVTyogRVwp"
      },
      "source": [
        "# Total Contents Insurance Coverage\n",
        "df_Katrina['totalContentsInsuranceCoverage'].value_counts(dropna=False)"
      ],
      "execution_count": null,
      "outputs": []
    },
    {
      "cell_type": "markdown",
      "metadata": {
        "id": "7JZF_-wARVwp"
      },
      "source": [
        "## Lowest Adjacent Grade\n",
        "Lowest natural grade adjacent to the insured structure prior to excavating or filling. The difference in feet of the lowest natural grade adjacent to the building from the reference level of the building"
      ]
    },
    {
      "cell_type": "code",
      "metadata": {
        "id": "PM8ItrZURVwp"
      },
      "source": [
        "# Lowest Adjacent Grade\n",
        "df_Katrina['lowestAdjacentGrade'].value_counts(dropna=False)"
      ],
      "execution_count": null,
      "outputs": []
    },
    {
      "cell_type": "markdown",
      "metadata": {
        "id": "a7Og1bwVRVwp"
      },
      "source": [
        "## Lowest Floor Elevation\n",
        "\n",
        "A building's lowest floor is the floor or level (including basement/enclosure/crawlspace/subgrade crawlspace) that is used as the point of reference when rating a building. This includes the level to which a building is floodproofed*. The elevation in feet of the reference level of the building from the elevation certificate"
      ]
    },
    {
      "cell_type": "code",
      "metadata": {
        "id": "C73JDPcMRVwq"
      },
      "source": [
        "# Lowest Floor Elevation\n",
        "df_Katrina['lowestFloorElevation'].value_counts(dropna=False)"
      ],
      "execution_count": null,
      "outputs": []
    },
    {
      "cell_type": "markdown",
      "metadata": {
        "id": "BKQEn6SkRVwq"
      },
      "source": [
        "## Number Of Floors In The Insured Building\n",
        "\n",
        "Code that indicates the number of floors in the insured building.\n",
        "- 1 = One floor;\n",
        "- 2 = Two floors;\n",
        "- 3 = Three or more floors;\n",
        "- 4 = Split-level;\n",
        "- 5 = Manufactured (mobile) home or travel trailer on foundation;\n",
        "- 6 = Townhouse/Rowhouse with three or more floors (RCBAP Low-rise only);"
      ]
    },
    {
      "cell_type": "code",
      "metadata": {
        "id": "7XmYS54xRVwq"
      },
      "source": [
        "# Number of Floors\n",
        "df_Katrina['numberOfFloorsInTheInsuredBuilding'].value_counts(dropna=False)"
      ],
      "execution_count": null,
      "outputs": []
    },
    {
      "cell_type": "markdown",
      "metadata": {
        "id": "F0TEdKXzRVwq"
      },
      "source": [
        "## Obstruction Type\n",
        "\n",
        "Code that gives the type of obstruction (if any) in the enclosure (if any).\n",
        "\n",
        "- With obstruction: enclosure/crawlspace with proper openings not used for rating (not applicable in V zones) - **15**;\n",
        "- With obstruction: less than 300 sq. ft. with breakaway walls, but no machinery or equipment attached to building below lowest elevated floor, or elevation of machinery/equipment is at or above Base Flood Elevation - **20**;\n",
        "- With obstruction: less than 300 sq. ft. with breakaway walls or finished enclosure and with machinery or equipment attached to building below lowest elevated floor, and elevation of machinery/equipment is below Base Flood Elevation - **24**;\n",
        "- With obstruction: 300 sq. ft. or more with breakaway walls, but no machinery or equipment attached to building below the Base Flood Elevation - **30**;\n",
        "- With obstruction: 300 sq. ft. or more with breakaway walls or finished enclosure and with machinery or equipment attached to building below the Base Flood Elevation - **34**;\n",
        "- With obstruction: no walls, but the elevation of machinery or equipment attached to building is below Base Flood Elevation (NOTE: Use Obstruction Type '10' and Without Obstruction Rate Table if the elevation of machinery/equipment is at or above Base Flood Elevation.) - **40**;\n",
        "- With obstruction: nonbreakaway walls/crawlspace or finished enclosure with no machinery or equipment attached to building below lowest elevated floor - **50**;\n",
        "- With obstruction: nonbreakaway walls/crawlspace or finished enclosure with machinery or equipment attached to building below lowest elevated floor - **54**;\n",
        "- With obstruction - **60**;\n",
        "- With Certification subgrade crawlspace (AE, A01-A30, unnumbered A, AO, AH, AOB, AHB zones) - **70**;\n",
        "- Without Certification subgrade crawlspace (all zones) - **80**;\n",
        "- With Enclosure: Elevated buildings with elevator below the BFE in A zones. No other enclosure below the BFE. - **90**;\n",
        "- Free of Obstruction: Elevated buildings with lattice, slats, or shutters (including louvers) enclosing the elevator below the BFE in V zones. No other obstruction or machinery and equipment (M&E) servicing the building located below the BFE. The building will be rated free of obstruction with the V zone elevator loading added to the building basic limit. - **91**;\n",
        "- With Enclosure: Elevated buildings with elevator below the BFE in A zones. Enclosure below the BFE has no proper openings, is finished, or is used for other than parking, building access, or storage. - **92**;\n",
        "- With Obstruction: Elevated buildings with elevator below the BFE in V zones. No other obstruction or machinery and equipment (M&E) servicing the building located below the BFE. - **94**;\n",
        "- With Obstruction: Elevated buildings with elevator below the BFE in V zones. Breakaway wall obstruction is unfinished and elevator and obstruction are located below the BFE, but no machinery and equipment (M&E) servicing the building is located below the BFE. - **95**;\n",
        "- With Obstruction: Elevated buildings with elevator below the BFE in V zones. Breakaway wall obstruction is finished or is used for other than parking, building access, or storage. - **96**;\n",
        "- With Obstruction: Elevated buildings with elevator below the BFE in V zones. No other obstruction, but has M&E servicing the building located below the BFE. - **97**;\n",
        "- With Obstruction: Elevated buildings with elevator below the BFE in V zones. Breakaway walls obstruction and M&E servicing the building are located below the BFE. - **98**;"
      ]
    },
    {
      "cell_type": "code",
      "metadata": {
        "id": "uONvgHxiRVwx"
      },
      "source": [
        "# Obstruction Type\n",
        "df_Katrina['obstructionType'].value_counts(dropna=False)"
      ],
      "execution_count": null,
      "outputs": []
    },
    {
      "cell_type": "markdown",
      "metadata": {
        "id": "b8pX-vEyRVwx"
      },
      "source": [
        "## Occupancy Type\n",
        "\n",
        "Code indicating the use and occupancy type of the insured structure. One-digit code:\n",
        "- 1 = single family residence;\n",
        "- 2 = 2 to 4 unit residential building;\n",
        "- 3 = residential building with more than 4 units;\n",
        "- 4 = Non-residential building;"
      ]
    },
    {
      "cell_type": "code",
      "metadata": {
        "id": "fer6xZBbRVwx"
      },
      "source": [
        "df_Katrina['occupancyType'].value_counts(dropna=False)"
      ],
      "execution_count": null,
      "outputs": []
    },
    {
      "cell_type": "markdown",
      "metadata": {
        "id": "Uyo9vpn_RVwx"
      },
      "source": [
        "What stand 6 for?"
      ]
    },
    {
      "cell_type": "markdown",
      "metadata": {
        "id": "kOQuDLoERVwy"
      },
      "source": [
        "## Original NB Date\n",
        "\n",
        "The original date of the flood policy. When time is not specified in the field, it will default to T00:00:00.000Z"
      ]
    },
    {
      "cell_type": "code",
      "metadata": {
        "id": "4KAc0056RVwy"
      },
      "source": [
        "df_Katrina['originalNBDate'].value_counts(dropna=False)"
      ],
      "execution_count": null,
      "outputs": []
    },
    {
      "cell_type": "markdown",
      "metadata": {
        "id": "AYgBMslSRVwy"
      },
      "source": [
        "## Original Construction Date\n",
        "The original date of the construction of the building. When time is not specified in the field, it will default to T00:00:00.000Z"
      ]
    },
    {
      "cell_type": "code",
      "metadata": {
        "id": "icxAmDT7RVwy"
      },
      "source": [
        "df_Katrina['originalConstructionDate'].value_counts(dropna=False)"
      ],
      "execution_count": null,
      "outputs": []
    },
    {
      "cell_type": "code",
      "metadata": {
        "id": "ZklDCsf9RVwy"
      },
      "source": [
        "# new data frame with split value columns \n",
        "originalConstructionDate_splited = df_Katrina['originalConstructionDate'].str.split(\"T\", n = 1, expand = True) "
      ],
      "execution_count": null,
      "outputs": []
    },
    {
      "cell_type": "code",
      "metadata": {
        "id": "qjp0R4xnRVwz"
      },
      "source": [
        "originalConstructionDate_splited"
      ],
      "execution_count": null,
      "outputs": []
    },
    {
      "cell_type": "code",
      "metadata": {
        "id": "ypHkge1nRVwz"
      },
      "source": [
        "# making separate first name column from new data frame \n",
        "df_Katrina['ConstructionDate']= originalConstructionDate_splited[0] "
      ],
      "execution_count": null,
      "outputs": []
    },
    {
      "cell_type": "code",
      "metadata": {
        "id": "z9DUougBRVwz"
      },
      "source": [
        "df_Katrina['ConstructionDate']"
      ],
      "execution_count": null,
      "outputs": []
    },
    {
      "cell_type": "code",
      "metadata": {
        "id": "IcuBiCEwRVwz"
      },
      "source": [
        "# Transform features expressing a date from object to Python datetime\n",
        "pd.to_datetime(df_Katrina['ConstructionDate'], dayfirst=False, yearfirst=True)"
      ],
      "execution_count": null,
      "outputs": []
    },
    {
      "cell_type": "code",
      "metadata": {
        "id": "2T_TdXunRVw0"
      },
      "source": [
        "df_Katrina['ConstructionDate'].describe()"
      ],
      "execution_count": null,
      "outputs": []
    },
    {
      "cell_type": "code",
      "metadata": {
        "id": "tTr-xUcmRVw0"
      },
      "source": [
        "# Minimum construction date\n",
        "df_Katrina['ConstructionDate'].min()"
      ],
      "execution_count": null,
      "outputs": []
    },
    {
      "cell_type": "code",
      "metadata": {
        "id": "2SvEF-YWRVw0"
      },
      "source": [
        "# Max construction date\n",
        "df_Katrina['ConstructionDate'].max()"
      ],
      "execution_count": null,
      "outputs": []
    },
    {
      "cell_type": "markdown",
      "metadata": {
        "id": "hZaDWjllRVw0"
      },
      "source": [
        "2049 ???"
      ]
    },
    {
      "cell_type": "code",
      "metadata": {
        "id": "ny_Sq6hkRVw0"
      },
      "source": [
        "# Observe instances which have a specific construction date\n",
        "df_Katrina[df_Katrina['ConstructionDate'] > '2005-08-29']"
      ],
      "execution_count": null,
      "outputs": []
    },
    {
      "cell_type": "code",
      "metadata": {
        "id": "FQRVRf3RRVw1"
      },
      "source": [
        ""
      ],
      "execution_count": null,
      "outputs": []
    },
    {
      "cell_type": "markdown",
      "metadata": {
        "id": "QC_YTx42RVw1"
      },
      "source": [
        "## Post-FIRM Construction Indicator\n",
        "\n",
        "Yes or No Indicator on whether construction was started before or after publication of the FIRM. Yes is indicated with either a 'true' or '1'. No is indicated with either a 'false' or '0'. For insurance rating purposes, buildings for which the start of construction or substantial improvement was after December 31, 1974, or on or after the effective date of the initial FIRM for the community, whichever is later, are considered Post-FIRM construction"
      ]
    },
    {
      "cell_type": "code",
      "metadata": {
        "id": "PmJ3Vg3fRVw1"
      },
      "source": [
        "df_Katrina['postFIRMConstructionIndicator'].value_counts(dropna=False)"
      ],
      "execution_count": null,
      "outputs": []
    },
    {
      "cell_type": "markdown",
      "metadata": {
        "id": "glpEP9f1RVw2"
      },
      "source": [
        "## Rate Method\n",
        "\n",
        " Indicates policy rating method:\n",
        " - 1 - Manual;\n",
        " - 2 - Specific;\n",
        " - 3 - Alternative;\n",
        " - 4 - V-Zone Risk Factor Rating Form;\n",
        " - 5 - Underinsured Condominium Master Policy;\n",
        " - 6 - Provisional;\n",
        " - 7 - Preferred Risk Policy (PRPs issued for eligible properties located within a non-Special Flood Hazard Area [non-SFHA]);\n",
        " - 8 - Tentative;\n",
        " - 9 - MPPP Policy;\n",
        " - A - Optional Post-1981 V Zone;\n",
        " - B - Pre-FIRM policies with elevation rating - Flood Insurance Manual rate tables;\n",
        " - E - FEMA Pre-FIRM Special Rates;\n",
        " - F - Leased Federal Property;\n",
        " - G - Group Flood Insurance Policy (GFIP);\n",
        " - P - Preferred Risk Policy (A PRP renewal issued in the first year following a map revision for an eligible property that was newly mapped into the SFHA by the map revision, or new business written for an eligible property that was newly mapped into the SFHA by a map revision effective on or after October 1, 2008 - PRP Eligibility Extension);\n",
        " - Q - Preferred Risk Policy (subsequent PRP renewals where the previous policy year was reported as a 'P' or 'Q');\n",
        " - S - FEMA Special Rates;\n",
        " - T - Severe Repetitive Loss Properties (formerly Target Group Full Risk). Effective October 1, 2013, code will no longer be valid;\n",
        " - W - Pre-FIRM policies with elevation rating - Submit-for-Rate procedures;"
      ]
    },
    {
      "cell_type": "code",
      "metadata": {
        "id": "h_eVvLNZRVw2"
      },
      "source": [
        "# Rate Method\n",
        "df_Katrina['rateMethod'].value_counts(dropna=False)"
      ],
      "execution_count": null,
      "outputs": []
    },
    {
      "cell_type": "code",
      "metadata": {
        "id": "iqKa7bGHRVw2"
      },
      "source": [
        ""
      ],
      "execution_count": null,
      "outputs": []
    },
    {
      "cell_type": "code",
      "metadata": {
        "id": "UZTL3B82RVw3"
      },
      "source": [
        "# Check missing values \n",
        "msno.matrix(df_Katrina)"
      ],
      "execution_count": null,
      "outputs": []
    },
    {
      "cell_type": "code",
      "metadata": {
        "id": "L4kFFsDvRVw3"
      },
      "source": [
        "df_Katrina.columns"
      ],
      "execution_count": null,
      "outputs": []
    },
    {
      "cell_type": "code",
      "metadata": {
        "id": "yqqf7-8fRVw3"
      },
      "source": [
        "df_Katrina['numberOfFloorsInTheInsuredBuilding'].value_counts()"
      ],
      "execution_count": null,
      "outputs": []
    },
    {
      "cell_type": "markdown",
      "metadata": {
        "id": "_EybTmxhRVw4"
      },
      "source": [
        "# Select attributes for ml model"
      ]
    },
    {
      "cell_type": "code",
      "metadata": {
        "id": "vBEzRzWWRVw4"
      },
      "source": [
        "df_Katrina_selected = df_Katrina[['censusTract', 'floodZone_grouped',\n",
        "                                  'totalBuildingInsuranceCoverage', 'elevatedBuildingIndicator',\n",
        "                                  'numberOfFloorsInTheInsuredBuilding',\n",
        "                                  'amountPaidOnBuildingClaim']]"
      ],
      "execution_count": null,
      "outputs": []
    },
    {
      "cell_type": "code",
      "metadata": {
        "id": "QIsrAfrIRVw4"
      },
      "source": [
        "# Check missing values \n",
        "msno.matrix(df_Katrina_selected)"
      ],
      "execution_count": null,
      "outputs": []
    },
    {
      "cell_type": "code",
      "metadata": {
        "id": "bdTeEbVuRVw5"
      },
      "source": [
        ""
      ],
      "execution_count": null,
      "outputs": []
    }
  ]
}